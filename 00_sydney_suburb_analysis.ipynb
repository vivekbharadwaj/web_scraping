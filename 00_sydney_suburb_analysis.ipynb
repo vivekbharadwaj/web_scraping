{
 "cells": [
  {
   "cell_type": "markdown",
   "metadata": {},
   "source": [
    "**What I want to do:** Get suburb information from microburbs (fantastic site btw) and understand which place would be ideal for us to move next.\n",
    "\n",
    "Microburbs is a fantastic site that has aggregated useful information from several government sources as well as made intelligent derivations (pretty much what I would have done with the raw information - only more detailed and smarter!). However, the only way to see information in microburbs is through a map hover feature which makes it really hard to see and compare information from  all the surrounding suburbs of my suburb of interest. So let me get information of all the suburbs and then simply compare them side by side."
   ]
  },
  {
   "cell_type": "markdown",
   "metadata": {},
   "source": [
    "## 1. Admin stuff"
   ]
  },
  {
   "cell_type": "code",
   "execution_count": 1,
   "metadata": {
    "collapsed": false
   },
   "outputs": [],
   "source": [
    "import bs4\n",
    "from bs4 import BeautifulSoup\n",
    "from urllib2 import urlopen\n",
    "import pandas as pd\n",
    "import re\n",
    "import numpy as np\n",
    "from time import sleep\n",
    "%matplotlib inline\n",
    "import pylab as plt\n",
    "import os\n",
    "import warnings\n",
    "import time"
   ]
  },
  {
   "cell_type": "markdown",
   "metadata": {},
   "source": [
    "## 2. Source suburb html"
   ]
  },
  {
   "cell_type": "markdown",
   "metadata": {},
   "source": [
    "I hovered over the inner west region of Sydney in microburbs.com.au and got the areas-list element upon inspection. Will go ahead and store this in a variable and extract info from the html."
   ]
  },
  {
   "cell_type": "code",
   "execution_count": 2,
   "metadata": {
    "collapsed": true
   },
   "outputs": [],
   "source": [
    "baseid = 'https://www.microburbs.com.au'"
   ]
  },
  {
   "cell_type": "code",
   "execution_count": 3,
   "metadata": {
    "collapsed": true
   },
   "outputs": [],
   "source": [
    "# open the file and read as a single buffer. Close the file after reading successfully\n",
    "fd = open('dict_burb_html', 'r')\n",
    "cache = fd.read()\n",
    "fd.close()"
   ]
  },
  {
   "cell_type": "code",
   "execution_count": 4,
   "metadata": {
    "collapsed": true
   },
   "outputs": [],
   "source": [
    "# this line of code splits ther html I've collected into burb locations. What I want to do is mine the html and collect burbids and burblinks\n",
    "dict_burb_html = cache.replace('\\n','').split(',')"
   ]
  },
  {
   "cell_type": "markdown",
   "metadata": {},
   "source": [
    "## 3. Mine html and get the burbids/burblinks"
   ]
  },
  {
   "cell_type": "code",
   "execution_count": 5,
   "metadata": {
    "collapsed": true
   },
   "outputs": [],
   "source": [
    "# write a function for this:\n",
    "def get_burbid_and_burblink(location, html_codedump, baseid = 'https://www.microburbs.com.au'):\n",
    "    soup = BeautifulSoup(html_codedump, \"lxml\")\n",
    "    burbid=[]; burblink = []\n",
    "    for a in soup.find_all('a', href=True):\n",
    "        burbid.append(a.string.string.encode('utf-8'))\n",
    "        burblink.append(a['href'])\n",
    "    df_temp = pd.DataFrame({'location':[location for x in burbid],'burbid':burbid,'burblink':burblink})\n",
    "    df_temp['burblink'] = df_temp['burblink'].apply(lambda x: baseid+x)\n",
    "    return df_temp"
   ]
  },
  {
   "cell_type": "code",
   "execution_count": 6,
   "metadata": {
    "collapsed": false
   },
   "outputs": [],
   "source": [
    "df_burbs = pd.DataFrame()\n",
    "for burb in dict_burb_html:\n",
    "    df_burbs = pd.concat((df_burbs, get_burbid_and_burblink(burb.split('|')[0],burb.split('|')[1])))"
   ]
  },
  {
   "cell_type": "code",
   "execution_count": 7,
   "metadata": {
    "collapsed": false
   },
   "outputs": [
    {
     "data": {
      "text/plain": [
       "(148, 3)"
      ]
     },
     "execution_count": 7,
     "metadata": {},
     "output_type": "execute_result"
    }
   ],
   "source": [
    "df_burbs.shape"
   ]
  },
  {
   "cell_type": "code",
   "execution_count": 8,
   "metadata": {
    "collapsed": false
   },
   "outputs": [],
   "source": [
    "df_burbs.burbid = pd.to_numeric(df_burbs.burbid, errors='coerce').fillna(0).astype(np.int64)"
   ]
  },
  {
   "cell_type": "code",
   "execution_count": 9,
   "metadata": {
    "collapsed": true
   },
   "outputs": [],
   "source": [
    "# change burb dataframe index\n",
    "df_burbs.set_index('burbid',inplace=True)"
   ]
  },
  {
   "cell_type": "code",
   "execution_count": 10,
   "metadata": {
    "collapsed": false
   },
   "outputs": [
    {
     "data": {
      "text/html": [
       "<div>\n",
       "<style>\n",
       "    .dataframe thead tr:only-child th {\n",
       "        text-align: right;\n",
       "    }\n",
       "\n",
       "    .dataframe thead th {\n",
       "        text-align: left;\n",
       "    }\n",
       "\n",
       "    .dataframe tbody tr th {\n",
       "        vertical-align: top;\n",
       "    }\n",
       "</style>\n",
       "<table border=\"1\" class=\"dataframe\">\n",
       "  <thead>\n",
       "    <tr style=\"text-align: right;\">\n",
       "      <th></th>\n",
       "      <th>burblink</th>\n",
       "      <th>location</th>\n",
       "    </tr>\n",
       "    <tr>\n",
       "      <th>burbid</th>\n",
       "      <th></th>\n",
       "      <th></th>\n",
       "    </tr>\n",
       "  </thead>\n",
       "  <tbody>\n",
       "    <tr>\n",
       "      <th>1141559</th>\n",
       "      <td>https://www.microburbs.com.au/NSW/Sydney/Mosman-Municipality/Mosman/1141559</td>\n",
       "      <td>Mosman near wharf</td>\n",
       "    </tr>\n",
       "    <tr>\n",
       "      <th>1141560</th>\n",
       "      <td>https://www.microburbs.com.au/NSW/Sydney/Mosman-Municipality/Mosman/1141560</td>\n",
       "      <td>Mosman near wharf</td>\n",
       "    </tr>\n",
       "    <tr>\n",
       "      <th>1141549</th>\n",
       "      <td>https://www.microburbs.com.au/NSW/Sydney/Mosman-Municipality/Mosman/1141549</td>\n",
       "      <td>Mosman near wharf</td>\n",
       "    </tr>\n",
       "    <tr>\n",
       "      <th>1141564</th>\n",
       "      <td>https://www.microburbs.com.au/NSW/Sydney/Mosman-Municipality/Mosman/1141564</td>\n",
       "      <td>Mosman near wharf</td>\n",
       "    </tr>\n",
       "    <tr>\n",
       "      <th>1141554</th>\n",
       "      <td>https://www.microburbs.com.au/NSW/Sydney/Mosman-Municipality/Mosman/1141554</td>\n",
       "      <td>Mosman near wharf</td>\n",
       "    </tr>\n",
       "  </tbody>\n",
       "</table>\n",
       "</div>"
      ],
      "text/plain": [
       "                                                                            burblink  \\\n",
       "burbid                                                                                 \n",
       "1141559  https://www.microburbs.com.au/NSW/Sydney/Mosman-Municipality/Mosman/1141559   \n",
       "1141560  https://www.microburbs.com.au/NSW/Sydney/Mosman-Municipality/Mosman/1141560   \n",
       "1141549  https://www.microburbs.com.au/NSW/Sydney/Mosman-Municipality/Mosman/1141549   \n",
       "1141564  https://www.microburbs.com.au/NSW/Sydney/Mosman-Municipality/Mosman/1141564   \n",
       "1141554  https://www.microburbs.com.au/NSW/Sydney/Mosman-Municipality/Mosman/1141554   \n",
       "\n",
       "                  location  \n",
       "burbid                      \n",
       "1141559  Mosman near wharf  \n",
       "1141560  Mosman near wharf  \n",
       "1141549  Mosman near wharf  \n",
       "1141564  Mosman near wharf  \n",
       "1141554  Mosman near wharf  "
      ]
     },
     "execution_count": 10,
     "metadata": {},
     "output_type": "execute_result"
    }
   ],
   "source": [
    "pd.options.display.max_colwidth = 100\n",
    "df_burbs.tail()"
   ]
  },
  {
   "cell_type": "code",
   "execution_count": 11,
   "metadata": {
    "collapsed": false
   },
   "outputs": [
    {
     "data": {
      "text/plain": [
       "burbid\n",
       "1139512    https://www.microburbs.com.au/NSW/Sydney/Inner-West/Ashfield-Municipality/Summer-Hill-%28Ashfield----NSW%29/1139512\n",
       "Name: burblink, dtype: object"
      ]
     },
     "execution_count": 11,
     "metadata": {},
     "output_type": "execute_result"
    }
   ],
   "source": [
    "pd.options.display.max_colwidth = 200\n",
    "df_burbs.burblink.head(1)"
   ]
  },
  {
   "cell_type": "markdown",
   "metadata": {
    "collapsed": true
   },
   "source": [
    "## 4. Mine html elements to get scores - deprecated. Use Method 2"
   ]
  },
  {
   "cell_type": "code",
   "execution_count": null,
   "metadata": {
    "collapsed": true
   },
   "outputs": [],
   "source": [
    "blah. Placeholder to stop code execution flow. Go to method 2."
   ]
  },
  {
   "cell_type": "code",
   "execution_count": 13,
   "metadata": {
    "collapsed": true
   },
   "outputs": [],
   "source": [
    "def get_burb_scores(burb_full_link):\n",
    "    # parse the contents of the link and store inside the soup\n",
    "    html = urlopen(burb_full_link).read()  \n",
    "    soup = BeautifulSoup(html, 'lxml')\n",
    "    \n",
    "    # this class has all the tabular info\n",
    "    tab = soup.findAll('div', attrs = {'class' : 'col-sm-6 col-lg-5'})\n",
    "    \n",
    "    scores=[]\n",
    "    for targetElements in soup.findAll('div', attrs = {'class' : 'col-sm-6 col-lg-5'}):\n",
    "        for individual_score in targetElements.findAll('span', attrs = {'class' : 'human-score-value'}):\n",
    "            scores.append(int(individual_score.text.strip().encode('utf-8')))\n",
    "    \n",
    "    return scores"
   ]
  },
  {
   "cell_type": "code",
   "execution_count": 48,
   "metadata": {
    "collapsed": false
   },
   "outputs": [
    {
     "name": "stdout",
     "output_type": "stream",
     "text": [
      "('1141549', 'completed. sleeping for 10 seconds...')\n",
      "('1141564', 'completed. sleeping for 10 seconds...')\n",
      "('1141554', 'completed. sleeping for 10 seconds...')\n"
     ]
    },
    {
     "data": {
      "text/plain": [
       "{'1141549': [7, 10, 10, 8, 9, 9, 9, 9, 10],\n",
       " '1141554': [7, 10, 10, 9, 9, 8, 10, 9, 10],\n",
       " '1141564': [99, 99, 99, 99, 99, 99, 99, 99, 99]}"
      ]
     },
     "execution_count": 48,
     "metadata": {},
     "output_type": "execute_result"
    }
   ],
   "source": [
    "burb_scores = {}\n",
    "for rowid,row in df_test.iterrows():\n",
    "    scores_before_check = get_burb_scores(row['burblink'])\n",
    "    if len(scores_before_check)!=9:\n",
    "        burb_scores[rowid]=np.repeat(99,9).tolist()\n",
    "    else:\n",
    "        burb_scores[rowid]=scores_before_check\n",
    "    if rowid%10==0:\n",
    "        print (rowid,'burbs completed...')\n",
    "    time.sleep(5)"
   ]
  },
  {
   "cell_type": "code",
   "execution_count": 56,
   "metadata": {
    "collapsed": false
   },
   "outputs": [
    {
     "data": {
      "text/html": [
       "<div>\n",
       "<style>\n",
       "    .dataframe thead tr:only-child th {\n",
       "        text-align: right;\n",
       "    }\n",
       "\n",
       "    .dataframe thead th {\n",
       "        text-align: left;\n",
       "    }\n",
       "\n",
       "    .dataframe tbody tr th {\n",
       "        vertical-align: top;\n",
       "    }\n",
       "</style>\n",
       "<table border=\"1\" class=\"dataframe\">\n",
       "  <thead>\n",
       "    <tr style=\"text-align: right;\">\n",
       "      <th></th>\n",
       "      <th>Hip</th>\n",
       "      <th>Family</th>\n",
       "      <th>Affluence</th>\n",
       "      <th>Safety</th>\n",
       "      <th>Lifestyle</th>\n",
       "      <th>Convenience</th>\n",
       "      <th>Tranquility</th>\n",
       "      <th>Internet</th>\n",
       "      <th>Community</th>\n",
       "    </tr>\n",
       "  </thead>\n",
       "  <tbody>\n",
       "    <tr>\n",
       "      <th>1141564</th>\n",
       "      <td>99</td>\n",
       "      <td>99</td>\n",
       "      <td>99</td>\n",
       "      <td>99</td>\n",
       "      <td>99</td>\n",
       "      <td>99</td>\n",
       "      <td>99</td>\n",
       "      <td>99</td>\n",
       "      <td>99</td>\n",
       "    </tr>\n",
       "    <tr>\n",
       "      <th>1141549</th>\n",
       "      <td>7</td>\n",
       "      <td>10</td>\n",
       "      <td>10</td>\n",
       "      <td>8</td>\n",
       "      <td>9</td>\n",
       "      <td>9</td>\n",
       "      <td>9</td>\n",
       "      <td>9</td>\n",
       "      <td>10</td>\n",
       "    </tr>\n",
       "    <tr>\n",
       "      <th>1141554</th>\n",
       "      <td>7</td>\n",
       "      <td>10</td>\n",
       "      <td>10</td>\n",
       "      <td>9</td>\n",
       "      <td>9</td>\n",
       "      <td>8</td>\n",
       "      <td>10</td>\n",
       "      <td>9</td>\n",
       "      <td>10</td>\n",
       "    </tr>\n",
       "  </tbody>\n",
       "</table>\n",
       "</div>"
      ],
      "text/plain": [
       "         Hip  Family  Affluence  Safety  Lifestyle  Convenience  Tranquility  \\\n",
       "1141564   99      99         99      99         99           99           99   \n",
       "1141549    7      10         10       8          9            9            9   \n",
       "1141554    7      10         10       9          9            8           10   \n",
       "\n",
       "         Internet  Community  \n",
       "1141564        99         99  \n",
       "1141549         9         10  \n",
       "1141554         9         10  "
      ]
     },
     "execution_count": 56,
     "metadata": {},
     "output_type": "execute_result"
    }
   ],
   "source": [
    "df_test1 = pd.DataFrame.from_dict(burb_scores, orient='index')\n",
    "df_test1.columns = ['Hip','Family','Affluence','Safety','Lifestyle','Convenience','Tranquility','Internet','Community']\n",
    "df_test1"
   ]
  },
  {
   "cell_type": "code",
   "execution_count": 58,
   "metadata": {
    "collapsed": false
   },
   "outputs": [
    {
     "data": {
      "text/html": [
       "<div>\n",
       "<style>\n",
       "    .dataframe thead tr:only-child th {\n",
       "        text-align: right;\n",
       "    }\n",
       "\n",
       "    .dataframe thead th {\n",
       "        text-align: left;\n",
       "    }\n",
       "\n",
       "    .dataframe tbody tr th {\n",
       "        vertical-align: top;\n",
       "    }\n",
       "</style>\n",
       "<table border=\"1\" class=\"dataframe\">\n",
       "  <thead>\n",
       "    <tr style=\"text-align: right;\">\n",
       "      <th></th>\n",
       "      <th>burblink</th>\n",
       "      <th>location</th>\n",
       "      <th>Hip</th>\n",
       "      <th>Family</th>\n",
       "      <th>Affluence</th>\n",
       "      <th>Safety</th>\n",
       "      <th>Lifestyle</th>\n",
       "      <th>Convenience</th>\n",
       "      <th>Tranquility</th>\n",
       "      <th>Internet</th>\n",
       "      <th>Community</th>\n",
       "    </tr>\n",
       "  </thead>\n",
       "  <tbody>\n",
       "    <tr>\n",
       "      <th>1141549</th>\n",
       "      <td>https://www.microburbs.com.au/NSW/Sydney/Mosman-Municipality/Mosman/1141549</td>\n",
       "      <td>Mosman near wharf</td>\n",
       "      <td>7</td>\n",
       "      <td>10</td>\n",
       "      <td>10</td>\n",
       "      <td>8</td>\n",
       "      <td>9</td>\n",
       "      <td>9</td>\n",
       "      <td>9</td>\n",
       "      <td>9</td>\n",
       "      <td>10</td>\n",
       "    </tr>\n",
       "    <tr>\n",
       "      <th>1141554</th>\n",
       "      <td>https://www.microburbs.com.au/NSW/Sydney/Mosman-Municipality/Mosman/1141554</td>\n",
       "      <td>Mosman near wharf</td>\n",
       "      <td>7</td>\n",
       "      <td>10</td>\n",
       "      <td>10</td>\n",
       "      <td>9</td>\n",
       "      <td>9</td>\n",
       "      <td>8</td>\n",
       "      <td>10</td>\n",
       "      <td>9</td>\n",
       "      <td>10</td>\n",
       "    </tr>\n",
       "    <tr>\n",
       "      <th>1141564</th>\n",
       "      <td>https://www.microburbs.com.au/NSW/Sydney/Mosman-Municipality/Mosman/1141564</td>\n",
       "      <td>Mosman near wharf</td>\n",
       "      <td>99</td>\n",
       "      <td>99</td>\n",
       "      <td>99</td>\n",
       "      <td>99</td>\n",
       "      <td>99</td>\n",
       "      <td>99</td>\n",
       "      <td>99</td>\n",
       "      <td>99</td>\n",
       "      <td>99</td>\n",
       "    </tr>\n",
       "  </tbody>\n",
       "</table>\n",
       "</div>"
      ],
      "text/plain": [
       "                                                                            burblink  \\\n",
       "1141549  https://www.microburbs.com.au/NSW/Sydney/Mosman-Municipality/Mosman/1141549   \n",
       "1141554  https://www.microburbs.com.au/NSW/Sydney/Mosman-Municipality/Mosman/1141554   \n",
       "1141564  https://www.microburbs.com.au/NSW/Sydney/Mosman-Municipality/Mosman/1141564   \n",
       "\n",
       "                  location  Hip  Family  Affluence  Safety  Lifestyle  \\\n",
       "1141549  Mosman near wharf    7      10         10       8          9   \n",
       "1141554  Mosman near wharf    7      10         10       9          9   \n",
       "1141564  Mosman near wharf   99      99         99      99         99   \n",
       "\n",
       "         Convenience  Tranquility  Internet  Community  \n",
       "1141549            9            9         9         10  \n",
       "1141554            8           10         9         10  \n",
       "1141564           99           99        99         99  "
      ]
     },
     "execution_count": 58,
     "metadata": {},
     "output_type": "execute_result"
    }
   ],
   "source": [
    "pd.merge(left=df_burbs, right=df_test1, left_index=True, right_index=True)"
   ]
  },
  {
   "cell_type": "markdown",
   "metadata": {},
   "source": [
    "My main concern with this method is the 99 I need to enter. Even if only 1 value is not populated, the function is not smart enough to map the values to the correct column name (because of the hardcoding). So I need to forego the entire burb, which is undesirable. Lets see if there is a better method."
   ]
  },
  {
   "cell_type": "markdown",
   "metadata": {
    "collapsed": true
   },
   "source": [
    "## 5. Explore html element for scores - Method 2"
   ]
  },
  {
   "cell_type": "code",
   "execution_count": 147,
   "metadata": {
    "collapsed": true
   },
   "outputs": [],
   "source": [
    "burbid=1141564\n",
    "burb_full_link = 'https://www.microburbs.com.au/NSW/Sydney/Mosman-Municipality/Mosman/1141564'"
   ]
  },
  {
   "cell_type": "code",
   "execution_count": 64,
   "metadata": {
    "collapsed": true
   },
   "outputs": [],
   "source": [
    "html = urlopen(burb_full_link).read()  \n",
    "soup = BeautifulSoup(html, 'lxml')\n",
    "tab = soup.findAll('div', attrs = {'class' : 'col-sm-6 col-lg-5'})"
   ]
  },
  {
   "cell_type": "code",
   "execution_count": 145,
   "metadata": {
    "collapsed": false
   },
   "outputs": [
    {
     "data": {
      "text/plain": [
       "{'Affluence Score': 10, 'Communications Score': 4, 'Safety Score': 10}"
      ]
     },
     "execution_count": 145,
     "metadata": {},
     "output_type": "execute_result"
    }
   ],
   "source": [
    "dict={}\n",
    "for targetElements in soup.findAll('div', attrs = {'class' : 'col-sm-6 col-lg-5'}):\n",
    "    for individual_score in targetElements.findAll('span', attrs = {'class' : 'human-score-value'}):\n",
    "        dict[individual_score.parent.find('span', attrs = {'class' : 'title'}).text.strip().encode('utf-8')]=int(individual_score.text.strip().encode('utf-8'))\n",
    "dict"
   ]
  },
  {
   "cell_type": "code",
   "execution_count": 149,
   "metadata": {
    "collapsed": false
   },
   "outputs": [
    {
     "data": {
      "text/html": [
       "<div>\n",
       "<style>\n",
       "    .dataframe thead tr:only-child th {\n",
       "        text-align: right;\n",
       "    }\n",
       "\n",
       "    .dataframe thead th {\n",
       "        text-align: left;\n",
       "    }\n",
       "\n",
       "    .dataframe tbody tr th {\n",
       "        vertical-align: top;\n",
       "    }\n",
       "</style>\n",
       "<table border=\"1\" class=\"dataframe\">\n",
       "  <thead>\n",
       "    <tr style=\"text-align: right;\">\n",
       "      <th></th>\n",
       "      <th>Affluence Score</th>\n",
       "      <th>Communications Score</th>\n",
       "      <th>Safety Score</th>\n",
       "    </tr>\n",
       "  </thead>\n",
       "  <tbody>\n",
       "    <tr>\n",
       "      <th>1141564</th>\n",
       "      <td>10</td>\n",
       "      <td>4</td>\n",
       "      <td>10</td>\n",
       "    </tr>\n",
       "  </tbody>\n",
       "</table>\n",
       "</div>"
      ],
      "text/plain": [
       "         Affluence Score  Communications Score  Safety Score\n",
       "1141564               10                     4            10"
      ]
     },
     "execution_count": 149,
     "metadata": {},
     "output_type": "execute_result"
    }
   ],
   "source": [
    "a = pd.DataFrame(dict, index=[burbid])\n",
    "a"
   ]
  },
  {
   "cell_type": "code",
   "execution_count": 150,
   "metadata": {
    "collapsed": false
   },
   "outputs": [
    {
     "data": {
      "text/plain": [
       "{'Affluence Score': 10,\n",
       " 'Communications Score': 9,\n",
       " 'Community Score': 10,\n",
       " 'Convenience Score': 8,\n",
       " 'Family Score': 10,\n",
       " 'Hip Score': 7,\n",
       " 'Lifestyle Score': 9,\n",
       " 'Safety Score': 9,\n",
       " 'Tranquillity Score': 10}"
      ]
     },
     "execution_count": 150,
     "metadata": {},
     "output_type": "execute_result"
    }
   ],
   "source": [
    "burbid=1141554\n",
    "burb_full_link = 'https://www.microburbs.com.au/NSW/Sydney/Mosman-Municipality/Mosman/1141554'\n",
    "html = urlopen(burb_full_link).read()  \n",
    "soup = BeautifulSoup(html, 'lxml')\n",
    "dict={}\n",
    "for targetElements in soup.findAll('div', attrs = {'class' : 'col-sm-6 col-lg-5'}):\n",
    "    for individual_score in targetElements.findAll('span', attrs = {'class' : 'human-score-value'}):\n",
    "        dict[individual_score.parent.find('span', attrs = {'class' : 'title'}).text.strip().encode('utf-8')]=int(individual_score.text.strip().encode('utf-8'))\n",
    "dict"
   ]
  },
  {
   "cell_type": "code",
   "execution_count": 151,
   "metadata": {
    "collapsed": false
   },
   "outputs": [
    {
     "data": {
      "text/html": [
       "<div>\n",
       "<style>\n",
       "    .dataframe thead tr:only-child th {\n",
       "        text-align: right;\n",
       "    }\n",
       "\n",
       "    .dataframe thead th {\n",
       "        text-align: left;\n",
       "    }\n",
       "\n",
       "    .dataframe tbody tr th {\n",
       "        vertical-align: top;\n",
       "    }\n",
       "</style>\n",
       "<table border=\"1\" class=\"dataframe\">\n",
       "  <thead>\n",
       "    <tr style=\"text-align: right;\">\n",
       "      <th></th>\n",
       "      <th>Affluence Score</th>\n",
       "      <th>Communications Score</th>\n",
       "      <th>Community Score</th>\n",
       "      <th>Convenience Score</th>\n",
       "      <th>Family Score</th>\n",
       "      <th>Hip Score</th>\n",
       "      <th>Lifestyle Score</th>\n",
       "      <th>Safety Score</th>\n",
       "      <th>Tranquillity Score</th>\n",
       "    </tr>\n",
       "  </thead>\n",
       "  <tbody>\n",
       "    <tr>\n",
       "      <th>1141554</th>\n",
       "      <td>10</td>\n",
       "      <td>9</td>\n",
       "      <td>10</td>\n",
       "      <td>8</td>\n",
       "      <td>10</td>\n",
       "      <td>7</td>\n",
       "      <td>9</td>\n",
       "      <td>9</td>\n",
       "      <td>10</td>\n",
       "    </tr>\n",
       "  </tbody>\n",
       "</table>\n",
       "</div>"
      ],
      "text/plain": [
       "         Affluence Score  Communications Score  Community Score  \\\n",
       "1141554               10                     9               10   \n",
       "\n",
       "         Convenience Score  Family Score  Hip Score  Lifestyle Score  \\\n",
       "1141554                  8            10          7                9   \n",
       "\n",
       "         Safety Score  Tranquillity Score  \n",
       "1141554             9                  10  "
      ]
     },
     "execution_count": 151,
     "metadata": {},
     "output_type": "execute_result"
    }
   ],
   "source": [
    "b = pd.DataFrame(dict, index=[burbid])\n",
    "b"
   ]
  },
  {
   "cell_type": "code",
   "execution_count": 152,
   "metadata": {
    "collapsed": false
   },
   "outputs": [
    {
     "data": {
      "text/html": [
       "<div>\n",
       "<style>\n",
       "    .dataframe thead tr:only-child th {\n",
       "        text-align: right;\n",
       "    }\n",
       "\n",
       "    .dataframe thead th {\n",
       "        text-align: left;\n",
       "    }\n",
       "\n",
       "    .dataframe tbody tr th {\n",
       "        vertical-align: top;\n",
       "    }\n",
       "</style>\n",
       "<table border=\"1\" class=\"dataframe\">\n",
       "  <thead>\n",
       "    <tr style=\"text-align: right;\">\n",
       "      <th></th>\n",
       "      <th>Affluence Score</th>\n",
       "      <th>Communications Score</th>\n",
       "      <th>Community Score</th>\n",
       "      <th>Convenience Score</th>\n",
       "      <th>Family Score</th>\n",
       "      <th>Hip Score</th>\n",
       "      <th>Lifestyle Score</th>\n",
       "      <th>Safety Score</th>\n",
       "      <th>Tranquillity Score</th>\n",
       "    </tr>\n",
       "  </thead>\n",
       "  <tbody>\n",
       "    <tr>\n",
       "      <th>1141564</th>\n",
       "      <td>10</td>\n",
       "      <td>4</td>\n",
       "      <td>NaN</td>\n",
       "      <td>NaN</td>\n",
       "      <td>NaN</td>\n",
       "      <td>NaN</td>\n",
       "      <td>NaN</td>\n",
       "      <td>10</td>\n",
       "      <td>NaN</td>\n",
       "    </tr>\n",
       "    <tr>\n",
       "      <th>1141554</th>\n",
       "      <td>10</td>\n",
       "      <td>9</td>\n",
       "      <td>10.0</td>\n",
       "      <td>8.0</td>\n",
       "      <td>10.0</td>\n",
       "      <td>7.0</td>\n",
       "      <td>9.0</td>\n",
       "      <td>9</td>\n",
       "      <td>10.0</td>\n",
       "    </tr>\n",
       "  </tbody>\n",
       "</table>\n",
       "</div>"
      ],
      "text/plain": [
       "         Affluence Score  Communications Score  Community Score  \\\n",
       "1141564               10                     4              NaN   \n",
       "1141554               10                     9             10.0   \n",
       "\n",
       "         Convenience Score  Family Score  Hip Score  Lifestyle Score  \\\n",
       "1141564                NaN           NaN        NaN              NaN   \n",
       "1141554                8.0          10.0        7.0              9.0   \n",
       "\n",
       "         Safety Score  Tranquillity Score  \n",
       "1141564            10                 NaN  \n",
       "1141554             9                10.0  "
      ]
     },
     "execution_count": 152,
     "metadata": {},
     "output_type": "execute_result"
    }
   ],
   "source": [
    "pd.concat([a,b])"
   ]
  },
  {
   "cell_type": "markdown",
   "metadata": {},
   "source": [
    "Pandas is legend!"
   ]
  },
  {
   "cell_type": "markdown",
   "metadata": {},
   "source": [
    "### 5.1 Tying it all into a function"
   ]
  },
  {
   "cell_type": "code",
   "execution_count": 31,
   "metadata": {
    "collapsed": true
   },
   "outputs": [],
   "source": [
    "def get_burb_scores(burblink,burbid):\n",
    "    html = urlopen(burblink).read()  \n",
    "    soup = BeautifulSoup(html, 'lxml')\n",
    "    dict={}\n",
    "    for targetElements in soup.findAll('div', attrs = {'class' : 'col-sm-6 col-lg-5'}):\n",
    "        for individual_score in targetElements.findAll('span', attrs = {'class' : 'human-score-value'}):\n",
    "            dict[individual_score.parent.find('span', attrs = {'class' : 'title'}).text.strip().encode('utf-8')]=int(individual_score.text.strip().encode('utf-8'))\n",
    "    return pd.DataFrame(dict, index=[burbid])"
   ]
  },
  {
   "cell_type": "code",
   "execution_count": 48,
   "metadata": {
    "collapsed": false
   },
   "outputs": [],
   "source": [
    "df_info = pd.DataFrame()\n",
    "#***************************************************************************\n",
    "#Commenting out the next few lines because this was a one time activity\n",
    "# I'll read from the csv for all subsequent runs\n",
    "# counter = 0\n",
    "# for rowid,row in df_burbs.iterrows():\n",
    "#     df_info = pd.concat([df_info,get_burb_scores(row['burblink'], rowid)])\n",
    "#     counter+=1\n",
    "#     if counter%10 == 0:\n",
    "#         print (counter,' records completed...')\n",
    "#     time.sleep(10)\n",
    "# df_info.to_csv('burb_scores',index=True,header=True)\n",
    "df_scores = pd.read_csv('burb_scores', index_col=0)"
   ]
  },
  {
   "cell_type": "code",
   "execution_count": 49,
   "metadata": {
    "collapsed": false
   },
   "outputs": [
    {
     "name": "stdout",
     "output_type": "stream",
     "text": [
      "<class 'pandas.core.frame.DataFrame'>\n",
      "Int64Index: 148 entries, 1139512 to 1141554\n",
      "Data columns (total 9 columns):\n",
      "Affluence Score         148 non-null int64\n",
      "Communications Score    148 non-null int64\n",
      "Community Score         147 non-null float64\n",
      "Convenience Score       147 non-null float64\n",
      "Family Score            144 non-null float64\n",
      "Hip Score               147 non-null float64\n",
      "Lifestyle Score         147 non-null float64\n",
      "Safety Score            148 non-null int64\n",
      "Tranquillity Score      147 non-null float64\n",
      "dtypes: float64(6), int64(3)\n",
      "memory usage: 11.6 KB\n"
     ]
    }
   ],
   "source": [
    "df_scores.info()"
   ]
  },
  {
   "cell_type": "code",
   "execution_count": 50,
   "metadata": {
    "collapsed": false
   },
   "outputs": [
    {
     "data": {
      "text/html": [
       "<div>\n",
       "<style>\n",
       "    .dataframe thead tr:only-child th {\n",
       "        text-align: right;\n",
       "    }\n",
       "\n",
       "    .dataframe thead th {\n",
       "        text-align: left;\n",
       "    }\n",
       "\n",
       "    .dataframe tbody tr th {\n",
       "        vertical-align: top;\n",
       "    }\n",
       "</style>\n",
       "<table border=\"1\" class=\"dataframe\">\n",
       "  <thead>\n",
       "    <tr style=\"text-align: right;\">\n",
       "      <th></th>\n",
       "      <th>Affluence Score</th>\n",
       "      <th>Communications Score</th>\n",
       "      <th>Community Score</th>\n",
       "      <th>Convenience Score</th>\n",
       "      <th>Family Score</th>\n",
       "      <th>Hip Score</th>\n",
       "      <th>Lifestyle Score</th>\n",
       "      <th>Safety Score</th>\n",
       "      <th>Tranquillity Score</th>\n",
       "    </tr>\n",
       "  </thead>\n",
       "  <tbody>\n",
       "    <tr>\n",
       "      <th>1139512</th>\n",
       "      <td>9</td>\n",
       "      <td>9</td>\n",
       "      <td>9.0</td>\n",
       "      <td>9.0</td>\n",
       "      <td>8.0</td>\n",
       "      <td>9.0</td>\n",
       "      <td>9.0</td>\n",
       "      <td>3</td>\n",
       "      <td>7.0</td>\n",
       "    </tr>\n",
       "    <tr>\n",
       "      <th>1139514</th>\n",
       "      <td>9</td>\n",
       "      <td>9</td>\n",
       "      <td>9.0</td>\n",
       "      <td>9.0</td>\n",
       "      <td>9.0</td>\n",
       "      <td>8.0</td>\n",
       "      <td>9.0</td>\n",
       "      <td>3</td>\n",
       "      <td>7.0</td>\n",
       "    </tr>\n",
       "    <tr>\n",
       "      <th>1139501</th>\n",
       "      <td>10</td>\n",
       "      <td>9</td>\n",
       "      <td>9.0</td>\n",
       "      <td>9.0</td>\n",
       "      <td>10.0</td>\n",
       "      <td>8.0</td>\n",
       "      <td>9.0</td>\n",
       "      <td>5</td>\n",
       "      <td>8.0</td>\n",
       "    </tr>\n",
       "    <tr>\n",
       "      <th>1139502</th>\n",
       "      <td>10</td>\n",
       "      <td>9</td>\n",
       "      <td>9.0</td>\n",
       "      <td>9.0</td>\n",
       "      <td>9.0</td>\n",
       "      <td>8.0</td>\n",
       "      <td>9.0</td>\n",
       "      <td>3</td>\n",
       "      <td>8.0</td>\n",
       "    </tr>\n",
       "    <tr>\n",
       "      <th>1139516</th>\n",
       "      <td>10</td>\n",
       "      <td>9</td>\n",
       "      <td>10.0</td>\n",
       "      <td>9.0</td>\n",
       "      <td>10.0</td>\n",
       "      <td>8.0</td>\n",
       "      <td>9.0</td>\n",
       "      <td>3</td>\n",
       "      <td>8.0</td>\n",
       "    </tr>\n",
       "  </tbody>\n",
       "</table>\n",
       "</div>"
      ],
      "text/plain": [
       "         Affluence Score  Communications Score  Community Score  \\\n",
       "1139512                9                     9              9.0   \n",
       "1139514                9                     9              9.0   \n",
       "1139501               10                     9              9.0   \n",
       "1139502               10                     9              9.0   \n",
       "1139516               10                     9             10.0   \n",
       "\n",
       "         Convenience Score  Family Score  Hip Score  Lifestyle Score  \\\n",
       "1139512                9.0           8.0        9.0              9.0   \n",
       "1139514                9.0           9.0        8.0              9.0   \n",
       "1139501                9.0          10.0        8.0              9.0   \n",
       "1139502                9.0           9.0        8.0              9.0   \n",
       "1139516                9.0          10.0        8.0              9.0   \n",
       "\n",
       "         Safety Score  Tranquillity Score  \n",
       "1139512             3                 7.0  \n",
       "1139514             3                 7.0  \n",
       "1139501             5                 8.0  \n",
       "1139502             3                 8.0  \n",
       "1139516             3                 8.0  "
      ]
     },
     "execution_count": 50,
     "metadata": {},
     "output_type": "execute_result"
    }
   ],
   "source": [
    "df_scores.head()"
   ]
  },
  {
   "cell_type": "code",
   "execution_count": 54,
   "metadata": {
    "collapsed": false
   },
   "outputs": [
    {
     "data": {
      "text/plain": [
       "Mosman near wharf              10\n",
       "Macmohans poimnt near wharf     3\n",
       "Name: location, dtype: int64"
      ]
     },
     "execution_count": 54,
     "metadata": {},
     "output_type": "execute_result"
    }
   ],
   "source": [
    "df_combined = pd.merge(left=df_burbs,right=df_scores,how='inner',left_index=True,right_index=True)\n",
    "df_combined[df_combined['Safety Score']>7].location.value_counts()"
   ]
  },
  {
   "cell_type": "markdown",
   "metadata": {},
   "source": [
    "## 6. Explore html element for prices"
   ]
  },
  {
   "cell_type": "markdown",
   "metadata": {},
   "source": [
    "I'm happy with the dict approach. I should be able to map local prices as well as ethcicity by the same token."
   ]
  },
  {
   "cell_type": "code",
   "execution_count": 39,
   "metadata": {
    "collapsed": true
   },
   "outputs": [],
   "source": [
    "burbid=1141564\n",
    "burb_full_link = 'https://www.microburbs.com.au/NSW/Sydney/Mosman-Municipality/Mosman/1141564'"
   ]
  },
  {
   "cell_type": "code",
   "execution_count": 40,
   "metadata": {
    "collapsed": false
   },
   "outputs": [],
   "source": [
    "from selenium import webdriver\n",
    "driver = webdriver.Chrome()"
   ]
  },
  {
   "cell_type": "code",
   "execution_count": 41,
   "metadata": {
    "collapsed": false
   },
   "outputs": [],
   "source": [
    "def get_localprices_ethnicity_scores(burb_full_link, burbid):\n",
    "    # get the rendered html \n",
    "    driver.get(burb_full_link)\n",
    "    html2=driver.page_source\n",
    "    \n",
    "    # read all the tables present in the rendered link\n",
    "    tables = pd.read_html(html2, flavor='bs4')\n",
    "    \n",
    "    # get local prices\n",
    "    df_houseprice = tables[1].pivot_table(columns='Unnamed: 0',aggfunc='first').reset_index(drop=True).dropna(how='all').head(1) \n",
    "    \n",
    "    # get rental yield info\n",
    "    df_rent = tables[2].pivot_table(columns='Unnamed: 0',aggfunc='first').reset_index(drop=True).dropna(how='all').head(1) \n",
    "\n",
    "    # get ethnicity info\n",
    "    df_ethnicity = tables[8].pivot_table(columns='Unnamed: 0',aggfunc='first').reset_index(drop=True).dropna(how='all').head(1) \n",
    "\n",
    "    # put burbid info as a separate datafframe in order to concatenate later\n",
    "    df_id = pd.DataFrame({'id':[str(burbid)]})\n",
    "\n",
    "    # the next couple of lines of code get the corresponding scores for the id\n",
    "    dict={}\n",
    "    soup = BeautifulSoup(html2, 'lxml')\n",
    "    for targetElements in soup.findAll('div', attrs = {'class' : 'col-sm-6 col-lg-5'}):\n",
    "        for individual_score in targetElements.findAll('span', attrs = {'class' : 'human-score-value'}):\n",
    "            dict[individual_score.parent.find('span', attrs = {'class' : 'title'}).text.strip().encode('utf-8')]=int(individual_score.text.strip().encode('utf-8'))\n",
    "    df_scores = pd.DataFrame(dict, index=[str(burbid)])\n",
    "\n",
    "    df_info=pd.DataFrame()\n",
    "    df_info = pd.concat([df_houseprice,df_rent,df_ethnicity,df_id], axis=1)\n",
    "    df_info.set_index('id',inplace=True)\n",
    "    df_info = pd.concat([df_scores, df_info], axis=1)\n",
    "    \n",
    "    return df_info"
   ]
  },
  {
   "cell_type": "code",
   "execution_count": 42,
   "metadata": {
    "collapsed": false
   },
   "outputs": [
    {
     "data": {
      "text/html": [
       "<div>\n",
       "<style>\n",
       "    .dataframe thead tr:only-child th {\n",
       "        text-align: right;\n",
       "    }\n",
       "\n",
       "    .dataframe thead th {\n",
       "        text-align: left;\n",
       "    }\n",
       "\n",
       "    .dataframe tbody tr th {\n",
       "        vertical-align: top;\n",
       "    }\n",
       "</style>\n",
       "<table border=\"1\" class=\"dataframe\">\n",
       "  <thead>\n",
       "    <tr style=\"text-align: right;\">\n",
       "      <th></th>\n",
       "      <th>Affluence Score</th>\n",
       "      <th>Communications Score</th>\n",
       "      <th>Safety Score</th>\n",
       "      <th>House price growth (2013-2016)</th>\n",
       "      <th>House price per sqm growth (2013-2016)</th>\n",
       "      <th>Median house price (2016)</th>\n",
       "      <th>Median house price (3 bed, 2016)</th>\n",
       "      <th>Median house price (4 bed, 2016)</th>\n",
       "      <th>Median house price (5 bed, 2016)</th>\n",
       "      <th>Median unit price (1 bed, 2016)</th>\n",
       "      <th>...</th>\n",
       "      <th>Price per sqm</th>\n",
       "      <th>Unit price growth (2013-2016)</th>\n",
       "      <th>Median rent (3 bed house, 2015)</th>\n",
       "      <th>Median rent (3 bed unit, 2016)</th>\n",
       "      <th>Median rent (house, 2016)</th>\n",
       "      <th>Median rent (unit, 2016)</th>\n",
       "      <th>Median yield (house, 2016)</th>\n",
       "      <th>Median yield (unit, 2016)</th>\n",
       "      <th>Ancestry</th>\n",
       "      <th>Languages spoken</th>\n",
       "    </tr>\n",
       "    <tr>\n",
       "      <th>id</th>\n",
       "      <th></th>\n",
       "      <th></th>\n",
       "      <th></th>\n",
       "      <th></th>\n",
       "      <th></th>\n",
       "      <th></th>\n",
       "      <th></th>\n",
       "      <th></th>\n",
       "      <th></th>\n",
       "      <th></th>\n",
       "      <th></th>\n",
       "      <th></th>\n",
       "      <th></th>\n",
       "      <th></th>\n",
       "      <th></th>\n",
       "      <th></th>\n",
       "      <th></th>\n",
       "      <th></th>\n",
       "      <th></th>\n",
       "      <th></th>\n",
       "      <th></th>\n",
       "    </tr>\n",
       "  </thead>\n",
       "  <tbody>\n",
       "    <tr>\n",
       "      <th>1141564</th>\n",
       "      <td>10</td>\n",
       "      <td>4</td>\n",
       "      <td>10</td>\n",
       "      <td>6%</td>\n",
       "      <td>12%</td>\n",
       "      <td>$2,503,000</td>\n",
       "      <td>$2,140,000</td>\n",
       "      <td>$2,500,000</td>\n",
       "      <td>$2,776,000</td>\n",
       "      <td>$603,000</td>\n",
       "      <td>...</td>\n",
       "      <td>$5,720</td>\n",
       "      <td>7%</td>\n",
       "      <td>$1,350</td>\n",
       "      <td>$1,120</td>\n",
       "      <td>$1,980</td>\n",
       "      <td>$680</td>\n",
       "      <td>5.0%</td>\n",
       "      <td>3.6%</td>\n",
       "      <td>English  40%  Australian  28%  18 more  Irish  13%  Scottish  11%  German  4%  Italian  3%  Chinese  3%  New Zealander  2%  Greek  2%  Dutch  2%  South African  1%  Indian  1%  Polish  1%  Welsh  ...</td>\n",
       "      <td>English  88%  Italian  1%  18 more  German  1%  French  1%  Mandarin  1%  Cantonese  1%  Japanese  1%  Spanish  1%  Greek  1%  Dutch  1%  Polish  0%  Portuguese  0%  Russian  0%  Korean  0%  Hindi...</td>\n",
       "    </tr>\n",
       "  </tbody>\n",
       "</table>\n",
       "<p>1 rows × 23 columns</p>\n",
       "</div>"
      ],
      "text/plain": [
       "         Affluence Score  Communications Score  Safety Score  \\\n",
       "id                                                             \n",
       "1141564               10                     4            10   \n",
       "\n",
       "        House price growth (2013-2016) House price per sqm growth (2013-2016)  \\\n",
       "id                                                                              \n",
       "1141564                             6%                                    12%   \n",
       "\n",
       "        Median house price (2016) Median house price (3 bed, 2016)  \\\n",
       "id                                                                   \n",
       "1141564                $2,503,000                       $2,140,000   \n",
       "\n",
       "        Median house price (4 bed, 2016) Median house price (5 bed, 2016)  \\\n",
       "id                                                                          \n",
       "1141564                       $2,500,000                       $2,776,000   \n",
       "\n",
       "        Median unit price (1 bed, 2016)  \\\n",
       "id                                        \n",
       "1141564                        $603,000   \n",
       "\n",
       "                                                                                                          ...                                                                                                     \\\n",
       "id                                                                                                        ...                                                                                                      \n",
       "1141564                                                                                                   ...                                                                                                      \n",
       "\n",
       "        Price per sqm Unit price growth (2013-2016)  \\\n",
       "id                                                    \n",
       "1141564        $5,720                            7%   \n",
       "\n",
       "        Median rent (3 bed house, 2015) Median rent (3 bed unit, 2016)  \\\n",
       "id                                                                       \n",
       "1141564                          $1,350                         $1,120   \n",
       "\n",
       "        Median rent (house, 2016) Median rent (unit, 2016)  \\\n",
       "id                                                           \n",
       "1141564                    $1,980                     $680   \n",
       "\n",
       "        Median yield (house, 2016) Median yield (unit, 2016)  \\\n",
       "id                                                             \n",
       "1141564                       5.0%                      3.6%   \n",
       "\n",
       "                                                                                                                                                                                                        Ancestry  \\\n",
       "id                                                                                                                                                                                                                 \n",
       "1141564  English  40%  Australian  28%  18 more  Irish  13%  Scottish  11%  German  4%  Italian  3%  Chinese  3%  New Zealander  2%  Greek  2%  Dutch  2%  South African  1%  Indian  1%  Polish  1%  Welsh  ...   \n",
       "\n",
       "                                                                                                                                                                                                Languages spoken  \n",
       "id                                                                                                                                                                                                                \n",
       "1141564  English  88%  Italian  1%  18 more  German  1%  French  1%  Mandarin  1%  Cantonese  1%  Japanese  1%  Spanish  1%  Greek  1%  Dutch  1%  Polish  0%  Portuguese  0%  Russian  0%  Korean  0%  Hindi...  \n",
       "\n",
       "[1 rows x 23 columns]"
      ]
     },
     "execution_count": 42,
     "metadata": {},
     "output_type": "execute_result"
    }
   ],
   "source": [
    "df_test = get_localprices_ethnicity_scores(burb_full_link, burbid)\n",
    "driver.close()\n",
    "df_test"
   ]
  },
  {
   "cell_type": "code",
   "execution_count": null,
   "metadata": {
    "collapsed": true
   },
   "outputs": [],
   "source": []
  },
  {
   "cell_type": "code",
   "execution_count": null,
   "metadata": {
    "collapsed": true
   },
   "outputs": [],
   "source": [
    "df_info = pd.DataFrame()\n",
    "from selenium import webdriver\n",
    "driver = webdriver.Chrome()\n",
    "\n",
    "counter = 0\n",
    "for rowid,row in df_burbs.iterrows():\n",
    "    df_info = pd.concat([df_info,get_localprices_ethnicity_scores(row['burblink'], rowid)])\n",
    "    counter+=1\n",
    "    if counter%10 == 0:\n",
    "        print (counter,' records completed...')\n",
    "    time.sleep(10)\n",
    "\n",
    "driver.close()"
   ]
  },
  {
   "cell_type": "code",
   "execution_count": null,
   "metadata": {
    "collapsed": true
   },
   "outputs": [],
   "source": [
    "df_info.to_csv('burb_scores',index=True,header=True)"
   ]
  },
  {
   "cell_type": "code",
   "execution_count": null,
   "metadata": {
    "collapsed": true
   },
   "outputs": [],
   "source": []
  },
  {
   "cell_type": "code",
   "execution_count": null,
   "metadata": {
    "collapsed": true
   },
   "outputs": [],
   "source": []
  },
  {
   "cell_type": "code",
   "execution_count": 20,
   "metadata": {
    "collapsed": false,
    "scrolled": true
   },
   "outputs": [],
   "source": []
  }
 ],
 "metadata": {
  "kernelspec": {
   "display_name": "Python [conda env:web_scraping_py27]",
   "language": "python",
   "name": "conda-env-web_scraping_py27-py"
  },
  "language_info": {
   "codemirror_mode": {
    "name": "ipython",
    "version": 2
   },
   "file_extension": ".py",
   "mimetype": "text/x-python",
   "name": "python",
   "nbconvert_exporter": "python",
   "pygments_lexer": "ipython2",
   "version": "2.7.13"
  }
 },
 "nbformat": 4,
 "nbformat_minor": 1
}
