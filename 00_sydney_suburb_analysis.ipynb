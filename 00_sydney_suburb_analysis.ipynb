{
 "cells": [
  {
   "cell_type": "markdown",
   "metadata": {},
   "source": [
    "**What I want to do:** Get suburb information from microburbs (fantastic site btw) and understand which place would be ideal for us to move next.\n",
    "\n",
    "Microburbs is a fantastic site that has aggregated useful information from several government sources as well as made intelligent derivations (pretty much what I would have done with the raw information - only more detailed and smarter!). However, the only way to see information in microburbs is through a map hover feature which makes it really hard to see and compare information from  all the surrounding suburbs of my suburb of interest. So let me get information of all the suburbs and then simply compare them side by side."
   ]
  },
  {
   "cell_type": "markdown",
   "metadata": {},
   "source": [
    "## Admin stuff"
   ]
  },
  {
   "cell_type": "code",
   "execution_count": 1,
   "metadata": {
    "collapsed": true
   },
   "outputs": [],
   "source": [
    "import bs4\n",
    "from bs4 import BeautifulSoup\n",
    "from urllib2 import urlopen\n",
    "import pandas as pd\n",
    "import re\n",
    "import numpy as np\n",
    "from time import sleep\n",
    "%matplotlib inline\n",
    "import pylab as plt\n",
    "import os\n",
    "import warnings"
   ]
  },
  {
   "cell_type": "markdown",
   "metadata": {},
   "source": [
    "## Source suburb html"
   ]
  },
  {
   "cell_type": "markdown",
   "metadata": {},
   "source": [
    "I hovered over the inner west region of Sydney in microburbs.com.au and got the areas-list element upon inspection. Will go ahead and store this in a variable and extract info from the html."
   ]
  },
  {
   "cell_type": "code",
   "execution_count": 19,
   "metadata": {
    "collapsed": true
   },
   "outputs": [],
   "source": [
    "baseid = 'https://www.microburbs.com.au'"
   ]
  },
  {
   "cell_type": "code",
   "execution_count": 20,
   "metadata": {
    "collapsed": true
   },
   "outputs": [],
   "source": [
    "# open the file and read as a single buffer. Close the file after reading successfully\n",
    "fd = open('dict_burb_html', 'r')\n",
    "cache = fd.read()\n",
    "fd.close()"
   ]
  },
  {
   "cell_type": "code",
   "execution_count": 21,
   "metadata": {
    "collapsed": true
   },
   "outputs": [],
   "source": [
    "# this line of code splits ther html I've collected into burb locations. What I want to do is mine the html and collect burbids and burblinks\n",
    "dict_burb_html = cache.replace('\\n','').split(',')"
   ]
  },
  {
   "cell_type": "markdown",
   "metadata": {},
   "source": [
    "## Mine html and get the burbids/burblinks"
   ]
  },
  {
   "cell_type": "code",
   "execution_count": 22,
   "metadata": {
    "collapsed": true
   },
   "outputs": [],
   "source": [
    "# write a function for this:\n",
    "def get_burbid_and_burblink(location, html_codedump, baseid = 'https://www.microburbs.com.au'):\n",
    "    soup = BeautifulSoup(html_codedump, \"lxml\")\n",
    "    burbid=[]; burblink = []\n",
    "    for a in soup.find_all('a', href=True):\n",
    "        burbid.append(a.string.string.encode('utf-8'))\n",
    "        burblink.append(a['href'])\n",
    "    df_temp = pd.DataFrame({'location':[location for x in burbid],'burbid':burbid,'burblink':burblink})\n",
    "    df_temp['burblink'] = df_temp['burblink'].apply(lambda x: baseid+x)\n",
    "    return df_temp"
   ]
  },
  {
   "cell_type": "code",
   "execution_count": 6,
   "metadata": {
    "collapsed": true
   },
   "outputs": [],
   "source": [
    "df_burbs = pd.DataFrame()"
   ]
  },
  {
   "cell_type": "code",
   "execution_count": 34,
   "metadata": {
    "collapsed": false
   },
   "outputs": [
    {
     "name": "stdout",
     "output_type": "stream",
     "text": [
      "Summer Hill near station            : Completed\n",
      "Lewisham near station            : Completed\n",
      "Petersham near station            : Completed\n",
      "Newtown near station            : Completed\n",
      "Macdonaldtown near station            : Completed\n",
      "Redfern near station            : Completed\n",
      "Macmohans poimnt near wharf            : Completed\n",
      "Central_near_gym            : Completed\n",
      "Stanmore_near_station            : Completed\n",
      "Erko_near_station            : Completed\n",
      "Mosman near wharf            : Completed\n"
     ]
    }
   ],
   "source": [
    "for burb in dict_burb_html:\n",
    "    df_burbs = pd.concat((df_burbs, get_burbid_and_burblink(burb.split('|')[0],burb.split('|')[1])))\n",
    "    print ('{:}            : Completed'.format(burb.split('|')[0]))"
   ]
  },
  {
   "cell_type": "code",
   "execution_count": 35,
   "metadata": {
    "collapsed": false
   },
   "outputs": [
    {
     "data": {
      "text/plain": [
       "(296, 3)"
      ]
     },
     "execution_count": 35,
     "metadata": {},
     "output_type": "execute_result"
    }
   ],
   "source": [
    "df_burbs.shape"
   ]
  },
  {
   "cell_type": "code",
   "execution_count": 41,
   "metadata": {
    "collapsed": false
   },
   "outputs": [
    {
     "data": {
      "text/html": [
       "<div>\n",
       "<style>\n",
       "    .dataframe thead tr:only-child th {\n",
       "        text-align: right;\n",
       "    }\n",
       "\n",
       "    .dataframe thead th {\n",
       "        text-align: left;\n",
       "    }\n",
       "\n",
       "    .dataframe tbody tr th {\n",
       "        vertical-align: top;\n",
       "    }\n",
       "</style>\n",
       "<table border=\"1\" class=\"dataframe\">\n",
       "  <thead>\n",
       "    <tr style=\"text-align: right;\">\n",
       "      <th></th>\n",
       "      <th>burbid</th>\n",
       "      <th>burblink</th>\n",
       "      <th>location</th>\n",
       "    </tr>\n",
       "  </thead>\n",
       "  <tbody>\n",
       "    <tr>\n",
       "      <th>5</th>\n",
       "      <td>1141559</td>\n",
       "      <td>https://www.microburbs.com.au/NSW/Sydney/Mosman-Municipality/Mosman/1141559</td>\n",
       "      <td>Mosman near wharf</td>\n",
       "    </tr>\n",
       "    <tr>\n",
       "      <th>6</th>\n",
       "      <td>1141560</td>\n",
       "      <td>https://www.microburbs.com.au/NSW/Sydney/Mosman-Municipality/Mosman/1141560</td>\n",
       "      <td>Mosman near wharf</td>\n",
       "    </tr>\n",
       "    <tr>\n",
       "      <th>7</th>\n",
       "      <td>1141549</td>\n",
       "      <td>https://www.microburbs.com.au/NSW/Sydney/Mosman-Municipality/Mosman/1141549</td>\n",
       "      <td>Mosman near wharf</td>\n",
       "    </tr>\n",
       "    <tr>\n",
       "      <th>8</th>\n",
       "      <td>1141564</td>\n",
       "      <td>https://www.microburbs.com.au/NSW/Sydney/Mosman-Municipality/Mosman/1141564</td>\n",
       "      <td>Mosman near wharf</td>\n",
       "    </tr>\n",
       "    <tr>\n",
       "      <th>9</th>\n",
       "      <td>1141554</td>\n",
       "      <td>https://www.microburbs.com.au/NSW/Sydney/Mosman-Municipality/Mosman/1141554</td>\n",
       "      <td>Mosman near wharf</td>\n",
       "    </tr>\n",
       "  </tbody>\n",
       "</table>\n",
       "</div>"
      ],
      "text/plain": [
       "    burbid  \\\n",
       "5  1141559   \n",
       "6  1141560   \n",
       "7  1141549   \n",
       "8  1141564   \n",
       "9  1141554   \n",
       "\n",
       "                                                                      burblink  \\\n",
       "5  https://www.microburbs.com.au/NSW/Sydney/Mosman-Municipality/Mosman/1141559   \n",
       "6  https://www.microburbs.com.au/NSW/Sydney/Mosman-Municipality/Mosman/1141560   \n",
       "7  https://www.microburbs.com.au/NSW/Sydney/Mosman-Municipality/Mosman/1141549   \n",
       "8  https://www.microburbs.com.au/NSW/Sydney/Mosman-Municipality/Mosman/1141564   \n",
       "9  https://www.microburbs.com.au/NSW/Sydney/Mosman-Municipality/Mosman/1141554   \n",
       "\n",
       "            location  \n",
       "5  Mosman near wharf  \n",
       "6  Mosman near wharf  \n",
       "7  Mosman near wharf  \n",
       "8  Mosman near wharf  \n",
       "9  Mosman near wharf  "
      ]
     },
     "execution_count": 41,
     "metadata": {},
     "output_type": "execute_result"
    }
   ],
   "source": [
    "pd.options.display.max_colwidth = 100\n",
    "df_burbs.tail()"
   ]
  },
  {
   "cell_type": "code",
   "execution_count": null,
   "metadata": {
    "collapsed": true
   },
   "outputs": [],
   "source": []
  },
  {
   "cell_type": "code",
   "execution_count": null,
   "metadata": {
    "collapsed": true
   },
   "outputs": [],
   "source": []
  },
  {
   "cell_type": "code",
   "execution_count": null,
   "metadata": {
    "collapsed": true
   },
   "outputs": [],
   "source": []
  },
  {
   "cell_type": "code",
   "execution_count": null,
   "metadata": {
    "collapsed": true
   },
   "outputs": [],
   "source": []
  },
  {
   "cell_type": "code",
   "execution_count": null,
   "metadata": {
    "collapsed": true
   },
   "outputs": [],
   "source": []
  },
  {
   "cell_type": "code",
   "execution_count": null,
   "metadata": {
    "collapsed": true
   },
   "outputs": [],
   "source": []
  },
  {
   "cell_type": "markdown",
   "metadata": {},
   "source": [
    "## Explore individual burb"
   ]
  },
  {
   "cell_type": "code",
   "execution_count": 43,
   "metadata": {
    "collapsed": false
   },
   "outputs": [],
   "source": [
    "burb_full_link = 'https://www.microburbs.com.au/NSW/Sydney/Mosman-Municipality/Mosman/1141554'"
   ]
  },
  {
   "cell_type": "markdown",
   "metadata": {},
   "source": [
    "## Explore element inside code"
   ]
  },
  {
   "cell_type": "code",
   "execution_count": 44,
   "metadata": {
    "collapsed": true
   },
   "outputs": [],
   "source": [
    "html = urlopen(burb_full_link).read()  \n",
    "soup = BeautifulSoup(html, 'lxml')"
   ]
  },
  {
   "cell_type": "code",
   "execution_count": 54,
   "metadata": {
    "collapsed": false
   },
   "outputs": [],
   "source": [
    "# this class has all the tabular info\n",
    "tab = soup.findAll('div', attrs = {'class' : 'col-sm-6 col-lg-5'})"
   ]
  },
  {
   "cell_type": "code",
   "execution_count": null,
   "metadata": {
    "collapsed": true
   },
   "outputs": [],
   "source": []
  },
  {
   "cell_type": "code",
   "execution_count": null,
   "metadata": {
    "collapsed": true
   },
   "outputs": [],
   "source": []
  },
  {
   "cell_type": "code",
   "execution_count": null,
   "metadata": {
    "collapsed": true
   },
   "outputs": [],
   "source": []
  }
 ],
 "metadata": {
  "kernelspec": {
   "display_name": "Python [conda env:web_scraping_py27]",
   "language": "python",
   "name": "conda-env-web_scraping_py27-py"
  },
  "language_info": {
   "codemirror_mode": {
    "name": "ipython",
    "version": 2
   },
   "file_extension": ".py",
   "mimetype": "text/x-python",
   "name": "python",
   "nbconvert_exporter": "python",
   "pygments_lexer": "ipython2",
   "version": "2.7.13"
  }
 },
 "nbformat": 4,
 "nbformat_minor": 1
}
