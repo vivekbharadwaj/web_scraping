{
 "cells": [
  {
   "cell_type": "markdown",
   "metadata": {},
   "source": [
    "**What I want to do:** Get suburb information from microburbs (fantastic site btw) and understand which place would be ideal for us to move next.\n",
    "\n",
    "Microburbs is a fantastic site that has aggregated useful information from several government sources as well as made intelligent derivations (pretty much what I would have done with the raw information - only more detailed and smarter!). However, the only way to see information in microburbs is through a map hover feature which makes it really hard to see and compare information from  all the surrounding suburbs of my suburb of interest. So let me get information of all the suburbs and then simply compare them side by side."
   ]
  },
  {
   "cell_type": "markdown",
   "metadata": {},
   "source": [
    "## Admin stuff"
   ]
  },
  {
   "cell_type": "code",
   "execution_count": 1,
   "metadata": {
    "collapsed": true
   },
   "outputs": [],
   "source": [
    "import bs4\n",
    "from bs4 import BeautifulSoup\n",
    "from urllib2 import urlopen\n",
    "import pandas as pd\n",
    "import re\n",
    "import numpy as np\n",
    "from time import sleep\n",
    "%matplotlib inline\n",
    "import pylab as plt\n",
    "import os\n",
    "import warnings"
   ]
  },
  {
   "cell_type": "markdown",
   "metadata": {},
   "source": [
    "## Source suburb html"
   ]
  },
  {
   "cell_type": "markdown",
   "metadata": {},
   "source": [
    "I hovered over the inner west region of Sydney in microburbs.com.au and got the areas-list element upon inspection. Will go ahead and store this in a variable and extract info from the html."
   ]
  },
  {
   "cell_type": "code",
   "execution_count": 2,
   "metadata": {
    "collapsed": true
   },
   "outputs": [],
   "source": [
    "baseid = 'https://www.microburbs.com.au'"
   ]
  },
  {
   "cell_type": "code",
   "execution_count": 3,
   "metadata": {
    "collapsed": true
   },
   "outputs": [],
   "source": [
    "# open the file and read as a single buffer. Close the file after reading successfully\n",
    "fd = open('dict_burb_html', 'r')\n",
    "cache = fd.read()\n",
    "fd.close()"
   ]
  },
  {
   "cell_type": "code",
   "execution_count": 4,
   "metadata": {
    "collapsed": true
   },
   "outputs": [],
   "source": [
    "# this line of code splits ther html I've collected into burb locations. What I want to do is mine the html and collect burbids and burblinks\n",
    "dict_burb_html = cache.replace('\\n','').split(',')"
   ]
  },
  {
   "cell_type": "markdown",
   "metadata": {},
   "source": [
    "## Mine html and get the burbids/burblinks"
   ]
  },
  {
   "cell_type": "code",
   "execution_count": 5,
   "metadata": {
    "collapsed": true
   },
   "outputs": [],
   "source": [
    "# write a function for this:\n",
    "def get_burbid_and_burblink(location, html_codedump, baseid = 'https://www.microburbs.com.au'):\n",
    "    soup = BeautifulSoup(html_codedump, \"lxml\")\n",
    "    burbid=[]; burblink = []\n",
    "    for a in soup.find_all('a', href=True):\n",
    "        burbid.append(a.string.string.encode('utf-8'))\n",
    "        burblink.append(a['href'])\n",
    "    df_temp = pd.DataFrame({'location':[location for x in burbid],'burbid':burbid,'burblink':burblink})\n",
    "    df_temp['burblink'] = df_temp['burblink'].apply(lambda x: baseid+x)\n",
    "    return df_temp"
   ]
  },
  {
   "cell_type": "code",
   "execution_count": 126,
   "metadata": {
    "collapsed": false
   },
   "outputs": [
    {
     "name": "stdout",
     "output_type": "stream",
     "text": [
      "Summer Hill near station            : Completed\n",
      "Lewisham near station            : Completed\n",
      "Petersham near station            : Completed\n",
      "Newtown near station            : Completed\n",
      "Macdonaldtown near station            : Completed\n",
      "Redfern near station            : Completed\n",
      "Macmohans poimnt near wharf            : Completed\n",
      "Central_near_gym            : Completed\n",
      "Stanmore_near_station            : Completed\n",
      "Erko_near_station            : Completed\n",
      "Mosman near wharf            : Completed\n"
     ]
    }
   ],
   "source": [
    "df_burbs = pd.DataFrame()\n",
    "for burb in dict_burb_html:\n",
    "    df_burbs = pd.concat((df_burbs, get_burbid_and_burblink(burb.split('|')[0],burb.split('|')[1])))\n",
    "    print ('{:}            : Completed'.format(burb.split('|')[0]))"
   ]
  },
  {
   "cell_type": "code",
   "execution_count": 127,
   "metadata": {
    "collapsed": false
   },
   "outputs": [
    {
     "data": {
      "text/plain": [
       "(148, 3)"
      ]
     },
     "execution_count": 127,
     "metadata": {},
     "output_type": "execute_result"
    }
   ],
   "source": [
    "df_burbs.shape"
   ]
  },
  {
   "cell_type": "code",
   "execution_count": 128,
   "metadata": {
    "collapsed": true
   },
   "outputs": [],
   "source": [
    "# change burb dataframe index\n",
    "df_burbs.set_index('burbid',inplace=True)"
   ]
  },
  {
   "cell_type": "code",
   "execution_count": 129,
   "metadata": {
    "collapsed": false
   },
   "outputs": [
    {
     "data": {
      "text/html": [
       "<div>\n",
       "<table border=\"1\" class=\"dataframe\">\n",
       "  <thead>\n",
       "    <tr style=\"text-align: right;\">\n",
       "      <th></th>\n",
       "      <th>burblink</th>\n",
       "      <th>location</th>\n",
       "    </tr>\n",
       "    <tr>\n",
       "      <th>burbid</th>\n",
       "      <th></th>\n",
       "      <th></th>\n",
       "    </tr>\n",
       "  </thead>\n",
       "  <tbody>\n",
       "    <tr>\n",
       "      <th>1141559</th>\n",
       "      <td>https://www.microburbs.com.au/NSW/Sydney/Mosman-Municipality/Mosman/1141559</td>\n",
       "      <td>Mosman near wharf</td>\n",
       "    </tr>\n",
       "    <tr>\n",
       "      <th>1141560</th>\n",
       "      <td>https://www.microburbs.com.au/NSW/Sydney/Mosman-Municipality/Mosman/1141560</td>\n",
       "      <td>Mosman near wharf</td>\n",
       "    </tr>\n",
       "    <tr>\n",
       "      <th>1141549</th>\n",
       "      <td>https://www.microburbs.com.au/NSW/Sydney/Mosman-Municipality/Mosman/1141549</td>\n",
       "      <td>Mosman near wharf</td>\n",
       "    </tr>\n",
       "    <tr>\n",
       "      <th>1141564</th>\n",
       "      <td>https://www.microburbs.com.au/NSW/Sydney/Mosman-Municipality/Mosman/1141564</td>\n",
       "      <td>Mosman near wharf</td>\n",
       "    </tr>\n",
       "    <tr>\n",
       "      <th>1141554</th>\n",
       "      <td>https://www.microburbs.com.au/NSW/Sydney/Mosman-Municipality/Mosman/1141554</td>\n",
       "      <td>Mosman near wharf</td>\n",
       "    </tr>\n",
       "  </tbody>\n",
       "</table>\n",
       "</div>"
      ],
      "text/plain": [
       "                                                                            burblink  \\\n",
       "burbid                                                                                 \n",
       "1141559  https://www.microburbs.com.au/NSW/Sydney/Mosman-Municipality/Mosman/1141559   \n",
       "1141560  https://www.microburbs.com.au/NSW/Sydney/Mosman-Municipality/Mosman/1141560   \n",
       "1141549  https://www.microburbs.com.au/NSW/Sydney/Mosman-Municipality/Mosman/1141549   \n",
       "1141564  https://www.microburbs.com.au/NSW/Sydney/Mosman-Municipality/Mosman/1141564   \n",
       "1141554  https://www.microburbs.com.au/NSW/Sydney/Mosman-Municipality/Mosman/1141554   \n",
       "\n",
       "                  location  \n",
       "burbid                      \n",
       "1141559  Mosman near wharf  \n",
       "1141560  Mosman near wharf  \n",
       "1141549  Mosman near wharf  \n",
       "1141564  Mosman near wharf  \n",
       "1141554  Mosman near wharf  "
      ]
     },
     "execution_count": 129,
     "metadata": {},
     "output_type": "execute_result"
    }
   ],
   "source": [
    "pd.options.display.max_colwidth = 100\n",
    "df_burbs.tail()"
   ]
  },
  {
   "cell_type": "markdown",
   "metadata": {
    "collapsed": true
   },
   "source": []
  },
  {
   "cell_type": "code",
   "execution_count": null,
   "metadata": {
    "collapsed": true
   },
   "outputs": [],
   "source": []
  },
  {
   "cell_type": "code",
   "execution_count": null,
   "metadata": {
    "collapsed": true
   },
   "outputs": [],
   "source": []
  },
  {
   "cell_type": "code",
   "execution_count": null,
   "metadata": {
    "collapsed": true
   },
   "outputs": [],
   "source": []
  },
  {
   "cell_type": "code",
   "execution_count": null,
   "metadata": {
    "collapsed": true
   },
   "outputs": [],
   "source": []
  },
  {
   "cell_type": "code",
   "execution_count": null,
   "metadata": {
    "collapsed": true
   },
   "outputs": [],
   "source": []
  },
  {
   "cell_type": "markdown",
   "metadata": {},
   "source": [
    "## Explore individual burb"
   ]
  },
  {
   "cell_type": "code",
   "execution_count": 123,
   "metadata": {
    "collapsed": false
   },
   "outputs": [],
   "source": [
    "burb_full_link = 'https://www.microburbs.com.au/NSW/Sydney/Mosman-Municipality/Mosman/1141554'\n",
    "burbid=1141554"
   ]
  },
  {
   "cell_type": "markdown",
   "metadata": {},
   "source": [
    "## Explore element inside code"
   ]
  },
  {
   "cell_type": "code",
   "execution_count": 23,
   "metadata": {
    "collapsed": true
   },
   "outputs": [],
   "source": [
    "html = urlopen(burb_full_link).read()  \n",
    "soup = BeautifulSoup(html, 'lxml')"
   ]
  },
  {
   "cell_type": "code",
   "execution_count": 80,
   "metadata": {
    "collapsed": false
   },
   "outputs": [],
   "source": [
    "# this class has all the tabular info\n",
    "tab = soup.findAll('div', attrs = {'class' : 'col-sm-6 col-lg-5'})"
   ]
  },
  {
   "cell_type": "code",
   "execution_count": 75,
   "metadata": {
    "collapsed": false
   },
   "outputs": [
    {
     "name": "stdout",
     "output_type": "stream",
     "text": [
      "('7', '')\n",
      "('10', 'family')\n",
      "('10', 'affluent')\n",
      "('9', '')\n",
      "('9', 'lifestyle')\n",
      "('8', 'convenience')\n",
      "('10', 'tranquility')\n",
      "('9', 'internet')\n",
      "('10', 'community')\n"
     ]
    }
   ],
   "source": [
    "for tab in soup.findAll('div', attrs = {'class' : 'col-sm-6 col-lg-5'}):\n",
    "    for strong_tag in tab.findAll('span', attrs = {'class' : 'human-score-value'}):\n",
    "        print (strong_tag.text.strip().encode('utf-8'), strong_tag.attrs['class'][1])"
   ]
  },
  {
   "cell_type": "code",
   "execution_count": 121,
   "metadata": {
    "collapsed": false
   },
   "outputs": [
    {
     "data": {
      "text/plain": [
       "[7, 10, 10, 9, 9, 8, 10, 9, 10]"
      ]
     },
     "execution_count": 121,
     "metadata": {},
     "output_type": "execute_result"
    }
   ],
   "source": [
    "scores=[]\n",
    "for targetElements in soup.findAll('div', attrs = {'class' : 'col-sm-6 col-lg-5'}):\n",
    "    for individual_score in targetElements.findAll('span', attrs = {'class' : 'human-score-value'}):\n",
    "        scores.append(int(individual_score.text.strip().encode('utf-8')))\n",
    "scores"
   ]
  },
  {
   "cell_type": "code",
   "execution_count": 124,
   "metadata": {
    "collapsed": false
   },
   "outputs": [
    {
     "data": {
      "text/html": [
       "<div>\n",
       "<table border=\"1\" class=\"dataframe\">\n",
       "  <thead>\n",
       "    <tr style=\"text-align: right;\">\n",
       "      <th></th>\n",
       "      <th>Hip</th>\n",
       "      <th>Family</th>\n",
       "      <th>Affluence</th>\n",
       "      <th>Safety</th>\n",
       "      <th>Lifestyle</th>\n",
       "      <th>Convenience</th>\n",
       "      <th>Tranquility</th>\n",
       "      <th>Internet</th>\n",
       "      <th>Community</th>\n",
       "    </tr>\n",
       "  </thead>\n",
       "  <tbody>\n",
       "    <tr>\n",
       "      <th>1141554</th>\n",
       "      <td>7</td>\n",
       "      <td>10</td>\n",
       "      <td>10</td>\n",
       "      <td>9</td>\n",
       "      <td>9</td>\n",
       "      <td>8</td>\n",
       "      <td>10</td>\n",
       "      <td>9</td>\n",
       "      <td>10</td>\n",
       "    </tr>\n",
       "  </tbody>\n",
       "</table>\n",
       "</div>"
      ],
      "text/plain": [
       "         Hip  Family  Affluence  Safety  Lifestyle  Convenience  Tranquility  \\\n",
       "1141554    7      10         10       9          9            8           10   \n",
       "\n",
       "         Internet  Community  \n",
       "1141554         9         10  "
      ]
     },
     "execution_count": 124,
     "metadata": {},
     "output_type": "execute_result"
    }
   ],
   "source": [
    "pd.DataFrame([scores], \n",
    "             columns=['Hip','Family','Affluence','Safety','Lifestyle','Convenience','Tranquility','Internet','Community'],\n",
    "            index=[burbid])"
   ]
  },
  {
   "cell_type": "code",
   "execution_count": null,
   "metadata": {
    "collapsed": true
   },
   "outputs": [],
   "source": []
  }
 ],
 "metadata": {
  "kernelspec": {
   "display_name": "Python2.7_web_scraping",
   "language": "python",
   "name": "web_scraping"
  },
  "language_info": {
   "codemirror_mode": {
    "name": "ipython",
    "version": 2
   },
   "file_extension": ".py",
   "mimetype": "text/x-python",
   "name": "python",
   "nbconvert_exporter": "python",
   "pygments_lexer": "ipython2",
   "version": "2.7.11"
  }
 },
 "nbformat": 4,
 "nbformat_minor": 1
}
