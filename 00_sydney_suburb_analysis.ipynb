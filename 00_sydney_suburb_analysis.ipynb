{
 "cells": [
  {
   "cell_type": "markdown",
   "metadata": {},
   "source": [
    "**What I want to do:** Get suburb information from microburbs (fantastic site btw) and understand which place would be ideal for us to move next.\n",
    "\n",
    "Microburbs is a fantastic site that has aggregated useful information from several government sources as well as made intelligent derivations (pretty much what I would have done with the raw information - only more detailed and smarter!). However, the only way to see information in microburbs is through a map hover feature which makes it really hard to see and compare information from  all the surrounding suburbs of my suburb of interest. So let me get information of all the suburbs and then simply compare them side by side."
   ]
  },
  {
   "cell_type": "markdown",
   "metadata": {},
   "source": [
    "## 1. Admin stuff"
   ]
  },
  {
   "cell_type": "code",
   "execution_count": 1,
   "metadata": {
    "collapsed": false
   },
   "outputs": [],
   "source": [
    "import bs4\n",
    "from bs4 import BeautifulSoup\n",
    "from urllib2 import urlopen\n",
    "import pandas as pd\n",
    "import re\n",
    "import numpy as np\n",
    "from time import sleep\n",
    "%matplotlib inline\n",
    "import pylab as plt\n",
    "import os\n",
    "import warnings\n",
    "import time"
   ]
  },
  {
   "cell_type": "markdown",
   "metadata": {},
   "source": [
    "## 2. Source suburb html"
   ]
  },
  {
   "cell_type": "markdown",
   "metadata": {},
   "source": [
    "I hovered over the inner west region of Sydney in microburbs.com.au and got the areas-list element upon inspection. Will go ahead and store this in a variable and extract info from the html."
   ]
  },
  {
   "cell_type": "code",
   "execution_count": 2,
   "metadata": {
    "collapsed": true
   },
   "outputs": [],
   "source": [
    "baseid = 'https://www.microburbs.com.au'"
   ]
  },
  {
   "cell_type": "code",
   "execution_count": 3,
   "metadata": {
    "collapsed": true
   },
   "outputs": [],
   "source": [
    "# open the file and read as a single buffer. Close the file after reading successfully\n",
    "fd = open('dict_burb_html', 'r')\n",
    "cache = fd.read()\n",
    "fd.close()"
   ]
  },
  {
   "cell_type": "code",
   "execution_count": 4,
   "metadata": {
    "collapsed": true
   },
   "outputs": [],
   "source": [
    "# this line of code splits ther html I've collected into burb locations. What I want to do is mine the html and collect burbids and burblinks\n",
    "dict_burb_html = cache.replace('\\n','').split(',')"
   ]
  },
  {
   "cell_type": "markdown",
   "metadata": {},
   "source": [
    "## 3. Mine html and get the burbids/burblinks"
   ]
  },
  {
   "cell_type": "code",
   "execution_count": 5,
   "metadata": {
    "collapsed": true
   },
   "outputs": [],
   "source": [
    "# write a function for this:\n",
    "def get_burbid_and_burblink(location, html_codedump, baseid = 'https://www.microburbs.com.au'):\n",
    "    soup = BeautifulSoup(html_codedump, \"lxml\")\n",
    "    burbid=[]; burblink = []\n",
    "    for a in soup.find_all('a', href=True):\n",
    "        burbid.append(a.string.string.encode('utf-8'))\n",
    "        burblink.append(a['href'])\n",
    "    df_temp = pd.DataFrame({'location':[location for x in burbid],'burbid':burbid,'burblink':burblink})\n",
    "    df_temp['burblink'] = df_temp['burblink'].apply(lambda x: baseid+x)\n",
    "    return df_temp"
   ]
  },
  {
   "cell_type": "code",
   "execution_count": 6,
   "metadata": {
    "collapsed": false
   },
   "outputs": [],
   "source": [
    "df_burbs = pd.DataFrame()\n",
    "for burb in dict_burb_html:\n",
    "    df_burbs = pd.concat((df_burbs, get_burbid_and_burblink(burb.split('|')[0],burb.split('|')[1])))"
   ]
  },
  {
   "cell_type": "code",
   "execution_count": 7,
   "metadata": {
    "collapsed": false
   },
   "outputs": [
    {
     "data": {
      "text/plain": [
       "(300, 3)"
      ]
     },
     "execution_count": 7,
     "metadata": {},
     "output_type": "execute_result"
    }
   ],
   "source": [
    "df_burbs.shape"
   ]
  },
  {
   "cell_type": "code",
   "execution_count": 8,
   "metadata": {
    "collapsed": false
   },
   "outputs": [],
   "source": [
    "#df_burbs.burbid = pd.to_numeric(df_burbs.burbid, errors='coerce').fillna(0).astype(np.int64)"
   ]
  },
  {
   "cell_type": "code",
   "execution_count": 9,
   "metadata": {
    "collapsed": true
   },
   "outputs": [],
   "source": [
    "# change burb dataframe index\n",
    "df_burbs.set_index('burbid',inplace=True)"
   ]
  },
  {
   "cell_type": "code",
   "execution_count": 10,
   "metadata": {
    "collapsed": false
   },
   "outputs": [
    {
     "data": {
      "text/html": [
       "<div>\n",
       "<style>\n",
       "    .dataframe thead tr:only-child th {\n",
       "        text-align: right;\n",
       "    }\n",
       "\n",
       "    .dataframe thead th {\n",
       "        text-align: left;\n",
       "    }\n",
       "\n",
       "    .dataframe tbody tr th {\n",
       "        vertical-align: top;\n",
       "    }\n",
       "</style>\n",
       "<table border=\"1\" class=\"dataframe\">\n",
       "  <thead>\n",
       "    <tr style=\"text-align: right;\">\n",
       "      <th></th>\n",
       "      <th>burblink</th>\n",
       "      <th>location</th>\n",
       "    </tr>\n",
       "    <tr>\n",
       "      <th>burbid</th>\n",
       "      <th></th>\n",
       "      <th></th>\n",
       "    </tr>\n",
       "  </thead>\n",
       "  <tbody>\n",
       "    <tr>\n",
       "      <th>1137521</th>\n",
       "      <td>https://www.microburbs.com.au/NSW/Sydney-Southern-suburbs/City-of-Rockdale/Bardwell-Park/1137521</td>\n",
       "      <td>Bardwell Park near station</td>\n",
       "    </tr>\n",
       "    <tr>\n",
       "      <th>1137522</th>\n",
       "      <td>https://www.microburbs.com.au/NSW/Sydney-Southern-suburbs/City-of-Rockdale/Bardwell-Valley/1137522</td>\n",
       "      <td>Bardwell Park near station</td>\n",
       "    </tr>\n",
       "    <tr>\n",
       "      <th>1137529</th>\n",
       "      <td>https://www.microburbs.com.au/NSW/Sydney-Southern-suburbs/City-of-Rockdale/Bardwell-Valley/1137529</td>\n",
       "      <td>Bardwell Park near station</td>\n",
       "    </tr>\n",
       "    <tr>\n",
       "      <th>1137728</th>\n",
       "      <td>https://www.microburbs.com.au/NSW/Sydney-Southern-suburbs/City-of-Rockdale/Bardwell-Park/1137728</td>\n",
       "      <td>Bardwell Park near station</td>\n",
       "    </tr>\n",
       "    <tr>\n",
       "      <th>1137731</th>\n",
       "      <td>https://www.microburbs.com.au/NSW/Sydney-Southern-suburbs/City-of-Rockdale/Bardwell-Park/1137731</td>\n",
       "      <td>Bardwell Park near station</td>\n",
       "    </tr>\n",
       "  </tbody>\n",
       "</table>\n",
       "</div>"
      ],
      "text/plain": [
       "                                                                                                   burblink  \\\n",
       "burbid                                                                                                        \n",
       "1137521    https://www.microburbs.com.au/NSW/Sydney-Southern-suburbs/City-of-Rockdale/Bardwell-Park/1137521   \n",
       "1137522  https://www.microburbs.com.au/NSW/Sydney-Southern-suburbs/City-of-Rockdale/Bardwell-Valley/1137522   \n",
       "1137529  https://www.microburbs.com.au/NSW/Sydney-Southern-suburbs/City-of-Rockdale/Bardwell-Valley/1137529   \n",
       "1137728    https://www.microburbs.com.au/NSW/Sydney-Southern-suburbs/City-of-Rockdale/Bardwell-Park/1137728   \n",
       "1137731    https://www.microburbs.com.au/NSW/Sydney-Southern-suburbs/City-of-Rockdale/Bardwell-Park/1137731   \n",
       "\n",
       "                           location  \n",
       "burbid                               \n",
       "1137521  Bardwell Park near station  \n",
       "1137522  Bardwell Park near station  \n",
       "1137529  Bardwell Park near station  \n",
       "1137728  Bardwell Park near station  \n",
       "1137731  Bardwell Park near station  "
      ]
     },
     "execution_count": 10,
     "metadata": {},
     "output_type": "execute_result"
    }
   ],
   "source": [
    "pd.options.display.max_colwidth = 100\n",
    "df_burbs.tail()"
   ]
  },
  {
   "cell_type": "code",
   "execution_count": 11,
   "metadata": {
    "collapsed": false
   },
   "outputs": [
    {
     "data": {
      "text/plain": [
       "burbid\n",
       "1139512    https://www.microburbs.com.au/NSW/Sydney/Inner-West/Ashfield-Municipality/Summer-Hill-%28Ashfield----NSW%29/1139512\n",
       "1139514    https://www.microburbs.com.au/NSW/Sydney/Inner-West/Ashfield-Municipality/Summer-Hill-%28Ashfield----NSW%29/1139514\n",
       "1139501    https://www.microburbs.com.au/NSW/Sydney/Inner-West/Ashfield-Municipality/Summer-Hill-%28Ashfield----NSW%29/1139501\n",
       "1139502    https://www.microburbs.com.au/NSW/Sydney/Inner-West/Ashfield-Municipality/Summer-Hill-%28Ashfield----NSW%29/1139502\n",
       "1139516    https://www.microburbs.com.au/NSW/Sydney/Inner-West/Ashfield-Municipality/Summer-Hill-%28Ashfield----NSW%29/1139516\n",
       "1139511    https://www.microburbs.com.au/NSW/Sydney/Inner-West/Ashfield-Municipality/Summer-Hill-%28Ashfield----NSW%29/1139511\n",
       "1139509    https://www.microburbs.com.au/NSW/Sydney/Inner-West/Ashfield-Municipality/Summer-Hill-%28Ashfield----NSW%29/1139509\n",
       "1139520    https://www.microburbs.com.au/NSW/Sydney/Inner-West/Ashfield-Municipality/Summer-Hill-%28Ashfield----NSW%29/1139520\n",
       "Name: burblink, dtype: object"
      ]
     },
     "execution_count": 11,
     "metadata": {},
     "output_type": "execute_result"
    }
   ],
   "source": [
    "pd.options.display.max_colwidth = 200\n",
    "df_burbs.burblink.head(8)"
   ]
  },
  {
   "cell_type": "markdown",
   "metadata": {},
   "source": [
    "## 4. Mine suburb scores using links and ids"
   ]
  },
  {
   "cell_type": "code",
   "execution_count": 12,
   "metadata": {
    "collapsed": true
   },
   "outputs": [],
   "source": [
    "def get_burb_scores(burblink,burbid):\n",
    "    html = urlopen(burblink).read()  \n",
    "    soup = BeautifulSoup(html, 'lxml')\n",
    "    dict={}\n",
    "    for targetElements in soup.findAll('div', attrs = {'class' : 'col-sm-6 col-lg-5'}):\n",
    "        for individual_score in targetElements.findAll('span', attrs = {'class' : 'human-score-value'}):\n",
    "            dict[individual_score.parent.find('span', attrs = {'class' : 'title'}).text.strip().encode('utf-8')]=int(individual_score.text.strip().encode('utf-8'))\n",
    "    return pd.DataFrame(dict, index=[burbid])"
   ]
  },
  {
   "cell_type": "code",
   "execution_count": 48,
   "metadata": {
    "collapsed": false
   },
   "outputs": [],
   "source": [
    "df_info = pd.DataFrame()\n",
    "#***************************************************************************\n",
    "#Commenting out the next few lines because this was a one time activity\n",
    "# I'll read from the csv for all subsequent runs\n",
    "# counter = 0\n",
    "# for rowid,row in df_burbs.iterrows():\n",
    "#     df_info = pd.concat([df_info,get_burb_scores(row['burblink'], rowid)])\n",
    "#     counter+=1\n",
    "#     if counter%10 == 0:\n",
    "#         print (counter,' records completed...')\n",
    "#     time.sleep(10)\n",
    "# df_info.to_csv('burb_scores',index=True,header=True)\n",
    "df_scores = pd.read_csv('burb_scores', index_col=0)"
   ]
  },
  {
   "cell_type": "code",
   "execution_count": 49,
   "metadata": {
    "collapsed": false
   },
   "outputs": [
    {
     "name": "stdout",
     "output_type": "stream",
     "text": [
      "<class 'pandas.core.frame.DataFrame'>\n",
      "Int64Index: 148 entries, 1139512 to 1141554\n",
      "Data columns (total 9 columns):\n",
      "Affluence Score         148 non-null int64\n",
      "Communications Score    148 non-null int64\n",
      "Community Score         147 non-null float64\n",
      "Convenience Score       147 non-null float64\n",
      "Family Score            144 non-null float64\n",
      "Hip Score               147 non-null float64\n",
      "Lifestyle Score         147 non-null float64\n",
      "Safety Score            148 non-null int64\n",
      "Tranquillity Score      147 non-null float64\n",
      "dtypes: float64(6), int64(3)\n",
      "memory usage: 11.6 KB\n"
     ]
    }
   ],
   "source": [
    "df_scores.info()"
   ]
  },
  {
   "cell_type": "code",
   "execution_count": 50,
   "metadata": {
    "collapsed": false
   },
   "outputs": [
    {
     "data": {
      "text/html": [
       "<div>\n",
       "<style>\n",
       "    .dataframe thead tr:only-child th {\n",
       "        text-align: right;\n",
       "    }\n",
       "\n",
       "    .dataframe thead th {\n",
       "        text-align: left;\n",
       "    }\n",
       "\n",
       "    .dataframe tbody tr th {\n",
       "        vertical-align: top;\n",
       "    }\n",
       "</style>\n",
       "<table border=\"1\" class=\"dataframe\">\n",
       "  <thead>\n",
       "    <tr style=\"text-align: right;\">\n",
       "      <th></th>\n",
       "      <th>Affluence Score</th>\n",
       "      <th>Communications Score</th>\n",
       "      <th>Community Score</th>\n",
       "      <th>Convenience Score</th>\n",
       "      <th>Family Score</th>\n",
       "      <th>Hip Score</th>\n",
       "      <th>Lifestyle Score</th>\n",
       "      <th>Safety Score</th>\n",
       "      <th>Tranquillity Score</th>\n",
       "    </tr>\n",
       "  </thead>\n",
       "  <tbody>\n",
       "    <tr>\n",
       "      <th>1139512</th>\n",
       "      <td>9</td>\n",
       "      <td>9</td>\n",
       "      <td>9.0</td>\n",
       "      <td>9.0</td>\n",
       "      <td>8.0</td>\n",
       "      <td>9.0</td>\n",
       "      <td>9.0</td>\n",
       "      <td>3</td>\n",
       "      <td>7.0</td>\n",
       "    </tr>\n",
       "    <tr>\n",
       "      <th>1139514</th>\n",
       "      <td>9</td>\n",
       "      <td>9</td>\n",
       "      <td>9.0</td>\n",
       "      <td>9.0</td>\n",
       "      <td>9.0</td>\n",
       "      <td>8.0</td>\n",
       "      <td>9.0</td>\n",
       "      <td>3</td>\n",
       "      <td>7.0</td>\n",
       "    </tr>\n",
       "    <tr>\n",
       "      <th>1139501</th>\n",
       "      <td>10</td>\n",
       "      <td>9</td>\n",
       "      <td>9.0</td>\n",
       "      <td>9.0</td>\n",
       "      <td>10.0</td>\n",
       "      <td>8.0</td>\n",
       "      <td>9.0</td>\n",
       "      <td>5</td>\n",
       "      <td>8.0</td>\n",
       "    </tr>\n",
       "    <tr>\n",
       "      <th>1139502</th>\n",
       "      <td>10</td>\n",
       "      <td>9</td>\n",
       "      <td>9.0</td>\n",
       "      <td>9.0</td>\n",
       "      <td>9.0</td>\n",
       "      <td>8.0</td>\n",
       "      <td>9.0</td>\n",
       "      <td>3</td>\n",
       "      <td>8.0</td>\n",
       "    </tr>\n",
       "    <tr>\n",
       "      <th>1139516</th>\n",
       "      <td>10</td>\n",
       "      <td>9</td>\n",
       "      <td>10.0</td>\n",
       "      <td>9.0</td>\n",
       "      <td>10.0</td>\n",
       "      <td>8.0</td>\n",
       "      <td>9.0</td>\n",
       "      <td>3</td>\n",
       "      <td>8.0</td>\n",
       "    </tr>\n",
       "  </tbody>\n",
       "</table>\n",
       "</div>"
      ],
      "text/plain": [
       "         Affluence Score  Communications Score  Community Score  \\\n",
       "1139512                9                     9              9.0   \n",
       "1139514                9                     9              9.0   \n",
       "1139501               10                     9              9.0   \n",
       "1139502               10                     9              9.0   \n",
       "1139516               10                     9             10.0   \n",
       "\n",
       "         Convenience Score  Family Score  Hip Score  Lifestyle Score  \\\n",
       "1139512                9.0           8.0        9.0              9.0   \n",
       "1139514                9.0           9.0        8.0              9.0   \n",
       "1139501                9.0          10.0        8.0              9.0   \n",
       "1139502                9.0           9.0        8.0              9.0   \n",
       "1139516                9.0          10.0        8.0              9.0   \n",
       "\n",
       "         Safety Score  Tranquillity Score  \n",
       "1139512             3                 7.0  \n",
       "1139514             3                 7.0  \n",
       "1139501             5                 8.0  \n",
       "1139502             3                 8.0  \n",
       "1139516             3                 8.0  "
      ]
     },
     "execution_count": 50,
     "metadata": {},
     "output_type": "execute_result"
    }
   ],
   "source": [
    "df_scores.head()"
   ]
  },
  {
   "cell_type": "code",
   "execution_count": 54,
   "metadata": {
    "collapsed": false
   },
   "outputs": [
    {
     "data": {
      "text/plain": [
       "Mosman near wharf              10\n",
       "Macmohans poimnt near wharf     3\n",
       "Name: location, dtype: int64"
      ]
     },
     "execution_count": 54,
     "metadata": {},
     "output_type": "execute_result"
    }
   ],
   "source": [
    "df_combined = pd.merge(left=df_burbs,right=df_scores,how='inner',left_index=True,right_index=True)\n",
    "df_combined[df_combined['Safety Score']>7].location.value_counts()"
   ]
  },
  {
   "cell_type": "markdown",
   "metadata": {},
   "source": [
    "## 5. Explore html element for prices"
   ]
  },
  {
   "cell_type": "markdown",
   "metadata": {},
   "source": [
    "I'm happy with the dict approach. I should be able to map local prices as well as ethcicity by the same token."
   ]
  },
  {
   "cell_type": "code",
   "execution_count": 12,
   "metadata": {
    "collapsed": false
   },
   "outputs": [],
   "source": [
    "def get_localprices_ethnicity_scores(burb_full_link, burbid):\n",
    "    # get the rendered html \n",
    "    driver.get(burb_full_link)\n",
    "    time.sleep(10)\n",
    "    html2=driver.page_source\n",
    "    \n",
    "    # read all the tables present in the rendered link\n",
    "    tables = pd.read_html(html2, flavor='bs4')\n",
    "    \n",
    "    # get local prices\n",
    "    df_houseprice = tables[1].pivot_table(columns=tables[1].columns[0],aggfunc='first').reset_index(drop=True).dropna(how='all').head(1) \n",
    "    \n",
    "    # get rental yield info\n",
    "    df_rent = tables[2].pivot_table(columns=tables[1].columns[0],aggfunc='first').reset_index(drop=True).dropna(how='all').head(1) \n",
    "\n",
    "    # get ethnicity info\n",
    "    df_ethnicity = tables[8].pivot_table(columns=tables[1].columns[0],aggfunc='first').reset_index(drop=True).dropna(how='all').head(1) \n",
    "\n",
    "    # put burbid info as a separate datafframe in order to concatenate later\n",
    "    df_id = pd.DataFrame({'id':[str(burbid)]})\n",
    "\n",
    "    # the next couple of lines of code get the corresponding scores for the id\n",
    "    dict={}\n",
    "    soup = BeautifulSoup(html2, 'lxml')\n",
    "    for targetElements in soup.findAll('div', attrs = {'class' : 'col-sm-6 col-lg-5'}):\n",
    "        for individual_score in targetElements.findAll('span', attrs = {'class' : 'human-score-value'}):\n",
    "            dict[individual_score.parent.find('span', attrs = {'class' : 'title'}).text.strip().encode('utf-8')]=int(individual_score.text.strip().encode('utf-8'))\n",
    "    df_scores = pd.DataFrame(dict, index=[str(burbid)])\n",
    "\n",
    "    df_info=pd.DataFrame()\n",
    "    df_info = pd.concat([df_houseprice,df_rent,df_ethnicity,df_id], axis=1)\n",
    "    df_info.set_index('id',inplace=True)\n",
    "    df_info = pd.concat([df_scores, df_info], axis=1)\n",
    "    \n",
    "    return df_info"
   ]
  },
  {
   "cell_type": "markdown",
   "metadata": {},
   "source": [
    "## 6. Get them all into a dataframe"
   ]
  },
  {
   "cell_type": "code",
   "execution_count": 13,
   "metadata": {
    "collapsed": false
   },
   "outputs": [],
   "source": [
    "# df_info = pd.DataFrame()\n",
    "# df_exceptions = pd.DataFrame()\n",
    "# from selenium import webdriver\n",
    "\n",
    "# counter = 0\n",
    "# for rowid,row in df_burbs.iterrows():\n",
    "#     if counter%3 == 0:\n",
    "#         # the options disable geolocation\n",
    "#         options = webdriver.ChromeOptions()\n",
    "#         prefs = {\"profile.default_content_setting_values.geolocation\" :2}\n",
    "#         options.add_experimental_option(\"prefs\",prefs)\n",
    "#         driver = webdriver.Chrome(chrome_options=options)\n",
    "#         time.sleep(10)\n",
    "#     try:\n",
    "#         df_info = pd.concat([df_info,get_localprices_ethnicity_scores(row['burblink'], rowid)])\n",
    "#     except:\n",
    "#         df_exceptions = pd.concat([df_exceptions,pd.DataFrame({'link':row['burblink']},index=[str(rowid)])])\n",
    "#         print (\"skipping burbid:\",rowid)\n",
    "#         pass\n",
    "#     counter+=1\n",
    "#     if counter%3 == 0:\n",
    "#         driver.close()\n",
    "#     if counter%10 == 0:\n",
    "#         print (counter,' records completed...')\n",
    "#     time.sleep(10)\n",
    "\n",
    "# df_info.to_csv('entire_burb_info',index=True,header=True)\n",
    "# df_exceptions.to_csv('entire_burb_exceptions',index=True,header=True)\n",
    "df_info = pd.read_csv('entire_burb_info', dtype={'id':object})\n",
    "df_info.set_index('id',inplace=True)"
   ]
  },
  {
   "cell_type": "markdown",
   "metadata": {},
   "source": [
    "## 7. Merge scores and prices with the annotation"
   ]
  },
  {
   "cell_type": "code",
   "execution_count": 14,
   "metadata": {
    "collapsed": false
   },
   "outputs": [
    {
     "data": {
      "text/html": [
       "<div>\n",
       "<style>\n",
       "    .dataframe thead tr:only-child th {\n",
       "        text-align: right;\n",
       "    }\n",
       "\n",
       "    .dataframe thead th {\n",
       "        text-align: left;\n",
       "    }\n",
       "\n",
       "    .dataframe tbody tr th {\n",
       "        vertical-align: top;\n",
       "    }\n",
       "</style>\n",
       "<table border=\"1\" class=\"dataframe\">\n",
       "  <thead>\n",
       "    <tr style=\"text-align: right;\">\n",
       "      <th></th>\n",
       "      <th>burblink</th>\n",
       "      <th>location</th>\n",
       "      <th>Affluence Score</th>\n",
       "      <th>Alternative therapies</th>\n",
       "      <th>Ancestry</th>\n",
       "      <th>Art</th>\n",
       "      <th>Bicycle Commuters</th>\n",
       "      <th>Body &amp; Ear Piercing</th>\n",
       "      <th>Coffee shops</th>\n",
       "      <th>Communications Score</th>\n",
       "      <th>...</th>\n",
       "      <th>Price per sqm</th>\n",
       "      <th>Pubs</th>\n",
       "      <th>Restaurants</th>\n",
       "      <th>Safety Score</th>\n",
       "      <th>Single Men</th>\n",
       "      <th>Single Women</th>\n",
       "      <th>Tattoo parlours</th>\n",
       "      <th>Tranquillity Score</th>\n",
       "      <th>Uni Students</th>\n",
       "      <th>Unit price growth (2013-2016)</th>\n",
       "    </tr>\n",
       "  </thead>\n",
       "  <tbody>\n",
       "    <tr>\n",
       "      <th>1152425</th>\n",
       "      <td>https://www.microburbs.com.au/NSW/Sydney-Western-suburbs/City-of-Liverpool/Wattle-Grove-%28NSW%29/1152425</td>\n",
       "      <td>Holsworthy near station</td>\n",
       "      <td>9.0</td>\n",
       "      <td>NaN</td>\n",
       "      <td>Australian  18%  English  15%  18 more  Italian  7%  Indian  6%  Lebanese  5%  Chinese  4%  Vietnamese  4%  Irish  4%  Serbian  3%  Scottish  3%  Filipino  3%  Greek  2%  Maltese  2%  German  2%  ...</td>\n",
       "      <td>NaN</td>\n",
       "      <td>NaN</td>\n",
       "      <td>NaN</td>\n",
       "      <td>NaN</td>\n",
       "      <td>9.0</td>\n",
       "      <td>...</td>\n",
       "      <td>$1,350</td>\n",
       "      <td>NaN</td>\n",
       "      <td>NaN</td>\n",
       "      <td>9.0</td>\n",
       "      <td>NaN</td>\n",
       "      <td>NaN</td>\n",
       "      <td>NaN</td>\n",
       "      <td>9.0</td>\n",
       "      <td>NaN</td>\n",
       "      <td>NaN</td>\n",
       "    </tr>\n",
       "    <tr>\n",
       "      <th>1152430</th>\n",
       "      <td>https://www.microburbs.com.au/NSW/Sydney-Western-suburbs/City-of-Liverpool/Hammondville/1152430</td>\n",
       "      <td>Holsworthy near station</td>\n",
       "      <td>7.0</td>\n",
       "      <td>NaN</td>\n",
       "      <td>NaN</td>\n",
       "      <td>NaN</td>\n",
       "      <td>0% of workers</td>\n",
       "      <td>NaN</td>\n",
       "      <td>NaN</td>\n",
       "      <td>9.0</td>\n",
       "      <td>...</td>\n",
       "      <td>$1,350</td>\n",
       "      <td>NaN</td>\n",
       "      <td>NaN</td>\n",
       "      <td>9.0</td>\n",
       "      <td>16%</td>\n",
       "      <td>10%</td>\n",
       "      <td>NaN</td>\n",
       "      <td>9.0</td>\n",
       "      <td>4%</td>\n",
       "      <td>NaN</td>\n",
       "    </tr>\n",
       "    <tr>\n",
       "      <th>1152431</th>\n",
       "      <td>https://www.microburbs.com.au/NSW/Holsworthy/1152431</td>\n",
       "      <td>Holsworthy near station</td>\n",
       "      <td>NaN</td>\n",
       "      <td>NaN</td>\n",
       "      <td>NaN</td>\n",
       "      <td>NaN</td>\n",
       "      <td>NaN</td>\n",
       "      <td>NaN</td>\n",
       "      <td>NaN</td>\n",
       "      <td>NaN</td>\n",
       "      <td>...</td>\n",
       "      <td>NaN</td>\n",
       "      <td>NaN</td>\n",
       "      <td>NaN</td>\n",
       "      <td>NaN</td>\n",
       "      <td>NaN</td>\n",
       "      <td>NaN</td>\n",
       "      <td>NaN</td>\n",
       "      <td>NaN</td>\n",
       "      <td>NaN</td>\n",
       "      <td>NaN</td>\n",
       "    </tr>\n",
       "    <tr>\n",
       "      <th>1152434</th>\n",
       "      <td>https://www.microburbs.com.au/NSW/Holsworthy/1152434</td>\n",
       "      <td>Holsworthy near station</td>\n",
       "      <td>NaN</td>\n",
       "      <td>NaN</td>\n",
       "      <td>NaN</td>\n",
       "      <td>NaN</td>\n",
       "      <td>NaN</td>\n",
       "      <td>NaN</td>\n",
       "      <td>NaN</td>\n",
       "      <td>NaN</td>\n",
       "      <td>...</td>\n",
       "      <td>NaN</td>\n",
       "      <td>NaN</td>\n",
       "      <td>NaN</td>\n",
       "      <td>NaN</td>\n",
       "      <td>NaN</td>\n",
       "      <td>NaN</td>\n",
       "      <td>NaN</td>\n",
       "      <td>NaN</td>\n",
       "      <td>NaN</td>\n",
       "      <td>NaN</td>\n",
       "    </tr>\n",
       "    <tr>\n",
       "      <th>1152438</th>\n",
       "      <td>https://www.microburbs.com.au/NSW/Holsworthy/1152438</td>\n",
       "      <td>Holsworthy near station</td>\n",
       "      <td>NaN</td>\n",
       "      <td>NaN</td>\n",
       "      <td>NaN</td>\n",
       "      <td>NaN</td>\n",
       "      <td>NaN</td>\n",
       "      <td>NaN</td>\n",
       "      <td>NaN</td>\n",
       "      <td>NaN</td>\n",
       "      <td>...</td>\n",
       "      <td>NaN</td>\n",
       "      <td>NaN</td>\n",
       "      <td>NaN</td>\n",
       "      <td>NaN</td>\n",
       "      <td>NaN</td>\n",
       "      <td>NaN</td>\n",
       "      <td>NaN</td>\n",
       "      <td>NaN</td>\n",
       "      <td>NaN</td>\n",
       "      <td>NaN</td>\n",
       "    </tr>\n",
       "  </tbody>\n",
       "</table>\n",
       "<p>5 rows × 60 columns</p>\n",
       "</div>"
      ],
      "text/plain": [
       "                                                                                                          burblink  \\\n",
       "1152425  https://www.microburbs.com.au/NSW/Sydney-Western-suburbs/City-of-Liverpool/Wattle-Grove-%28NSW%29/1152425   \n",
       "1152430            https://www.microburbs.com.au/NSW/Sydney-Western-suburbs/City-of-Liverpool/Hammondville/1152430   \n",
       "1152431                                                       https://www.microburbs.com.au/NSW/Holsworthy/1152431   \n",
       "1152434                                                       https://www.microburbs.com.au/NSW/Holsworthy/1152434   \n",
       "1152438                                                       https://www.microburbs.com.au/NSW/Holsworthy/1152438   \n",
       "\n",
       "                        location  Affluence Score Alternative therapies  \\\n",
       "1152425  Holsworthy near station              9.0                   NaN   \n",
       "1152430  Holsworthy near station              7.0                   NaN   \n",
       "1152431  Holsworthy near station              NaN                   NaN   \n",
       "1152434  Holsworthy near station              NaN                   NaN   \n",
       "1152438  Holsworthy near station              NaN                   NaN   \n",
       "\n",
       "                                                                                                                                                                                                        Ancestry  \\\n",
       "1152425  Australian  18%  English  15%  18 more  Italian  7%  Indian  6%  Lebanese  5%  Chinese  4%  Vietnamese  4%  Irish  4%  Serbian  3%  Scottish  3%  Filipino  3%  Greek  2%  Maltese  2%  German  2%  ...   \n",
       "1152430                                                                                                                                                                                                      NaN   \n",
       "1152431                                                                                                                                                                                                      NaN   \n",
       "1152434                                                                                                                                                                                                      NaN   \n",
       "1152438                                                                                                                                                                                                      NaN   \n",
       "\n",
       "         Art Bicycle Commuters Body & Ear Piercing Coffee shops  \\\n",
       "1152425  NaN               NaN                 NaN          NaN   \n",
       "1152430  NaN     0% of workers                 NaN          NaN   \n",
       "1152431  NaN               NaN                 NaN          NaN   \n",
       "1152434  NaN               NaN                 NaN          NaN   \n",
       "1152438  NaN               NaN                 NaN          NaN   \n",
       "\n",
       "         Communications Score              ...               Price per sqm  \\\n",
       "1152425                   9.0              ...                      $1,350   \n",
       "1152430                   9.0              ...                      $1,350   \n",
       "1152431                   NaN              ...                         NaN   \n",
       "1152434                   NaN              ...                         NaN   \n",
       "1152438                   NaN              ...                         NaN   \n",
       "\n",
       "         Pubs Restaurants Safety Score  Single Men Single Women  \\\n",
       "1152425   NaN         NaN          9.0         NaN          NaN   \n",
       "1152430   NaN         NaN          9.0         16%          10%   \n",
       "1152431   NaN         NaN          NaN         NaN          NaN   \n",
       "1152434   NaN         NaN          NaN         NaN          NaN   \n",
       "1152438   NaN         NaN          NaN         NaN          NaN   \n",
       "\n",
       "         Tattoo parlours Tranquillity Score Uni Students  \\\n",
       "1152425              NaN                9.0          NaN   \n",
       "1152430              NaN                9.0           4%   \n",
       "1152431              NaN                NaN          NaN   \n",
       "1152434              NaN                NaN          NaN   \n",
       "1152438              NaN                NaN          NaN   \n",
       "\n",
       "        Unit price growth (2013-2016)  \n",
       "1152425                           NaN  \n",
       "1152430                           NaN  \n",
       "1152431                           NaN  \n",
       "1152434                           NaN  \n",
       "1152438                           NaN  \n",
       "\n",
       "[5 rows x 60 columns]"
      ]
     },
     "execution_count": 14,
     "metadata": {},
     "output_type": "execute_result"
    }
   ],
   "source": [
    "df_combined = pd.merge(left=df_burbs, right=df_info, how='left', left_index=True, right_index=True)\n",
    "df_combined.tail()"
   ]
  },
  {
   "cell_type": "markdown",
   "metadata": {
    "collapsed": true
   },
   "source": [
    "## 8. Analyse this"
   ]
  },
  {
   "cell_type": "code",
   "execution_count": 29,
   "metadata": {
    "collapsed": false
   },
   "outputs": [
    {
     "data": {
      "text/plain": [
       "<matplotlib.axes._subplots.AxesSubplot at 0x107239f50>"
      ]
     },
     "execution_count": 29,
     "metadata": {},
     "output_type": "execute_result"
    },
    {
     "data": {
      "image/png": "[encoded data removed]",
      "text/plain": [
       "<matplotlib.figure.Figure at 0x1075c5790>"
      ]
     },
     "metadata": {},
     "output_type": "display_data"
    }
   ],
   "source": [
    "df_combined['Safety Score'].hist()"
   ]
  },
  {
   "cell_type": "code",
   "execution_count": 35,
   "metadata": {
    "collapsed": false
   },
   "outputs": [
    {
     "data": {
      "text/plain": [
       "location\n",
       "Central_near_gym               1.0\n",
       "Redfern near station           1.0\n",
       "Erko_near_station              2.0\n",
       "Macdonaldtown near station     2.0\n",
       "Newtown near station           2.0\n",
       "Marrickville near station      3.0\n",
       "Petersham near station         3.0\n",
       "Stanmore_near_station          5.0\n",
       "Lewisham near station          5.0\n",
       "Summer Hill near station       5.0\n",
       "Mascot near station            5.0\n",
       "Artarmon near station          6.0\n",
       "Wolli creek near Nisch         6.0\n",
       "Neutral Bay near wharf         7.0\n",
       "Rhodes near Poovi              7.0\n",
       "Macmohans poimnt near wharf    7.5\n",
       "Holsworthy near station        9.0\n",
       "Concorde near station          9.0\n",
       "Bardwell Park near station     9.0\n",
       "Mosman near wharf              9.0\n",
       "Name: Safety Score, dtype: float64"
      ]
     },
     "execution_count": 35,
     "metadata": {},
     "output_type": "execute_result"
    }
   ],
   "source": [
    "df_combined.groupby(by='location')['Safety Score'].median().sort_values()"
   ]
  },
  {
   "cell_type": "code",
   "execution_count": 15,
   "metadata": {
    "collapsed": false,
    "scrolled": true
   },
   "outputs": [],
   "source": [
    "df_combined.to_csv('df_combined.csv',index=True,header=True)"
   ]
  }
 ],
 "metadata": {
  "kernelspec": {
   "display_name": "Python2.7_web_scraping",
   "language": "python",
   "name": "web_scraping"
  },
  "language_info": {
   "codemirror_mode": {
    "name": "ipython",
    "version": 2
   },
   "file_extension": ".py",
   "mimetype": "text/x-python",
   "name": "python",
   "nbconvert_exporter": "python",
   "pygments_lexer": "ipython2",
   "version": "2.7.13"
  }
 },
 "nbformat": 4,
 "nbformat_minor": 1
}
