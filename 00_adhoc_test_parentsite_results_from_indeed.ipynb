{
 "cells": [
  {
   "cell_type": "code",
   "execution_count": 1,
   "metadata": {
    "collapsed": true
   },
   "outputs": [],
   "source": [
    "from bs4 import BeautifulSoup\n",
    "from urllib2 import urlopen\n",
    "import pandas as pd\n",
    "import re\n",
    "import numpy as np\n",
    "from time import sleep\n",
    "%matplotlib inline\n",
    "import pylab as plt"
   ]
  },
  {
   "cell_type": "code",
   "execution_count": 43,
   "metadata": {
    "collapsed": false
   },
   "outputs": [
    {
     "data": {
      "text/plain": [
       "'http://au.indeed.com/jobs?as_and=&as_phr=&as_any=%22data+scientist%22&as_not=&as_ttl=&as_cmp=&jt=all&st=&salary=&radius=50&l=&fromage=any&limit=10&sort=&psf=advsrch'"
      ]
     },
     "execution_count": 43,
     "metadata": {},
     "output_type": "execute_result"
    }
   ],
   "source": [
    "search_query = 'http://au.indeed.com/jobs?as_and=&as_phr=&as_any=%22data+scientist%22&as_not=&as_ttl=&as_cmp=&jt=all&st=&salary=&radius=50&l=&fromage=any&limit=10&sort=&psf=advsrch'\n",
    "search_query"
   ]
  },
  {
   "cell_type": "code",
   "execution_count": 44,
   "metadata": {
    "collapsed": false
   },
   "outputs": [],
   "source": [
    "html = urlopen(search_query).read()  \n",
    "soup = BeautifulSoup(html, \"lxml\")"
   ]
  },
  {
   "cell_type": "code",
   "execution_count": 45,
   "metadata": {
    "collapsed": true
   },
   "outputs": [],
   "source": [
    "# get all the deets of each row. One row pertains to one job\n",
    "# incidentally, i noticed that the class \"row result\" was only picking 9 results in the first page.\n",
    "# this was because the last row was populated in another class 'lastRow row result'\n",
    "\n",
    "targetElements = soup.findAll('div', attrs = {'class' : ' row result'})\n",
    "targetElements.extend(soup.findAll('div', attrs = {'class' : 'lastRow row result'}))"
   ]
  },
  {
   "cell_type": "code",
   "execution_count": 46,
   "metadata": {
    "collapsed": false
   },
   "outputs": [
    {
     "data": {
      "text/plain": [
       "['http://www.indeed.com/rc/clk?jk=a114fbe217d945ca&fccid=4cb2c99955de433e',\n",
       " 'http://www.indeed.com/rc/clk?jk=15dcf3118aa5736d&fccid=0d3a3c9e16872169',\n",
       " 'http://www.indeed.com/rc/clk?jk=99d32405876f81f0&fccid=06921d11c91c117f',\n",
       " 'http://www.indeed.com/rc/clk?jk=38292b8c726cc39e&fccid=d76fa6bffb69966d',\n",
       " 'http://www.indeed.com/rc/clk?jk=ce39c1a612958317&fccid=3c9bc1385272ea26',\n",
       " 'http://www.indeed.com/rc/clk?jk=b8e8b2aa913f0709&fccid=f5ea592e52f5385b',\n",
       " 'http://www.indeed.com/rc/clk?jk=1e166ff18c4b5b75&fccid=f5ea592e52f5385b',\n",
       " 'http://www.indeed.com/rc/clk?jk=6a15b2388af04993&fccid=f60b94ea9e5e4320',\n",
       " 'http://www.indeed.com/rc/clk?jk=00e8914b9fc015ee&fccid=f8b265243da9f9d7',\n",
       " 'http://www.indeed.com/rc/clk?jk=89753f794765d027&fccid=a4cd0efa7775ecd2']"
      ]
     },
     "execution_count": 46,
     "metadata": {},
     "output_type": "execute_result"
    }
   ],
   "source": [
    "joblink = []\n",
    "home_url = 'http://www.indeed.com'\n",
    "\n",
    "for elem in targetElements:\n",
    "        joblink.append(\"%s%s\" % (home_url,elem.find('a').get('href')))\n",
    "\n",
    "joblink"
   ]
  },
  {
   "cell_type": "code",
   "execution_count": 58,
   "metadata": {
    "collapsed": false
   },
   "outputs": [
    {
     "data": {
      "text/plain": [
       "['Data is structured so will suit a Data Scientist with a strong mathematical background and with a strong interest in Analytics and its use in everyday life....',\n",
       " 'We are in need of a talented Data Scientist to grow our Business Analytics capability. Love working on complex Data problems....',\n",
       " 'Working with and leading a high performing, multidisciplinary team as a Senior Modeller/ Data Scientist, you will work across Data modelling, Quantitative and...',\n",
       " 'You are already a Data Analyst / Data Scientist / Statistics Analyst / BI Analyst / CRM Analyst / Quantitative Analyst....',\n",
       " 'As a Data Scientist, you will be responsible for:. Data Scientist required to join the Analytics division of a leading financial services business....',\n",
       " 'A genuine interest in pursuing a career in Data Analytics / Data Scientist, implementing analytical techniques and concepts such as;...',\n",
       " 'A genuine interest in pursuing a career in Data Analytics / Data Scientist, implementing analytical techniques and concepts such as;...',\n",
       " 'Academic experience with data mining or as a data scientist would also be desirable. Data accessible, searchable and convenient to use....',\n",
       " 'Market leading Data Science team and capability. An opportunity has arisen for an Associate Data Scientist to join a high performing team in a market leading...',\n",
       " 'We are looking for a Data Scientist to teach our brand new full time class:. Manipulation of large data sets; Why Teach the Data Science Immersive?...']"
      ]
     },
     "execution_count": 58,
     "metadata": {},
     "output_type": "execute_result"
    }
   ],
   "source": [
    "summary = []\n",
    "for elem in targetElements:\n",
    "    summary.append(elem.find('span', attrs = {'class':'summary'}).getText().strip().encode('utf-8'))\n",
    "    \n",
    "summary"
   ]
  },
  {
   "cell_type": "code",
   "execution_count": 8,
   "metadata": {
    "collapsed": true
   },
   "outputs": [],
   "source": [
    "final_job = 'data+scientist'"
   ]
  },
  {
   "cell_type": "code",
   "execution_count": 16,
   "metadata": {
    "collapsed": true
   },
   "outputs": [],
   "source": [
    "city = 'Sydney'\n",
    "state = 'NSW'"
   ]
  },
  {
   "cell_type": "code",
   "execution_count": 19,
   "metadata": {
    "collapsed": false
   },
   "outputs": [
    {
     "data": {
      "text/plain": [
       "'http://au.indeed.com/jobs?q=%22data+scientist%22&l=Sydney%2C+NSW'"
      ]
     },
     "execution_count": 19,
     "metadata": {},
     "output_type": "execute_result"
    }
   ],
   "source": [
    "final_city = city.split() \n",
    "final_city = '+'.join(word for word in final_city)\n",
    "final_site_list = ['http://au.indeed.com/jobs?q=%22', final_job, '%22&l=', final_city,\n",
    "                    '%2C+', state] # Join all of our strings together so that indeed will search correctly\n",
    "final_site = ''.join(final_site_list)\n",
    "final_site"
   ]
  },
  {
   "cell_type": "code",
   "execution_count": 18,
   "metadata": {
    "collapsed": true
   },
   "outputs": [],
   "source": [
    "base_url = 'http://www.indeed.com'"
   ]
  },
  {
   "cell_type": "code",
   "execution_count": 27,
   "metadata": {
    "collapsed": false
   },
   "outputs": [],
   "source": [
    "html = urlopen(final_site).read() # Open up the front page of our search first\n",
    "soup = BeautifulSoup(html,'lxml')"
   ]
  },
  {
   "cell_type": "code",
   "execution_count": 29,
   "metadata": {
    "collapsed": false
   },
   "outputs": [
    {
     "data": {
      "text/plain": [
       "'Jobs 1 to 10 of 29'"
      ]
     },
     "execution_count": 29,
     "metadata": {},
     "output_type": "execute_result"
    }
   ],
   "source": [
    "num_jobs_area = soup.find(id = 'searchCount').string.encode('utf-8')\n",
    "num_jobs_area"
   ]
  },
  {
   "cell_type": "code",
   "execution_count": 30,
   "metadata": {
    "collapsed": false
   },
   "outputs": [
    {
     "data": {
      "text/plain": [
       "['1', '10', '29']"
      ]
     },
     "execution_count": 30,
     "metadata": {},
     "output_type": "execute_result"
    }
   ],
   "source": [
    "job_numbers = re.findall('\\d+', num_jobs_area)\n",
    "job_numbers"
   ]
  },
  {
   "cell_type": "code",
   "execution_count": 31,
   "metadata": {
    "collapsed": false
   },
   "outputs": [
    {
     "data": {
      "text/plain": [
       "29"
      ]
     },
     "execution_count": 31,
     "metadata": {},
     "output_type": "execute_result"
    }
   ],
   "source": [
    "total_num_jobs = int(job_numbers[2])\n",
    "total_num_jobs"
   ]
  },
  {
   "cell_type": "code",
   "execution_count": 32,
   "metadata": {
    "collapsed": false
   },
   "outputs": [
    {
     "name": "stdout",
     "output_type": "stream",
     "text": [
      "There were 29 jobs found,\n"
     ]
    }
   ],
   "source": [
    "print 'There were', total_num_jobs, 'jobs found,'"
   ]
  },
  {
   "cell_type": "code",
   "execution_count": 34,
   "metadata": {
    "collapsed": false
   },
   "outputs": [
    {
     "data": {
      "text/plain": [
       "2"
      ]
     },
     "execution_count": 34,
     "metadata": {},
     "output_type": "execute_result"
    }
   ],
   "source": [
    "num_pages = total_num_jobs/10\n",
    "num_pages"
   ]
  },
  {
   "cell_type": "code",
   "execution_count": 35,
   "metadata": {
    "collapsed": true
   },
   "outputs": [],
   "source": [
    "job_descriptions = []"
   ]
  },
  {
   "cell_type": "code",
   "execution_count": 36,
   "metadata": {
    "collapsed": false
   },
   "outputs": [
    {
     "name": "stdout",
     "output_type": "stream",
     "text": [
      "Getting page 1\n"
     ]
    }
   ],
   "source": [
    "print 'Getting page', 1"
   ]
  },
  {
   "cell_type": "code",
   "execution_count": 39,
   "metadata": {
    "collapsed": false
   },
   "outputs": [
    {
     "data": {
      "text/plain": [
       "'10'"
      ]
     },
     "execution_count": 39,
     "metadata": {},
     "output_type": "execute_result"
    }
   ],
   "source": [
    "start_num = str(1*10)\n",
    "start_num"
   ]
  },
  {
   "cell_type": "code",
   "execution_count": 40,
   "metadata": {
    "collapsed": false
   },
   "outputs": [
    {
     "data": {
      "text/plain": [
       "'http://au.indeed.com/jobs?q=%22data+scientist%22&l=Sydney%2C+NSW&start=10'"
      ]
     },
     "execution_count": 40,
     "metadata": {},
     "output_type": "execute_result"
    }
   ],
   "source": [
    "current_page = ''.join([final_site, '&start=', start_num])\n",
    "current_page"
   ]
  },
  {
   "cell_type": "code",
   "execution_count": 41,
   "metadata": {
    "collapsed": false
   },
   "outputs": [
    {
     "data": {
      "text/plain": [
       "['http://www.indeed.com/promo/resume',\n",
       " 'http://www.indeed.com/promo/resume',\n",
       " 'http://www.indeed.com/rc/clk?jk=aeb778bdde413215&fccid=462555dec0279094',\n",
       " 'http://www.indeed.com/cmp/Unisys?from=SERP&campaignid=serp-linkcompanyname&fromjk=aeb778bdde413215&jcid=462555dec0279094',\n",
       " 'http://www.indeed.com/cmp/Unisys/reviews?jcid=462555dec0279094',\n",
       " 'http://www.indeed.com#',\n",
       " 'http://www.indeed.commailto:?subject=I found this job on Indeed&body=http://au.indeed.com',\n",
       " 'http://www.indeed.com#',\n",
       " 'http://www.indeed.com#',\n",
       " 'http://www.indeed.com/Unisys-jobs',\n",
       " 'http://www.indeed.com/jobs-in-Sydney-NSW',\n",
       " 'http://www.indeed.com/salaries/Data-Scientist-Salaries,-Sydney-NSW?fromjk=aeb778bdde413215&from=serp-more&campaignid=serp-more',\n",
       " 'http://www.indeed.com/cmp/Unisys?fromjk=aeb778bdde413215&from=serp-more&campaignid=serp-more&jcid=462555dec0279094',\n",
       " 'http://www.indeed.com/rc/clk?jk=c9ecc6af56a65bd0&fccid=6fa526af4db8440b',\n",
       " 'http://www.indeed.com#',\n",
       " 'http://www.indeed.commailto:?subject=I found this job on Indeed&body=http://au.indeed.com',\n",
       " 'http://www.indeed.com#',\n",
       " 'http://www.indeed.com#',\n",
       " 'http://www.indeed.com/Hipages-Group-jobs',\n",
       " 'http://www.indeed.com/jobs-in-Sydney-NSW',\n",
       " 'http://www.indeed.com/salaries/Data-Scientist-Salaries,-Sydney-NSW?fromjk=c9ecc6af56a65bd0&from=serp-more&campaignid=serp-more',\n",
       " 'http://www.indeed.com/rc/clk?jk=af0c2e11b0fc5a05&fccid=f5ea592e52f5385b',\n",
       " 'http://www.indeed.com#',\n",
       " 'http://www.indeed.commailto:?subject=I found this job on Indeed&body=http://au.indeed.com',\n",
       " 'http://www.indeed.com#',\n",
       " 'http://www.indeed.com#',\n",
       " 'http://www.indeed.com/Correlate-Resources-jobs',\n",
       " 'http://www.indeed.com/jobs-in-Sydney-NSW',\n",
       " 'http://www.indeed.com/salaries/Data-Scientist-Salaries,-Sydney-NSW?fromjk=af0c2e11b0fc5a05&from=serp-more&campaignid=serp-more',\n",
       " 'http://www.indeed.com/rc/clk?jk=16fac8d37b4f0b39&fccid=e6d4ba9e2cfe7902',\n",
       " 'http://www.indeed.com/cmp/Atlassian?from=SERP&campaignid=serp-linkcompanyname&fromjk=16fac8d37b4f0b39&jcid=e6d4ba9e2cfe7902',\n",
       " 'http://www.indeed.com/cmp/Atlassian/reviews?jcid=e6d4ba9e2cfe7902',\n",
       " 'http://www.indeed.com#',\n",
       " 'http://www.indeed.commailto:?subject=I found this job on Indeed&body=http://au.indeed.com',\n",
       " 'http://www.indeed.com#',\n",
       " 'http://www.indeed.com#',\n",
       " 'http://www.indeed.com/Atlassian-jobs',\n",
       " 'http://www.indeed.com/jobs-in-Sydney-NSW',\n",
       " 'http://www.indeed.com/salaries/Data-Scientist-Salaries,-Sydney-NSW?fromjk=16fac8d37b4f0b39&from=serp-more&campaignid=serp-more',\n",
       " 'http://www.indeed.com/cmp/Atlassian?fromjk=16fac8d37b4f0b39&from=serp-more&campaignid=serp-more&jcid=e6d4ba9e2cfe7902',\n",
       " 'http://www.indeed.com/rc/clk?jk=1e7815d4b81e7ff5&fccid=4e7f56ba3a8d694d',\n",
       " 'http://www.indeed.com#',\n",
       " 'http://www.indeed.commailto:?subject=I found this job on Indeed&body=http://au.indeed.com',\n",
       " 'http://www.indeed.com#',\n",
       " 'http://www.indeed.com#',\n",
       " 'http://www.indeed.com/Carbon-Recruitment-Group-jobs',\n",
       " 'http://www.indeed.com/jobs-in-Sydney-NSW',\n",
       " 'http://www.indeed.com/salaries/Data-Scientist-Salaries,-Sydney-NSW?fromjk=1e7815d4b81e7ff5&from=serp-more&campaignid=serp-more',\n",
       " 'http://www.indeed.com/rc/clk?jk=5cedc0aa3dd742c4&fccid=03ca15d10acd1376',\n",
       " 'http://www.indeed.com#',\n",
       " 'http://www.indeed.commailto:?subject=I found this job on Indeed&body=http://au.indeed.com',\n",
       " 'http://www.indeed.com#',\n",
       " 'http://www.indeed.com#',\n",
       " 'http://www.indeed.com/Tabcorp-Holdings-jobs',\n",
       " 'http://www.indeed.com/jobs-in-Sydney-NSW',\n",
       " 'http://www.indeed.com/salaries/Data-Scientist-Salaries,-Sydney-NSW?fromjk=5cedc0aa3dd742c4&from=serp-more&campaignid=serp-more',\n",
       " 'http://www.indeed.com/rc/clk?jk=ac36fdc82e8d926f&fccid=8d25321c1defe73f',\n",
       " 'http://www.indeed.com/cmp/Wipro?from=SERP&campaignid=serp-linkcompanyname&fromjk=ac36fdc82e8d926f&jcid=6b33544c31005707',\n",
       " 'http://www.indeed.com/cmp/Wipro/reviews?jcid=6b33544c31005707',\n",
       " 'http://www.indeed.com#',\n",
       " 'http://www.indeed.commailto:?subject=I found this job on Indeed&body=http://au.indeed.com',\n",
       " 'http://www.indeed.com#',\n",
       " 'http://www.indeed.com#',\n",
       " 'http://www.indeed.com/Wipro-Limited-jobs',\n",
       " 'http://www.indeed.com/jobs-in-Sydney-NSW',\n",
       " 'http://www.indeed.com/salaries/Principal-Scientist-Salaries,-Sydney-NSW?fromjk=ac36fdc82e8d926f&from=serp-more&campaignid=serp-more',\n",
       " 'http://www.indeed.com/cmp/Wipro?fromjk=ac36fdc82e8d926f&from=serp-more&campaignid=serp-more&jcid=6b33544c31005707',\n",
       " 'http://www.indeed.com/rc/clk?jk=3d64ca14d39ce82b&fccid=a7700731b3d1495c',\n",
       " 'http://www.indeed.com#',\n",
       " 'http://www.indeed.commailto:?subject=I found this job on Indeed&body=http://au.indeed.com',\n",
       " 'http://www.indeed.com#',\n",
       " 'http://www.indeed.com#',\n",
       " 'http://www.indeed.com/Just-Digital-People-jobs',\n",
       " 'http://www.indeed.com/jobs-in-Sydney-NSW',\n",
       " 'http://www.indeed.com/salaries/Data-Scientist-Salaries,-Sydney-NSW?fromjk=3d64ca14d39ce82b&from=serp-more&campaignid=serp-more',\n",
       " 'http://www.indeed.com/rc/clk?jk=40f03835807f26a0&fccid=ca995511ea3ebf33',\n",
       " 'http://www.indeed.com#',\n",
       " 'http://www.indeed.commailto:?subject=I found this job on Indeed&body=http://au.indeed.com',\n",
       " 'http://www.indeed.com#',\n",
       " 'http://www.indeed.com#',\n",
       " 'http://www.indeed.com/Eleventh-House-jobs',\n",
       " 'http://www.indeed.com/jobs-in-Sydney-NSW',\n",
       " 'http://www.indeed.com/salaries/Data-Scientist-Salaries,-Sydney-NSW?fromjk=40f03835807f26a0&from=serp-more&campaignid=serp-more',\n",
       " 'http://www.indeed.com/rc/clk?jk=423eab4da3e8a4c1&fccid=06921d11c91c117f',\n",
       " 'http://www.indeed.com#',\n",
       " 'http://www.indeed.commailto:?subject=I found this job on Indeed&body=http://au.indeed.com',\n",
       " 'http://www.indeed.com#',\n",
       " 'http://www.indeed.com#',\n",
       " 'http://www.indeed.com/Infopeople-jobs',\n",
       " 'http://www.indeed.com/jobs-in-Sydney-NSW',\n",
       " 'http://www.indeed.com/salaries/Data-Scientist-Salaries,-Sydney-NSW?fromjk=423eab4da3e8a4c1&from=serp-more&campaignid=serp-more',\n",
       " 'http://www.indeed.com/jobs?q=%22data+scientist%22&l=Sydney%2C+NSW',\n",
       " 'http://www.indeed.com/jobs?q=%22data+scientist%22&l=Sydney%2C+NSW',\n",
       " 'http://www.indeed.com/jobs?q=%22data+scientist%22&l=Sydney%2C+NSW&start=20',\n",
       " 'http://www.indeed.com/jobs?q=%22data+scientist%22&l=Sydney%2C+NSW&start=20&pp=']"
      ]
     },
     "execution_count": 41,
     "metadata": {},
     "output_type": "execute_result"
    }
   ],
   "source": [
    "html_page = urlopen(current_page).read()\n",
    "page_obj = BeautifulSoup(html_page)\n",
    "job_link_area = page_obj.find(id = 'resultsCol')\n",
    "job_URLS = [base_url + link.get('href') for link in job_link_area.find_all('a')]\n",
    "job_URLS"
   ]
  },
  {
   "cell_type": "code",
   "execution_count": 42,
   "metadata": {
    "collapsed": false
   },
   "outputs": [
    {
     "data": {
      "text/plain": [
       "['http://www.indeed.com/rc/clk?jk=aeb778bdde413215&fccid=462555dec0279094',\n",
       " 'http://www.indeed.com/rc/clk?jk=c9ecc6af56a65bd0&fccid=6fa526af4db8440b',\n",
       " 'http://www.indeed.com/rc/clk?jk=af0c2e11b0fc5a05&fccid=f5ea592e52f5385b',\n",
       " 'http://www.indeed.com/rc/clk?jk=16fac8d37b4f0b39&fccid=e6d4ba9e2cfe7902',\n",
       " 'http://www.indeed.com/rc/clk?jk=1e7815d4b81e7ff5&fccid=4e7f56ba3a8d694d',\n",
       " 'http://www.indeed.com/rc/clk?jk=5cedc0aa3dd742c4&fccid=03ca15d10acd1376',\n",
       " 'http://www.indeed.com/rc/clk?jk=ac36fdc82e8d926f&fccid=8d25321c1defe73f',\n",
       " 'http://www.indeed.com/rc/clk?jk=3d64ca14d39ce82b&fccid=a7700731b3d1495c',\n",
       " 'http://www.indeed.com/rc/clk?jk=40f03835807f26a0&fccid=ca995511ea3ebf33',\n",
       " 'http://www.indeed.com/rc/clk?jk=423eab4da3e8a4c1&fccid=06921d11c91c117f']"
      ]
     },
     "execution_count": 42,
     "metadata": {},
     "output_type": "execute_result"
    }
   ],
   "source": [
    "job_URLS = filter(lambda x:'clk' in x, job_URLS)\n",
    "job_URLS"
   ]
  },
  {
   "cell_type": "code",
   "execution_count": 51,
   "metadata": {
    "collapsed": true
   },
   "outputs": [],
   "source": [
    "website = 'http://www.indeed.com/rc/clk?jk=aeb778bdde413215&fccid=462555dec0279094'"
   ]
  },
  {
   "cell_type": "code",
   "execution_count": 56,
   "metadata": {
    "collapsed": false
   },
   "outputs": [],
   "source": [
    "site = urlopen(website).read()\n",
    "soup_obj = BeautifulSoup(site)"
   ]
  },
  {
   "cell_type": "code",
   "execution_count": 57,
   "metadata": {
    "collapsed": false
   },
   "outputs": [
    {
     "data": {
      "text/plain": [
       "u'\\n\\n\\n\\n\\n\\n\\n\\n\\n\\n\\n\\n\\n\\n\\n\\n\\n\\n\\n\\n\\n\\n\\n\\n\\n\\n\\n\\n\\n\\n\\n var time_interval_carousel = parseInt(5000);\\n\\n\\n\\n\\n\\n\\n\\n\\n\\n\\n\\n\\n\\n\\n\\n\\n\\r\\n\\t\\tif(!(\"fn\" in $))\\r\\n\\t\\t  $.fn = {};\\r\\n\\t\\tif(!(\"selectpicker\" in $.fn))\\r\\n\\t\\t  $.fn.selectpicker = {};\\r\\n\\t\\tif(!(\"defaults\" in $.fn.selectpicker))\\r\\n\\t\\t  $.fn.selectpicker.defaults = {};\\r\\n\\t\\tif(!(\"noneSelectedText\" in $.fn.selectpicker.defaults))\\r\\n\\t\\t  $.fn.selectpicker.defaults.noneSelectedText = {};\\r\\n\\t\\tif(!(\"noneResultsText\" in $.fn.selectpicker.defaults))\\r\\n\\t\\t  $.fn.selectpicker.defaults.noneResultsText = {};\\r\\n\\t\\tif(!(\"countSelectedText\" in $.fn.selectpicker.defaults))\\r\\n\\t\\t  $.fn.selectpicker.defaults.countSelectedText = {};\\r\\n\\t\\tif(!(\"maxOptionsText\" in $.fn.selectpicker.defaults))\\r\\n\\t\\t  $.fn.selectpicker.defaults.maxOptionsText = [];\\r\\n\\r\\n\\t\\t$.fn.selectpicker.defaults.noneSelectedText = \\'Nothing selected\\';\\r\\n\\t\\t$.fn.selectpicker.defaults.noneResultsText = \\'No results match\\';\\r\\n\\t\\t$.fn.selectpicker.defaults.countSelectedText = \\'{0} of {1} selected (VT)\\';\\r\\n\\t\\t$.fn.selectpicker.defaults.maxOptionsText =\\r\\n\\t\\t\\t[\\r\\n\\t\\t\\t\\t\\'Limit reached ({n} {var} max)\\', \\r\\n\\t\\t\\t\\t\\'Group limit reached ({n} {var} max)\\', \\r\\n\\t\\t\\t\\t[\\'items\\', \\'item\\']\\r\\n\\t\\t\\t];\\r\\n\\t\\n\\n\\n\\n\\n\\n\\n\\n\\n\\n\\r\\n\\t\\r\\n\\t$.fn.modal.Constructor.prototype.enforceFocus = function() {\\r\\n\\t\\t$(document).off(\"focusin.bs.modal\").on(\"focusin.bs.modal\", $.proxy(function(a) {\\r\\n            this.$element[0] === a.target || this.$element.has(a.target).length || (this.$element.find(\".recaptchav2\").length==0 && this.$element.focus());\\r\\n        }, this));\\r\\n\\t}\\r\\n\\n\\n\\n\\r\\n\\t\\t__endDocumentReach = true;\\r\\n\\r\\n\\t\\twindow.vPortalVersion = \"responsive\";\\r\\n\\r\\n\\t\\tif (window.$)\\r\\n\\t\\t\\t$(function(){window.onloadCompleted=true;$(\"body\").show();});\\r\\n\\t\\telse if( window.onload != null ){\\r\\n\\t\\t\\twindow.oldOnloadBeforeVInput = window.onload;\\r\\n\\t\\t\\twindow.onload = new Function(\"window.oldOnloadBeforeVInput();window.onloadCompleted=true;\");\\r\\n\\t\\t} else window.onload = new Function(\"window.onloadCompleted=true;\");\\r\\n\\t\\n\\n//<!--\\ndocument.criticalLanguage = \\'E\\';\\ndocument.displayLanguage = \\'EF\\';\\ndocument.languageDatabaseMode = \\'MULTILINGUE\\';\\ntxtCharacterLeft = \"character(s) left\";\\ntxtRequired = \"*\";\\ntxtvierror = \"Error\";\\ntxtviwarn = \"Warning\";\\nif (!window.vPortalVersion) {vPortalVersion = \\'basic\\';}\\n//-->\\n\\n\\n//<!--\\nself.vi_currentDate = new Date(2016,6-1,19,12,0,0,0);\\n\\n\\n//-->\\n\\n\\n//<!--\\nvi_mask = new Array();\\nvi_mask[\"DATE\"] = \\'mm-dd-yyyy\\';\\n//-->\\n\\n\\n//<!--\\nfunction fn_displayDateFormat()\\n{\\n\\treturn \\'mm-dd-yyyy\\';\\n}\\n\\n//-->\\n\\n\\n\\t//<!--\\n\\t\\trw_text_01 = \\'You have used the following terms in the **[label]** field. As these terms are not authorized by our code of ethics, you must replace them if you want to save your text.\\';\\n\\t\\trw_text_02 = \\'You have used the following terms in the **[label]** field. In order to respect our code of ethics, we recommend that you replace these terms.  If you choose to keep them, the system will allow you to save your text as is.\\';\\n\\t\\trw_text_03 = \\'Please replace these terms!\\';\\n\\t\\trw_text_04 = \\'Press \\\\\"\\\\\"OK\\\\\"\\\\\" to ignore this warning or press \\\\\"\\\\\"Cancel\\\\\"\\\\\" to apply yourself the suggested replacement.\\';\\n\\t\\trw_text_05 = \\'Suggested term: \\';\\n\\t//-->\\n\\t\\n\\n\\n\\n\\n\\n\\n\\n\\r\\n\\t\\r\\n\\t$(document).ready( function()\\r\\n\\t{\\r\\n\\t\\tfn_timerInit(5,59940,5,9999);\\r\\n\\t});\\r\\n\\n\\r\\ntxtClose = \\'Close\\';\\r\\n\\r\\n\\n\\n\\r\\n\\t\\t\\t\\t\\t\\r\\n\\t\\tfunction fctSubMenu(id, fc) {\\r\\n\\t\\t\\tif(fc == \\'show\\')\\r\\n\\t\\t\\t\\t$(\"#subMenu_\"+id).show();\\t\\t\\t\\t\\r\\n\\t\\t\\telse\\r\\n\\t\\t\\t\\t$(\"#subMenu_\"+id).hide();\\r\\n\\t\\t}\\r\\n\\t\\t\\r\\n\\t\\tfunction fctShowSubMenu(id) {\\r\\n\\t\\t\\t$(\"#subMenu_\"+id).show();\\t\\t\\t\\r\\n\\t\\t}\\t\\r\\n\\t\\t\\r\\n\\t\\tfunction fctHideSubMenu(id) {\\r\\n\\t\\t\\t$(\"#subMenu_\"+id).hide();\\r\\n\\t\\t}\\t\\r\\n\\t\\tfunction fctRefreshMenus(id) {\\r\\n\\t\\t\\t$(\".li-header ul.dropdown-menu\").each(function() {\\r\\n\\t\\t\\t\\tif(\"subMenu_\"+id != $(this).attr(\"id\"))\\r\\n\\t\\t\\t\\t\\t$(this).hide();\\r\\n\\t\\t\\t\\telse\\r\\n\\t\\t\\t\\t\\t$(this).show();\\r\\n\\t\\t\\t});\\r\\n\\t\\t}\\t\\t\\r\\n\\t\\t\\t\\r\\n\\t\\t\\r\\n\\t\\t$(document).ready(function()\\r\\n\\t\\t{\\t\\t\\t\\r\\n\\t\\t    $(\".bs-jobs-menu\").accessibleDropDown();\\r\\n\\t\\t    $(\".bs-jobs-menu .menu-opener\").bind(\\'click\\',function(event)\\r\\n\\t\\t    {\\r\\n\\t\\t    \\t$(this).parents(\\':first\\').children(\\'ul:first\\').toggle();\\r\\n\\t\\t    \\t$(this).toggleClass(\\'menu-open\\').toggleClass(\\'menu-close\\');\\r\\n\\t\\t    \\tevent.preventDefault();\\r\\n\\t\\t    });\\r\\n\\t\\t    \\r\\n\\t\\t    $(\".bs-jobs-menu .menu-active\").each(function(i,e)\\r\\n\\t\\t    {\\r\\n\\t\\t    \\tsetTimeout(function(){$(e).parents(\\'ul.menu-group:first\\').parents(\\'li:first\\').children(\\'.menu-opener\\').click();},1);\\r\\n\\t\\t    });\\t\\r\\n\\r\\n\\t\\t});\\r\\n\\t\\t\\r\\n\\t\\t$.fn.accessibleDropDown = function ()\\r\\n\\t\\t{\\t\\t\\t\\r\\n\\t\\t    var el = $(this);\\r\\n\\t\\t\\t/* Setup dropdown menus for IE 6 */\\r\\n\\t\\t\\t$(\"li\", el).mouseover(function() {\\t\\t\\t\\t\\r\\n\\t\\t\\t\\t$(this).addClass(\"sfhover\");\\r\\n\\t\\t\\t}).mouseout(function() {\\r\\n\\t\\t\\t\\t$(this).removeClass(\"sfhover\");\\r\\n\\t\\t\\t});\\t\\t\\r\\n\\t\\t\\t\\r\\n\\t\\t\\t/* Make dropdown menus keyboard accessible */\\r\\n\\t\\t\\t$(\"a\", el).focus(function() {\\r\\n\\t\\t\\t\\t$(this).parents(\"li\").addClass(\"sfhover\");\\t\\t\\t\\r\\n\\t\\t\\t}).blur(function() {\\r\\n\\t\\t\\t\\t$(this).parents(\"li\").removeClass(\"sfhover\");\\t\\r\\n\\t\\t\\t});\\r\\n\\t\\t\\t\\t\\t\\t\\r\\n\\t\\t}\\r\\n\\t\\r\\n\\t\\t\\t\\t\\t\\n\\r\\n\\t\\t$(document).ready(function() {\\r\\n\\t\\t\\t\\r\\n\\t\\t\\t\\t$(\"#language_v1 .selectpicker\").selectpicker();\\r\\n\\t\\t\\t\\t\\t\\t\\r\\n\\t\\t});\\t\\r\\n\\t/* <![CDATA[ */\\r\\n\\tvFile_language = \\'?_3x3166263Z1U7Kfa0513e6-e1aa-4ff3-b1d3-e7a20a8f17d7\\';\\r\\n\\t/* ]]> */\\r\\n\\t\\n\\r\\n\\t\\t\\t\\t\\t\\r\\n\\t\\t\\t\\t\\r\\n\\t\\t\\t\\twindow.closeSmartAssistant = function(api,e){\\r\\n\\t\\t\\t\\t\\t\\r\\n\\t\\t\\t\\t\\t$(\"#_MYNEWS\").closest(\".ajaxloader\").change();\\r\\n\\t\\t\\t\\t}\\r\\n\\t\\t\\t\\t\\r\\n\\t\\t\\t\\t$( document ).ready(function() {\\t\\t\\t\\t\\t\\r\\n\\t\\t\\t\\t\\t\\r\\n\\t\\t\\t\\t\\t\\t$(\"#_MYNEWS .togglePanel\").click(function(e) {\\r\\n\\t\\t\\t\\t\\t\\t\\te.preventDefault();\\r\\n\\t\\t\\t\\t\\t\\t\\te.stopPropagation();\\r\\n\\t\\t\\t\\t\\t\\t\\tvar $l = $(\"#_MYNEWSlist\");\\r\\n\\t\\t\\t\\t\\t\\t\\tvar $c = $(\"#_MYNEWScarousel\");\\r\\n\\t\\t\\t\\t\\t\\t\\tvar paneldefault = $(\".panel.panel-default\", \"#_MYNEWS\");\\r\\n\\t\\t\\t\\t\\t\\t\\tvar isfixed = paneldefault.hasClass(\"isfixed\");\\r\\n\\t\\t\\t\\t\\t\\t\\t\\r\\n\\t\\t\\t\\t\\t\\t\\tif ($l.is(\":visible\")){\\r\\n\\t\\t\\t\\t\\t\\t\\t\\t$(\\'#_MYNEWS .btn-group\\').css(\\'display\\' , \\'block\\');\\r\\n\\t\\t\\t\\t\\t\\t\\t\\tif (!isfixed){\\r\\n\\t\\t\\t\\t\\t\\t\\t\\t\\tvar initialHeight = paneldefault.data(\"initialheight\");\\r\\n\\t\\t\\t\\t\\t\\t\\t\\t\\tif (initialHeight != \"\"){\\r\\n\\t\\t\\t\\t\\t\\t\\t\\t\\t\\tpaneldefault.height(initialHeight);\\r\\n\\t\\t\\t\\t\\t\\t\\t\\t\\t}\\r\\n\\t\\t\\t\\t\\t\\t\\t\\t}\\r\\n\\t\\t\\t\\t\\t\\t\\t\\t\\r\\n\\t\\t\\t\\t\\t\\t\\t\\t\\t$c.carousel(0).carousel(\\'cycle\\');\\r\\n\\t\\t\\t\\t\\t\\t\\t\\t\\r\\n\\t\\t\\t\\t\\t\\t\\t\\t$c.show();\\r\\n\\t\\t\\t\\t\\t\\t\\t\\t$l.hide();\\r\\n\\t\\t\\t\\t\\t\\t\\t} else {\\r\\n\\t\\t\\t\\t\\t\\t\\t\\t$(\\'#_MYNEWS .btn-group\\').css(\\'display\\' , \\'none\\');\\r\\n\\t\\t\\t\\t\\t\\t\\t\\tif (!isfixed){\\r\\n\\t\\t\\t\\t\\t\\t\\t\\t\\tpaneldefault.height(\"auto\");\\r\\n\\t\\t\\t\\t\\t\\t\\t\\t}\\r\\n\\t\\t\\t\\t\\t\\t\\t\\t$l.show();\\r\\n\\t\\t\\t\\t\\t\\t\\t\\t$c.hide();\\r\\n\\t\\t\\t\\t\\t\\t\\t\\tvar m = 0;\\r\\n\\t\\t\\t\\t\\t\\t\\t\\t\\r\\n\\t\\t\\t\\t\\t\\t\\t\\t\\t$(\"#_MYNEWSlist > .row\").each(function() {\\r\\n\\t\\t\\t\\t\\t\\t\\t\\t\\t\\tm = Math.max(m, $(this).innerHeight());\\r\\n\\t\\t\\t\\t\\t\\t\\t\\t\\t});\\r\\n\\t\\t\\t\\t\\t\\t\\t\\t\\t$(\"#_MYNEWSlist > .row\").css(\"height\", m + \"px\");\\r\\n\\t\\t\\t\\t\\t\\t\\t\\t\\r\\n\\t\\t\\t\\t\\t\\t\\t\\t$(\"#_MYNEWSlist > .buttonlist\").css({\\r\\n\\t\\t\\t\\t\\t\\t\\t\\t\\t\"position\" : \"absolute\",\\r\\n\\t\\t\\t\\t\\t\\t\\t\\t\\t\"bottom\" : 0,\\r\\n\\t\\t\\t\\t\\t\\t\\t\\t\\t\"right\" : \"10px\"\\r\\n\\t\\t\\t\\t\\t\\t\\t\\t});\\r\\n\\t\\t\\t\\t\\t\\t\\t\\t\\r\\n\\t\\t\\t\\t\\t\\t\\t\\t\\t$c.carousel(\"pause\");\\r\\n\\t\\t\\t\\t\\t\\t\\t\\t\\r\\n\\t\\t\\t\\t\\t\\t\\t}\\r\\n\\t\\t\\t\\t\\t\\t});\\r\\n\\t\\t\\t\\t\\t\\t\\r\\n\\t\\t\\t\\t\\t\\t\\r\\n\\t\\t\\t\\t\\t\\t\\t$(\"#_MYNEWS .btPlay\").click(function(e) {\\r\\n\\t\\t\\t\\t\\t\\t\\t\\te.stopPropagation();\\r\\n\\t\\t\\t\\t\\t\\t\\t\\tvar $this = $(this);\\t\\t\\t\\t\\t\\t\\r\\n\\t\\t\\t\\t\\t\\t\\t\\tvar $c = $(\"#_MYNEWScarousel\");\\r\\n\\t\\t\\t\\t\\t\\t\\t\\tif ($this.find(\".glyphicon-play:visible\").length>0) {\\r\\n\\t\\t\\t\\t\\t\\t\\t\\t\\t$this.find(\".glyphicon-play\").hide();\\r\\n\\t\\t\\t\\t\\t\\t\\t\\t\\t$this.find(\".glyphicon-pause\").show();\\r\\n\\t\\t\\t\\t\\t\\t\\t\\t\\t$c.carousel(\\'cycle\\');\\r\\n\\t\\t\\t\\t\\t\\t\\t\\t} else {\\r\\n\\t\\t\\t\\t\\t\\t\\t\\t\\t$this.find(\".glyphicon-play\").show();\\r\\n\\t\\t\\t\\t\\t\\t\\t\\t\\t$this.find(\".glyphicon-pause\").hide();\\r\\n\\t\\t\\t\\t\\t\\t\\t\\t\\t$c.carousel(\\'pause\\');\\r\\n\\t\\t\\t\\t\\t\\t\\t\\t}\\t\\r\\n\\t\\t\\t\\t\\t\\t\\t});\\t\\t\\t\\r\\n\\t\\t\\t\\t\\t\\t\\r\\n\\t\\t\\t\\t\\t\\t$(\"#_MYNEWS .btNext\").click(function(e) {\\r\\n\\t\\t\\t\\t\\t\\t\\te.stopPropagation();\\r\\n\\t\\t\\t\\t\\t\\t\\t$(\"#_MYNEWScarousel\").carousel(\\'next\\');\\r\\n\\t\\t\\t\\t\\t\\t});\\r\\n\\t\\t\\t\\t\\t\\t$(\"#_MYNEWS .btPrevious\").click(function(e) {\\r\\n\\t\\t\\t\\t\\t\\t\\te.stopPropagation();\\r\\n\\t\\t\\t\\t\\t\\t\\t$(\"#_MYNEWScarousel\").carousel(\\'prev\\');\\r\\n\\t\\t\\t\\t\\t\\t});\\t\\t\\t\\t\\t\\r\\n\\t\\t\\t\\t\\t\\t\\r\\n\\t\\t\\t\\t\\t\\r\\n\\t\\t\\t\\t\\tsetTimeout(function() \\r\\n\\t\\t\\t\\t\\t{\\r\\n\\t\\t\\t\\t\\t\\t\\r\\n\\t\\t\\t\\t\\t\\t\\tvar _MYNEWSm = 0;\\r\\n\\t\\t\\t\\t\\t\\t\\t$(\"#_MYNEWScarousel .carousel-inner .item\").each(function() {\\r\\n\\t\\t\\t\\t\\t\\t\\t\\t_MYNEWSm = Math.max(_MYNEWSm, $(this).innerHeight());\\r\\n\\t\\t\\t\\t\\t\\t\\t});\\r\\n\\t\\t\\t\\t\\t\\t\\t$(\"#_MYNEWScarousel .carousel-inner .item\").css(\"min-height\", _MYNEWSm + \"px\");\\r\\n\\t\\t\\t\\t\\t\\t\\r\\n\\t\\t\\t\\t\\t\\t\\r\\n\\t\\t\\t\\t\\t\\t\\r\\n\\t\\t\\t\\t\\t},50);\\r\\n\\t\\t\\t\\t\\t\\r\\n\\t\\t\\t\\t\\t\\r\\n\\t\\t\\t\\t\\t\\r\\n\\t\\t\\t\\t});\\r\\n\\t\\t\\t\\r\\n\\t\\t\\t\\t\\t\\n\\r\\n\\t\\t\\tfunction submitSearchBottom(jobSearchInstance) {\\r\\n\\t\\t\\t\\t$(\"#frmimproveSearch2_\"+jobSearchInstance).submit();\\r\\n\\r\\n\\t\\t \\t\\tsetTimeout(function() {\\r\\n\\t\\t \\t\\t\\t$(\\'#btnSearchbutton2_\\' + jobSearchInstance).attr(\\'disabled\\', \\'disabled\\');\\r\\n\\t \\t\\t\\t\\t$(\\'#btnSearchbutton2_\\'+ jobSearchInstance).val(\\'Search in progress...\\');\\r\\n\\t\\t \\t\\t}, 0);\\r\\n\\t\\t\\t}\\r\\n\\t\\t\\t\\r\\n\\t\\t\\t$(document).ready(function() {\\r\\n\\t\\t\\t\\t$(\"#fldKeywords_jsw_1\").keypress(function(e) {\\r\\n\\t\\t\\t        if (e.keyCode==13) {\\r\\n\\t\\t\\t            $(\"#btnSearch2_1\").click();\\r\\n\\t\\t\\t            return false;\\r\\n\\t\\t\\t        }\\r\\n\\t\\t\\t    });  \\r\\n\\t\\t\\t    \\r\\n\\t\\t\\t\\tif(typeof availableTags !== \\'undefined\\')\\r\\n\\t\\t\\t\\t\\t$(\\'#fldKeywords\\').autocompleteold({\\r\\n\\t\\t\\t\\t\\t\\t\\t\\t\\t\\t\\t\\t  lookup: availableTags,\\r\\n\\t\\t\\t\\t\\t\\t\\t\\t\\t\\t\\t\\t  appendTo : $(\"#keywordAncer\"),\\r\\n\\t\\t\\t\\t\\t\\t\\t\\t\\t\\t\\t\\t  width : 400\\r\\n\\t\\t\\t\\t\\t});\\r\\n\\r\\n\\t\\t    });\\r\\n\\t\\t    \\r\\n\\t\\t    \\r\\n\\t\\t    \\r\\n\\t    \\n\\r\\n\\t\\t\\t\\t\\t\\r\\n\\t\\t\\t\\t\\r\\n\\t\\t\\t\\twindow.closeSmartAssistant = function(api,e){\\r\\n\\t\\t\\t\\t\\t\\r\\n\\t\\t\\t\\t\\t$(\"#_jobsearch\").closest(\".ajaxloader\").change();\\r\\n\\t\\t\\t\\t}\\r\\n\\t\\t\\t\\t\\r\\n\\t\\t\\t\\t$( document ).ready(function() {\\t\\t\\t\\t\\t\\r\\n\\t\\t\\t\\t\\t\\r\\n\\t\\t\\t\\t\\t\\t$(\"#_jobsearch .togglePanel\").click(function(e) {\\r\\n\\t\\t\\t\\t\\t\\t\\te.preventDefault();\\r\\n\\t\\t\\t\\t\\t\\t\\te.stopPropagation();\\r\\n\\t\\t\\t\\t\\t\\t\\tvar $l = $(\"#_jobsearchlist\");\\r\\n\\t\\t\\t\\t\\t\\t\\tvar $c = $(\"#_jobsearchcarousel\");\\r\\n\\t\\t\\t\\t\\t\\t\\tvar paneldefault = $(\".panel.panel-default\", \"#_jobsearch\");\\r\\n\\t\\t\\t\\t\\t\\t\\tvar isfixed = paneldefault.hasClass(\"isfixed\");\\r\\n\\t\\t\\t\\t\\t\\t\\t\\r\\n\\t\\t\\t\\t\\t\\t\\tif ($l.is(\":visible\")){\\r\\n\\t\\t\\t\\t\\t\\t\\t\\t$(\\'#_jobsearch .btn-group\\').css(\\'display\\' , \\'block\\');\\r\\n\\t\\t\\t\\t\\t\\t\\t\\tif (!isfixed){\\r\\n\\t\\t\\t\\t\\t\\t\\t\\t\\tvar initialHeight = paneldefault.data(\"initialheight\");\\r\\n\\t\\t\\t\\t\\t\\t\\t\\t\\tif (initialHeight != \"\"){\\r\\n\\t\\t\\t\\t\\t\\t\\t\\t\\t\\tpaneldefault.height(initialHeight);\\r\\n\\t\\t\\t\\t\\t\\t\\t\\t\\t}\\r\\n\\t\\t\\t\\t\\t\\t\\t\\t}\\r\\n\\t\\t\\t\\t\\t\\t\\t\\t\\r\\n\\t\\t\\t\\t\\t\\t\\t\\t\\t$c.carousel(0).carousel(\\'cycle\\');\\r\\n\\t\\t\\t\\t\\t\\t\\t\\t\\r\\n\\t\\t\\t\\t\\t\\t\\t\\t$c.show();\\r\\n\\t\\t\\t\\t\\t\\t\\t\\t$l.hide();\\r\\n\\t\\t\\t\\t\\t\\t\\t} else {\\r\\n\\t\\t\\t\\t\\t\\t\\t\\t$(\\'#_jobsearch .btn-group\\').css(\\'display\\' , \\'none\\');\\r\\n\\t\\t\\t\\t\\t\\t\\t\\tif (!isfixed){\\r\\n\\t\\t\\t\\t\\t\\t\\t\\t\\tpaneldefault.height(\"auto\");\\r\\n\\t\\t\\t\\t\\t\\t\\t\\t}\\r\\n\\t\\t\\t\\t\\t\\t\\t\\t$l.show();\\r\\n\\t\\t\\t\\t\\t\\t\\t\\t$c.hide();\\r\\n\\t\\t\\t\\t\\t\\t\\t\\tvar m = 0;\\r\\n\\t\\t\\t\\t\\t\\t\\t\\t\\r\\n\\t\\t\\t\\t\\t\\t\\t\\t\\t$(\"#_jobsearchlist > .row\").each(function() {\\r\\n\\t\\t\\t\\t\\t\\t\\t\\t\\t\\tm = Math.max(m, $(this).innerHeight());\\r\\n\\t\\t\\t\\t\\t\\t\\t\\t\\t});\\r\\n\\t\\t\\t\\t\\t\\t\\t\\t\\t$(\"#_jobsearchlist > .row\").css(\"height\", m + \"px\");\\r\\n\\t\\t\\t\\t\\t\\t\\t\\t\\r\\n\\t\\t\\t\\t\\t\\t\\t\\t$(\"#_jobsearchlist > .buttonlist\").css({\\r\\n\\t\\t\\t\\t\\t\\t\\t\\t\\t\"position\" : \"absolute\",\\r\\n\\t\\t\\t\\t\\t\\t\\t\\t\\t\"bottom\" : 0,\\r\\n\\t\\t\\t\\t\\t\\t\\t\\t\\t\"right\" : \"10px\"\\r\\n\\t\\t\\t\\t\\t\\t\\t\\t});\\r\\n\\t\\t\\t\\t\\t\\t\\t\\t\\r\\n\\t\\t\\t\\t\\t\\t\\t\\t\\t$c.carousel(\"pause\");\\r\\n\\t\\t\\t\\t\\t\\t\\t\\t\\r\\n\\t\\t\\t\\t\\t\\t\\t}\\r\\n\\t\\t\\t\\t\\t\\t});\\r\\n\\t\\t\\t\\t\\t\\t\\r\\n\\t\\t\\t\\t\\t\\t\\r\\n\\t\\t\\t\\t\\t\\r\\n\\t\\t\\t\\t\\tsetTimeout(function() \\r\\n\\t\\t\\t\\t\\t{\\r\\n\\t\\t\\t\\t\\t\\t\\r\\n\\t\\t\\t\\t\\t\\t\\tvar _jobsearchm = 0;\\r\\n\\t\\t\\t\\t\\t\\t\\t$(\"#_jobsearchcarousel .carousel-inner .item\").each(function() {\\r\\n\\t\\t\\t\\t\\t\\t\\t\\t_jobsearchm = Math.max(_jobsearchm, $(this).innerHeight());\\r\\n\\t\\t\\t\\t\\t\\t\\t});\\r\\n\\t\\t\\t\\t\\t\\t\\t$(\"#_jobsearchcarousel .carousel-inner .item\").css(\"min-height\", _jobsearchm + \"px\");\\r\\n\\t\\t\\t\\t\\t\\t\\r\\n\\t\\t\\t\\t\\t\\t\\r\\n\\t\\t\\t\\t\\t\\t\\r\\n\\t\\t\\t\\t\\t},50);\\r\\n\\t\\t\\t\\t\\t\\r\\n\\t\\t\\t\\t\\t\\r\\n\\t\\t\\t\\t\\t\\r\\n\\t\\t\\t\\t});\\r\\n\\t\\t\\t\\r\\n\\t\\t\\t\\t\\t\\n\\r\\n\\t\\t\\t\\t\\t\\r\\n\\t\\t\\t\\t\\r\\n\\t\\t\\t\\twindow.closeSmartAssistant = function(api,e){\\r\\n\\t\\t\\t\\t\\t\\r\\n\\t\\t\\t\\t\\t$(\"#_searchbylocation\").closest(\".ajaxloader\").change();\\r\\n\\t\\t\\t\\t}\\r\\n\\t\\t\\t\\t\\r\\n\\t\\t\\t\\t$( document ).ready(function() {\\t\\t\\t\\t\\t\\r\\n\\t\\t\\t\\t\\t\\r\\n\\t\\t\\t\\t\\t\\t$(\"#_searchbylocation .togglePanel\").click(function(e) {\\r\\n\\t\\t\\t\\t\\t\\t\\te.preventDefault();\\r\\n\\t\\t\\t\\t\\t\\t\\te.stopPropagation();\\r\\n\\t\\t\\t\\t\\t\\t\\tvar $l = $(\"#_searchbylocationlist\");\\r\\n\\t\\t\\t\\t\\t\\t\\tvar $c = $(\"#_searchbylocationcarousel\");\\r\\n\\t\\t\\t\\t\\t\\t\\tvar paneldefault = $(\".panel.panel-default\", \"#_searchbylocation\");\\r\\n\\t\\t\\t\\t\\t\\t\\tvar isfixed = paneldefault.hasClass(\"isfixed\");\\r\\n\\t\\t\\t\\t\\t\\t\\t\\r\\n\\t\\t\\t\\t\\t\\t\\tif ($l.is(\":visible\")){\\r\\n\\t\\t\\t\\t\\t\\t\\t\\t$(\\'#_searchbylocation .btn-group\\').css(\\'display\\' , \\'block\\');\\r\\n\\t\\t\\t\\t\\t\\t\\t\\tif (!isfixed){\\r\\n\\t\\t\\t\\t\\t\\t\\t\\t\\tvar initialHeight = paneldefault.data(\"initialheight\");\\r\\n\\t\\t\\t\\t\\t\\t\\t\\t\\tif (initialHeight != \"\"){\\r\\n\\t\\t\\t\\t\\t\\t\\t\\t\\t\\tpaneldefault.height(initialHeight);\\r\\n\\t\\t\\t\\t\\t\\t\\t\\t\\t}\\r\\n\\t\\t\\t\\t\\t\\t\\t\\t}\\r\\n\\t\\t\\t\\t\\t\\t\\t\\t\\r\\n\\t\\t\\t\\t\\t\\t\\t\\t\\t$c.carousel(0).carousel(\\'cycle\\');\\r\\n\\t\\t\\t\\t\\t\\t\\t\\t\\r\\n\\t\\t\\t\\t\\t\\t\\t\\t$c.show();\\r\\n\\t\\t\\t\\t\\t\\t\\t\\t$l.hide();\\r\\n\\t\\t\\t\\t\\t\\t\\t} else {\\r\\n\\t\\t\\t\\t\\t\\t\\t\\t$(\\'#_searchbylocation .btn-group\\').css(\\'display\\' , \\'none\\');\\r\\n\\t\\t\\t\\t\\t\\t\\t\\tif (!isfixed){\\r\\n\\t\\t\\t\\t\\t\\t\\t\\t\\tpaneldefault.height(\"auto\");\\r\\n\\t\\t\\t\\t\\t\\t\\t\\t}\\r\\n\\t\\t\\t\\t\\t\\t\\t\\t$l.show();\\r\\n\\t\\t\\t\\t\\t\\t\\t\\t$c.hide();\\r\\n\\t\\t\\t\\t\\t\\t\\t\\tvar m = 0;\\r\\n\\t\\t\\t\\t\\t\\t\\t\\t\\r\\n\\t\\t\\t\\t\\t\\t\\t\\t\\t$(\"#_searchbylocationlist > .row\").each(function() {\\r\\n\\t\\t\\t\\t\\t\\t\\t\\t\\t\\tm = Math.max(m, $(this).innerHeight());\\r\\n\\t\\t\\t\\t\\t\\t\\t\\t\\t});\\r\\n\\t\\t\\t\\t\\t\\t\\t\\t\\t$(\"#_searchbylocationlist > .row\").css(\"height\", m + \"px\");\\r\\n\\t\\t\\t\\t\\t\\t\\t\\t\\r\\n\\t\\t\\t\\t\\t\\t\\t\\t$(\"#_searchbylocationlist > .buttonlist\").css({\\r\\n\\t\\t\\t\\t\\t\\t\\t\\t\\t\"position\" : \"absolute\",\\r\\n\\t\\t\\t\\t\\t\\t\\t\\t\\t\"bottom\" : 0,\\r\\n\\t\\t\\t\\t\\t\\t\\t\\t\\t\"right\" : \"10px\"\\r\\n\\t\\t\\t\\t\\t\\t\\t\\t});\\r\\n\\t\\t\\t\\t\\t\\t\\t\\t\\r\\n\\t\\t\\t\\t\\t\\t\\t\\t\\t$c.carousel(\"pause\");\\r\\n\\t\\t\\t\\t\\t\\t\\t\\t\\r\\n\\t\\t\\t\\t\\t\\t\\t}\\r\\n\\t\\t\\t\\t\\t\\t});\\r\\n\\t\\t\\t\\t\\t\\t\\r\\n\\t\\t\\t\\t\\t\\t\\r\\n\\t\\t\\t\\t\\t\\r\\n\\t\\t\\t\\t\\tsetTimeout(function() \\r\\n\\t\\t\\t\\t\\t{\\r\\n\\t\\t\\t\\t\\t\\t\\r\\n\\t\\t\\t\\t\\t\\t\\tvar _searchbylocationm = 0;\\r\\n\\t\\t\\t\\t\\t\\t\\t$(\"#_searchbylocationcarousel .carousel-inner .item\").each(function() {\\r\\n\\t\\t\\t\\t\\t\\t\\t\\t_searchbylocationm = Math.max(_searchbylocationm, $(this).innerHeight());\\r\\n\\t\\t\\t\\t\\t\\t\\t});\\r\\n\\t\\t\\t\\t\\t\\t\\t$(\"#_searchbylocationcarousel .carousel-inner .item\").css(\"min-height\", _searchbylocationm + \"px\");\\r\\n\\t\\t\\t\\t\\t\\t\\r\\n\\t\\t\\t\\t\\t\\t\\r\\n\\t\\t\\t\\t\\t\\t\\r\\n\\t\\t\\t\\t\\t},50);\\r\\n\\t\\t\\t\\t\\t\\r\\n\\t\\t\\t\\t\\t\\r\\n\\t\\t\\t\\t\\t\\r\\n\\t\\t\\t\\t});\\r\\n\\t\\t\\t\\r\\n\\t\\t\\t\\t\\t\\n\\n\\r\\n\\t\\t\\t\\t\\t\\r\\n\\r\\n\\r\\n\\tfunction onLinkedInLoad0() {\\r\\n\\t\\t$(\"#linkedinLogin0\").off();\\r\\n\\t  $(\"#linkedinLogin0\").click(function () {\\r\\n\\t    IN.User.authorize(); return false;\\r\\n\\t  });\\r\\n\\t}\\r\\n\\tfunction onFailLinkedInLoad0(){\\r\\n\\t\\t$(\"#linkedinLogin0\").off();\\r\\n\\t$(\"#linkedinLogin0\").click(function () {\\r\\n\\t\\t    alert(\\'The site www.linkedin.com is not accessible.\\');\\r\\n\\t  });\\r\\n\\t}\\r\\n\\r\\n\\tfunction onLinkedInLogout0() {\\r\\n\\t  setLogin0(false,\\'li\\');\\r\\n\\t}\\r\\n\\r\\n\\r\\n\\tfunction loginFacebook0(){\\r\\n\\t\\ttry {\\r\\n\\t\\tFB.login(function(response) {\\r\\n\\t\\t   if (response.authResponse) {\\r\\n\\t\\t     $(\"#socialloginbadge0\").show();\\r\\n\\t\\t     FB.api(\\'/me\\', function(response) {\\r\\n\\t\\t       setLogin0(response,\\'fb\\');\\r\\n\\t\\t     });\\r\\n\\t\\t   } else {\\r\\n\\t\\t     console.log(\\'User cancelled login or did not fully authorize.\\');\\r\\n\\t\\t   }\\r\\n\\t\\t }\\r\\n\\t\\t , {scope: \\'user_location,friends_location,user_work_history,friends_work_history,user_education_history,friends_education_history,read_friendlists,user_friends\\'}\\r\\n\\t\\t );\\r\\n\\t\\t}\\r\\n\\t\\t catch (error) {\\r\\n\\r\\n\\t\\t}\\r\\n\\t}\\r\\n\\r\\n\\tfunction onLinkedInLogin0() {\\r\\n\\t\\r\\n\\t  \\r\\n\\t  \\t$(\"#socialloginbadge0\").show();\\r\\n\\t  \\tIN.API.Profile(\"me\")\\r\\n\\t    .fields([\"id\", \"firstName\"])\\r\\n\\t    .result(function(result) {\\r\\n\\t      setLogin0(result.values[0],\\'li\\');\\r\\n\\t    })\\r\\n\\t    .error(function(err) {\\r\\n\\t      console.log(err);\\r\\n\\t    });\\r\\n\\t\\r\\n\\t}\\r\\n\\r\\n\\tfunction setLogin0(profile,media) {\\r\\n\\t \\r\\n\\t  var iconSrc = \\'\\';\\r\\n\\r\\n\\t  if (!profile)\\r\\n\\t  {\\r\\n\\t    loginHTML = \"\";\\r\\n\\t\\t$(\\'.social-icon-container\\').each(function() {\\r\\n\\t\\t\\t$(this).find(\\'.li-root\\').show();\\r\\n\\t\\t\\t$(this).find(\\'.fb-root\\').show();\\r\\n\\t\\t});\\r\\n\\r\\n\\t  }\\r\\n\\t  else\\r\\n\\t  {\\r\\n\\t\\t$(\\'.social-icon-container\\').each(function() {\\r\\n\\t\\t\\t$(this).find(\\'.li-root\\').hide();\\r\\n\\t\\t\\t$(this).find(\\'.fb-root\\').hide();\\r\\n\\t\\t\\t$(this).siblings(\\'.recommendationTitle\\').hide();\\r\\n\\t\\t\\t$(this).siblings(\\'.socialloginbadge\\').show();\\r\\n\\t\\t});\\r\\n\\r\\n\\t    if (media==\\'fb\\')\\r\\n\\t    {\\r\\n\\t      loginHTML = \"\";\\r\\n\\t      iconSrc = \\'<span class=\"fa fa-facebook-square\"></span> Facebook\\';\\r\\n\\t    }\\r\\n\\t    else\\r\\n\\t    {\\r\\n\\t      if ( media === \\'li\\' )\\r\\n\\t      {\\r\\n\\t        iconSrc = \\'<span class=\"fa fa-linkedin-square\"></span> Linkedin\\';\\r\\n\\t      }\\r\\n\\r\\n\\t      loginHTML = \"\";\\r\\n\\t    }\\r\\n\\r\\n\\t    loginHTML = loginHTML+\"<a href=\\\\\"javascript:loadProfileBox0(\\'\"+media+\"\\');\\\\\">Your job recommendations</a>\";\\r\\n\\r\\n\\t    \\r\\n\\t      var div  = \\'<div id=\"socialIconLnk0\" onclick=\"onLinkedInLogin0()\">\\';\\r\\n\\t          div += iconSrc;\\r\\n\\t          div += \\'</div>\\';\\r\\n\\r\\n\\t      loginHTML += div;\\r\\n\\t    \\r\\n\\r\\n\\t    }\\r\\n\\t   $(\".socialloginbadge\").each(function(){$(this).html(loginHTML)});\\r\\n\\t \\r\\n\\t}\\r\\n\\r\\n\\r\\n\\tfunction loadProfileBox0(media) {\\r\\n\\t\\t\\r\\n\\t\\tif ($(\\'#sjm-root\\').length == 0)\\r\\n\\t\\t{\\r\\n\\t\\tvar offsets = $(\\'#socialloginbadge0\\').offset();\\r\\n\\t    var y = offsets.top-222;\\r\\n\\t    var x = offsets.left-26;\\r\\n\\t    var url = \\'?_3x3166263Z1U15Kcd713c27-0977-4793-b69d-3e0f278f326e&media=\\'+media;\\r\\n\\r\\n\\t   \\toDummy = $(\\'<a href=\"\\' + url + \\'\">test</a>\\');\\r\\n\\r\\n\\t    $(\\'<div id=\"sjm-root\" class=\"sjm-root\"></div>\\').load(oDummy.attr(\\'href\\')).dialog({\\r\\n\\t\\t\\t\\t\\t\\t\\t\\t\\tautoOpen: true,\\r\\n\\t\\t\\t\\t\\t\\t\\t\\t\\ttitle: \\'\\',\\r\\n\\t\\t\\t\\t\\t\\t\\t\\t\\theight: 350,\\r\\n\\t\\t\\t\\t\\t\\t\\t\\t\\twidth: 250,\\r\\n\\t\\t\\t\\t\\t\\t\\t\\t\\tresizable:false,\\r\\n\\t\\t\\t\\t\\t\\t\\t\\t\\tposition:[x,y]\\r\\n\\t\\t\\t\\t\\t\\t\\t\\t});\\r\\n\\t\\t$(\\'#sjm-root\\').siblings(\\'div.ui-dialog-titlebar\\').remove();\\r\\n\\t\\t}\\r\\n\\t\\telse{\\r\\n\\t\\tif ($(\\'#sjm-root\\').dialog(\\'isOpen\\'))$(\\'#sjm-root\\').dialog(\\'close\\');\\r\\n\\t\\telse $(\\'#sjm-root\\').dialog(\\'open\\');\\r\\n\\t\\t}\\r\\n\\t\\t\\r\\n\\t}\\r\\n\\r\\n\\t\\r\\n\\t\\t\\t\\t\\t\\n\\r\\n\\t\\t\\t\\t\\t\\r\\n\\t\\t\\t\\t\\r\\n\\t\\t\\t\\twindow.closeSmartAssistant = function(api,e){\\r\\n\\t\\t\\t\\t\\t\\r\\n\\t\\t\\t\\t\\t$(\"#_joincommunity\").closest(\".ajaxloader\").change();\\r\\n\\t\\t\\t\\t}\\r\\n\\t\\t\\t\\t\\r\\n\\t\\t\\t\\t$( document ).ready(function() {\\t\\t\\t\\t\\t\\r\\n\\t\\t\\t\\t\\t\\r\\n\\t\\t\\t\\t\\t\\t$(\"#_joincommunity .togglePanel\").click(function(e) {\\r\\n\\t\\t\\t\\t\\t\\t\\te.preventDefault();\\r\\n\\t\\t\\t\\t\\t\\t\\te.stopPropagation();\\r\\n\\t\\t\\t\\t\\t\\t\\tvar $l = $(\"#_joincommunitylist\");\\r\\n\\t\\t\\t\\t\\t\\t\\tvar $c = $(\"#_joincommunitycarousel\");\\r\\n\\t\\t\\t\\t\\t\\t\\tvar paneldefault = $(\".panel.panel-default\", \"#_joincommunity\");\\r\\n\\t\\t\\t\\t\\t\\t\\tvar isfixed = paneldefault.hasClass(\"isfixed\");\\r\\n\\t\\t\\t\\t\\t\\t\\t\\r\\n\\t\\t\\t\\t\\t\\t\\tif ($l.is(\":visible\")){\\r\\n\\t\\t\\t\\t\\t\\t\\t\\t$(\\'#_joincommunity .btn-group\\').css(\\'display\\' , \\'block\\');\\r\\n\\t\\t\\t\\t\\t\\t\\t\\tif (!isfixed){\\r\\n\\t\\t\\t\\t\\t\\t\\t\\t\\tvar initialHeight = paneldefault.data(\"initialheight\");\\r\\n\\t\\t\\t\\t\\t\\t\\t\\t\\tif (initialHeight != \"\"){\\r\\n\\t\\t\\t\\t\\t\\t\\t\\t\\t\\tpaneldefault.height(initialHeight);\\r\\n\\t\\t\\t\\t\\t\\t\\t\\t\\t}\\r\\n\\t\\t\\t\\t\\t\\t\\t\\t}\\r\\n\\t\\t\\t\\t\\t\\t\\t\\t\\r\\n\\t\\t\\t\\t\\t\\t\\t\\t\\t$c.carousel(0).carousel(\\'cycle\\');\\r\\n\\t\\t\\t\\t\\t\\t\\t\\t\\r\\n\\t\\t\\t\\t\\t\\t\\t\\t$c.show();\\r\\n\\t\\t\\t\\t\\t\\t\\t\\t$l.hide();\\r\\n\\t\\t\\t\\t\\t\\t\\t} else {\\r\\n\\t\\t\\t\\t\\t\\t\\t\\t$(\\'#_joincommunity .btn-group\\').css(\\'display\\' , \\'none\\');\\r\\n\\t\\t\\t\\t\\t\\t\\t\\tif (!isfixed){\\r\\n\\t\\t\\t\\t\\t\\t\\t\\t\\tpaneldefault.height(\"auto\");\\r\\n\\t\\t\\t\\t\\t\\t\\t\\t}\\r\\n\\t\\t\\t\\t\\t\\t\\t\\t$l.show();\\r\\n\\t\\t\\t\\t\\t\\t\\t\\t$c.hide();\\r\\n\\t\\t\\t\\t\\t\\t\\t\\tvar m = 0;\\r\\n\\t\\t\\t\\t\\t\\t\\t\\t\\r\\n\\t\\t\\t\\t\\t\\t\\t\\t\\t$(\"#_joincommunitylist > .row\").each(function() {\\r\\n\\t\\t\\t\\t\\t\\t\\t\\t\\t\\tm = Math.max(m, $(this).innerHeight());\\r\\n\\t\\t\\t\\t\\t\\t\\t\\t\\t});\\r\\n\\t\\t\\t\\t\\t\\t\\t\\t\\t$(\"#_joincommunitylist > .row\").css(\"height\", m + \"px\");\\r\\n\\t\\t\\t\\t\\t\\t\\t\\t\\r\\n\\t\\t\\t\\t\\t\\t\\t\\t$(\"#_joincommunitylist > .buttonlist\").css({\\r\\n\\t\\t\\t\\t\\t\\t\\t\\t\\t\"position\" : \"absolute\",\\r\\n\\t\\t\\t\\t\\t\\t\\t\\t\\t\"bottom\" : 0,\\r\\n\\t\\t\\t\\t\\t\\t\\t\\t\\t\"right\" : \"10px\"\\r\\n\\t\\t\\t\\t\\t\\t\\t\\t});\\r\\n\\t\\t\\t\\t\\t\\t\\t\\t\\r\\n\\t\\t\\t\\t\\t\\t\\t\\t\\t$c.carousel(\"pause\");\\r\\n\\t\\t\\t\\t\\t\\t\\t\\t\\r\\n\\t\\t\\t\\t\\t\\t\\t}\\r\\n\\t\\t\\t\\t\\t\\t});\\r\\n\\t\\t\\t\\t\\t\\t\\r\\n\\t\\t\\t\\t\\t\\t\\r\\n\\t\\t\\t\\t\\t\\r\\n\\t\\t\\t\\t\\tsetTimeout(function() \\r\\n\\t\\t\\t\\t\\t{\\r\\n\\t\\t\\t\\t\\t\\t\\r\\n\\t\\t\\t\\t\\t\\t\\tvar _joincommunitym = 0;\\r\\n\\t\\t\\t\\t\\t\\t\\t$(\"#_joincommunitycarousel .carousel-inner .item\").each(function() {\\r\\n\\t\\t\\t\\t\\t\\t\\t\\t_joincommunitym = Math.max(_joincommunitym, $(this).innerHeight());\\r\\n\\t\\t\\t\\t\\t\\t\\t});\\r\\n\\t\\t\\t\\t\\t\\t\\t$(\"#_joincommunitycarousel .carousel-inner .item\").css(\"min-height\", _joincommunitym + \"px\");\\r\\n\\t\\t\\t\\t\\t\\t\\r\\n\\t\\t\\t\\t\\t\\t\\r\\n\\t\\t\\t\\t\\t\\t\\r\\n\\t\\t\\t\\t\\t},50);\\r\\n\\t\\t\\t\\t\\t\\r\\n\\t\\t\\t\\t\\t\\r\\n\\t\\t\\t\\t\\t\\r\\n\\t\\t\\t\\t});\\r\\n\\t\\t\\t\\r\\n\\t\\t\\t\\t\\t\\n\\r\\n\\t\\t\\t\\t\\t\\r\\n\\t\\t\\t\\t\\t<!--\\r\\n\\t\\t\\t\\t\\t$(document).ready(function()\\r\\n\\t\\t\\t\\t\\t{ \\r\\n\\r\\n\\t\\t\\t\\t\\t\\t$(\".lnkForgetPassword\").bind(\\'click\\',function(e)\\r\\n\\t\\t\\t\\t\\t\\t{\\r\\n\\t\\t\\t\\t\\t\\t\\te.preventDefault();\\r\\n\\t\\t\\t\\t\\t\\t\\t_openmodal(\\r\\n\\t\\t\\t\\t\\t\\t\\t{\\r\\n\\t\\t\\t\\t\\t\\t\\t\\turl:\\'?_3x3166263Z1U18K04485fe6-55e1-47e3-b0f3-91188a895bce\\'\\r\\n\\t\\t\\t\\t\\t\\t\\t\\t,title:$(this).attr(\\'title\\')\\r\\n\\t\\t\\t\\t\\t\\t\\t})\\r\\n\\t\\t\\t\\t\\t\\t});\\r\\n\\t\\t\\t\\t\\t\\t\\r\\n\\t\\t\\t\\t\\t});\\r\\n\\t\\t\\t\\t\\t//-->\\r\\n\\t\\t\\t\\t\\t\\n\\n\\n\\n\\r\\n\\t\\t\\t\\t\\t\\tvSPversion = \\'SP1 - 2015\\';\\r\\n\\t\\t\\t\\t\\r\\n\\t\\t\\t\\t\\t\\t\\t\\r\\n\\t\\t\\t\\t\\t\\n\\r\\n\\r\\n\\t\\t\\t\\t\\t  var _gaq = _gaq || [];\\r\\n\\t\\t\\t\\t\\t  _gaq.push([\\'_setAccount\\', \\'UA-58467683-3\\']);\\r\\n\\t\\t\\t\\t\\t  _gaq.push([\\'_trackPageview\\']);\\r\\n\\r\\n\\t\\t\\t\\t\\t  (function() {\\r\\n\\t\\t\\t\\t\\t\\tvar ga = document.createElement(\\'script\\'); ga.type = \\'text/javascript\\'; ga.async = true;\\r\\n\\t\\t\\t\\t\\t\\tga.src = (\\'https:\\' == document.location.protocol ? \\'https://ssl\\' : \\'http://www\\') + \\'.google-analytics.com/ga.js\\';\\r\\n\\t\\t\\t\\t\\t\\tvar s = document.getElementsByTagName(\\'script\\')[0]; s.parentNode.insertBefore(ga, s);\\r\\n\\t\\t\\t\\t\\t  })();\\r\\n\\t\\t\\t\\t\\t\\n\\r\\n\\t\\t\\t\\r\\n#header-logo {\\r\\n\\tposition: absolute;\\r\\n\\tmax-height: 100%;\\r\\n}\\r\\n\\r\\n\\t\\t\\t#_MYNEWS .panel-heading {\\r\\n\\t\\t\\t\\tposition:relative;\\r\\n\\t\\t\\t}\\r\\n\\t\\t\\t#_MYNEWS .panel-heading > .glyphicon,\\r\\n\\t\\t\\t#_MYNEWS .panel-heading > .tmui { \\r\\n\\t\\t\\t\\tposition:absolute;\\r\\n\\t\\t\\t\\ttop:11px;\\r\\n\\t\\t\\t\\tleft:8px;\\r\\n\\t\\t\\t}\\r\\n\\t\\t\\t#_MYNEWS .panel-heading > div.btn-group {\\r\\n\\t\\t\\t\\tposition:absolute;\\r\\n\\t\\t\\t\\tright:-5px;\\r\\n\\t\\t\\t\\ttop:4px;\\r\\n\\t\\t\\t}\\r\\n\\t\\t\\t#_MYNEWS .panel-heading > div.btn-group .btn {\\r\\n\\t\\t\\t\\tmargin:2px;\\r\\n\\t\\t\\t}\\r\\n\\t\\t\\t#_MYNEWS .panel-body {\\r\\n\\t\\t\\t\\tpadding : 5px 10px;\\r\\n\\t\\t\\t}\\r\\n\\t\\t\\t#_MYNEWS .panel-title {\\r\\n\\t\\t\\t\\t\\r\\n\\t\\t\\t\\tpadding:0 0 0 10px;\\r\\n\\t\\t\\t\\t\\r\\n\\t\\t\\t}\\r\\n\\t\\t\\t\\r\\n\\t\\t\\t#_MYNEWS .media-body {\\r\\n\\t\\t\\t\\tmin-height:34px;\\r\\n\\t\\t\\t}\\r\\n\\t\\t\\t\\r\\n\\t\\t\\t#_MYNEWScarousel .carousel-indicators {\\r\\n\\t\\t\\t\\tbottom: -18px;\\r\\n\\t\\t\\t\\tdisplay:none;\\r\\n\\t\\t\\t}\\r\\n\\t\\t\\t#_MYNEWScarousel .item {\\r\\n\\t\\t\\t\\tpadding:5px 20px 10px 20px;\\r\\n\\t\\t\\t}\\r\\n\\t\\t\\t#_MYNEWScarousel .carousel-control {\\r\\n\\t\\t\\t\\tbackground-image:none;\\r\\n\\t\\t\\t\\twidth:auto;\\r\\n\\t\\t\\t\\ttop: 25px;\\r\\n\\t\\t\\t\\tdisplay:none;\\r\\n\\t\\t\\t}\\t\\t\\r\\n\\t\\t\\t#_MYNEWS .panel-heading .glyphicon.text-primary {\\r\\n\\t\\t\\t\\tfont-size : 13px;\\r\\n\\t\\t\\t}\\r\\n\\t\\t\\r\\n\\t\\t\\t#_jobsearch .re_improveSearch {\\r\\n\\t\\t\\t\\tpadding-top: 15px;\\r\\n\\t\\t\\t}\\r\\n\\t\\t\\t\\r\\n\\t\\t\\t#_jobsearch > div.panel.panel-default {\\r\\n\\t\\t\\t\\toverflow: visible;\\t\\t\\r\\n\\t\\t\\t}\\r\\n\\t\\t\\r\\n\\tbody.MODE_JOBS .re_improveSearch .right-inner-addon span {\\r\\n\\t\\tpadding: 10px 10px;\\r\\n\\t\\twidth: auto;\\r\\n\\t\\tposition: absolute;\\r\\n\\t\\ttop: auto;\\r\\n\\t\\tleft: auto;\\r\\n\\t} \\r\\n\\tbody.MODE_JOBS .jobsearchdivmargin .form-control {\\r\\n\\t\\twidth: 100%;\\r\\n\\t}\\r\\n\\tbody.MODE_JOBS #CTG_JOB_TITLE, body.MODE_JOBSI #CTG_JOB_TITLE\\t{\\r\\n\\t\\tpadding-top: 0px;\\r\\n\\t}\\r\\n\\tbody.MODE_JOBS #CTG_JOB_LIST thead th {\\r\\n\\t\\twhite-space: normal;\\r\\n\\t}\\r\\n\\r\\n\\tbody.MODE_JOBS a.re_rssbutton.btn.btn-primary {\\r\\n\\t\\tmargin-top: 15px;\\r\\n\\t\\tborder-radius: 5px!important;\\r\\n\\t}\\r\\n\\r\\n\\t.optionGroup {\\r\\n\\t    font-weight:bold;\\r\\n\\t    font-style:italic;\\r\\n\\t}\\r\\n\\t\\r\\n\\t.optionChild {\\r\\n\\t    padding-left:15px;\\r\\n\\t}\\r\\n\\t\\r\\n\\t\\r\\n\\t\\r\\n\\t\\t\\t#_jobsearch .panel-heading {\\r\\n\\t\\t\\t\\tposition:relative;\\r\\n\\t\\t\\t}\\r\\n\\t\\t\\t#_jobsearch .panel-heading > .glyphicon,\\r\\n\\t\\t\\t#_jobsearch .panel-heading > .tmui { \\r\\n\\t\\t\\t\\tposition:absolute;\\r\\n\\t\\t\\t\\ttop:11px;\\r\\n\\t\\t\\t\\tleft:8px;\\r\\n\\t\\t\\t}\\r\\n\\t\\t\\t#_jobsearch .panel-heading > div.btn-group {\\r\\n\\t\\t\\t\\tposition:absolute;\\r\\n\\t\\t\\t\\tright:-5px;\\r\\n\\t\\t\\t\\ttop:4px;\\r\\n\\t\\t\\t}\\r\\n\\t\\t\\t#_jobsearch .panel-heading > div.btn-group .btn {\\r\\n\\t\\t\\t\\tmargin:2px;\\r\\n\\t\\t\\t}\\r\\n\\t\\t\\t#_jobsearch .panel-body {\\r\\n\\t\\t\\t\\tpadding : 5px 10px;\\r\\n\\t\\t\\t}\\r\\n\\t\\t\\t#_jobsearch .panel-title {\\r\\n\\t\\t\\t\\t\\r\\n\\t\\t\\t\\tpadding:0 0 0 10px;\\r\\n\\t\\t\\t\\t\\r\\n\\t\\t\\t}\\r\\n\\t\\t\\t\\r\\n\\t\\t\\t#_jobsearch .media-body {\\r\\n\\t\\t\\t\\tmin-height:34px;\\r\\n\\t\\t\\t}\\r\\n\\t\\t\\t\\r\\n\\t\\t\\t#_jobsearchcarousel .carousel-indicators {\\r\\n\\t\\t\\t\\tbottom: -18px;\\r\\n\\t\\t\\t\\tdisplay:none;\\r\\n\\t\\t\\t}\\r\\n\\t\\t\\t#_jobsearchcarousel .item {\\r\\n\\t\\t\\t\\tpadding:5px 20px 10px 20px;\\r\\n\\t\\t\\t}\\r\\n\\t\\t\\t#_jobsearchcarousel .carousel-control {\\r\\n\\t\\t\\t\\tbackground-image:none;\\r\\n\\t\\t\\t\\twidth:auto;\\r\\n\\t\\t\\t\\ttop: 25px;\\r\\n\\t\\t\\t\\tdisplay:none;\\r\\n\\t\\t\\t}\\t\\t\\r\\n\\t\\t\\t#_jobsearch .panel-heading .glyphicon.text-primary {\\r\\n\\t\\t\\t\\tfont-size : 13px;\\r\\n\\t\\t\\t}\\r\\n\\t\\t\\r\\n\\t\\t\\t#_searchbylocation .panel-heading {\\r\\n\\t\\t\\t\\tposition:relative;\\r\\n\\t\\t\\t}\\r\\n\\t\\t\\t#_searchbylocation .panel-heading > .glyphicon,\\r\\n\\t\\t\\t#_searchbylocation .panel-heading > .tmui { \\r\\n\\t\\t\\t\\tposition:absolute;\\r\\n\\t\\t\\t\\ttop:11px;\\r\\n\\t\\t\\t\\tleft:8px;\\r\\n\\t\\t\\t}\\r\\n\\t\\t\\t#_searchbylocation .panel-heading > div.btn-group {\\r\\n\\t\\t\\t\\tposition:absolute;\\r\\n\\t\\t\\t\\tright:-5px;\\r\\n\\t\\t\\t\\ttop:4px;\\r\\n\\t\\t\\t}\\r\\n\\t\\t\\t#_searchbylocation .panel-heading > div.btn-group .btn {\\r\\n\\t\\t\\t\\tmargin:2px;\\r\\n\\t\\t\\t}\\r\\n\\t\\t\\t#_searchbylocation .panel-body {\\r\\n\\t\\t\\t\\tpadding : 5px 10px;\\r\\n\\t\\t\\t}\\r\\n\\t\\t\\t#_searchbylocation .panel-title {\\r\\n\\t\\t\\t\\t\\r\\n\\t\\t\\t\\tpadding:0 0 0 10px;\\r\\n\\t\\t\\t\\t\\r\\n\\t\\t\\t}\\r\\n\\t\\t\\t\\r\\n\\t\\t\\t#_searchbylocation .media-body {\\r\\n\\t\\t\\t\\tmin-height:34px;\\r\\n\\t\\t\\t}\\r\\n\\t\\t\\t\\r\\n\\t\\t\\t#_searchbylocationcarousel .carousel-indicators {\\r\\n\\t\\t\\t\\tbottom: -18px;\\r\\n\\t\\t\\t\\tdisplay:none;\\r\\n\\t\\t\\t}\\r\\n\\t\\t\\t#_searchbylocationcarousel .item {\\r\\n\\t\\t\\t\\tpadding:5px 20px 10px 20px;\\r\\n\\t\\t\\t}\\r\\n\\t\\t\\t#_searchbylocationcarousel .carousel-control {\\r\\n\\t\\t\\t\\tbackground-image:none;\\r\\n\\t\\t\\t\\twidth:auto;\\r\\n\\t\\t\\t\\ttop: 25px;\\r\\n\\t\\t\\t\\tdisplay:none;\\r\\n\\t\\t\\t}\\t\\t\\r\\n\\t\\t\\t#_searchbylocation .panel-heading .glyphicon.text-primary {\\r\\n\\t\\t\\t\\tfont-size : 13px;\\r\\n\\t\\t\\t}\\r\\n\\t\\t\\r\\n\\tbody.MODE_JOBS #li-root:hover, body.MODE_JOBS #linkedinLogin0:hover{\\r\\n\\t\\ttext-decoration: none;\\r\\n\\t}\\r\\n\\r\\n\\tbody.MODE_JOBS .fb_reset {\\r\\n\\t\\tfont-family: \\'Open Sans\\', Verdana, Helvetica, Sans-Serif !important;\\r\\n\\t}\\r\\n\\tbody.MODE_JOBS #socialIconLnk0 {\\r\\n\\t\\tcolor: black;\\r\\n\\t}\\r\\n\\tbody.MODE_JOBS #loginbadge0 a, body.MODE_JOBSI #loginbadge0 a {\\r\\n\\t\\tcolor: #ff7900!important;\\r\\n\\t}\\r\\n\\tbody.MODE_JOBS #socialIconLnk0>span.fa,\\r\\n\\tbody.MODE_JOBS #social-icon-container0 #fb-root span,\\r\\n\\tbody.MODE_JOBS #social-icon-container0 #li-root0 span {\\r\\n\\t\\tcolor: #666666!important;\\r\\n\\t\\tfont-size: 16px;\\r\\n\\t}\\r\\n\\tbody.MODE_JOBS #social-icon-container0 #fb-root a:hover,\\r\\n\\tbody.MODE_JOBS #social-icon-container0 #li-root0:hover {\\r\\n\\t\\ttext-decoration: underline;\\r\\n\\t}\\r\\n\\tbody.MODE_JOBS #li-root0, body.MODE_JOBS #fb-root, body.MODE_JOBSI #li-root0, body.MODE_JOBSI #fa-root0 {\\r\\n\\t\\tposition: relative;\\r\\n\\t\\tfloat: left;\\r\\n\\t\\tcolor: #00acec;\\r\\n\\t\\twidth: 100%!important;\\r\\n\\t\\tpadding-left: 0px!important;\\r\\n\\t\\tz-index: 100!important;\\r\\n\\t}\\r\\n\\tbody.MODE_JOBS #social-icon-container0 #fb-root a,\\r\\n\\tbody.MODE_JOBS #social-icon-container0 #li-root0 a,\\r\\n\\tbody.MODE_JOBS #social-icon-container0 #li-root0 .linkedin-text {\\r\\n\\t\\tcolor: #00acec!important;\\r\\n\\t\\tfont-size: 13px;\\r\\n\\t}\\r\\n\\tbody.MODE_JOBS .ui-socialapi-form {\\r\\n\\t\\tdisplay: inline;\\r\\n\\t}\\r\\n\\t#socialmedia0 .ui-socialapi .ui-socialapi-signout {\\r\\n\\t\\tdisplay: none!important;\\r\\n\\t}\\r\\n\\t#socialmedia0 .ui-socialapi-form input#submit {\\r\\n\\t\\tdisplay: none;\\r\\n\\t}\\r\\n\\r\\n\\t\\t\\t#_joincommunity .panel-heading {\\r\\n\\t\\t\\t\\tposition:relative;\\r\\n\\t\\t\\t}\\r\\n\\t\\t\\t#_joincommunity .panel-heading > .glyphicon,\\r\\n\\t\\t\\t#_joincommunity .panel-heading > .tmui { \\r\\n\\t\\t\\t\\tposition:absolute;\\r\\n\\t\\t\\t\\ttop:11px;\\r\\n\\t\\t\\t\\tleft:8px;\\r\\n\\t\\t\\t}\\r\\n\\t\\t\\t#_joincommunity .panel-heading > div.btn-group {\\r\\n\\t\\t\\t\\tposition:absolute;\\r\\n\\t\\t\\t\\tright:-5px;\\r\\n\\t\\t\\t\\ttop:4px;\\r\\n\\t\\t\\t}\\r\\n\\t\\t\\t#_joincommunity .panel-heading > div.btn-group .btn {\\r\\n\\t\\t\\t\\tmargin:2px;\\r\\n\\t\\t\\t}\\r\\n\\t\\t\\t#_joincommunity .panel-body {\\r\\n\\t\\t\\t\\tpadding : 5px 10px;\\r\\n\\t\\t\\t}\\r\\n\\t\\t\\t#_joincommunity .panel-title {\\r\\n\\t\\t\\t\\t\\r\\n\\t\\t\\t\\tpadding:0 0 0 10px;\\r\\n\\t\\t\\t\\t\\r\\n\\t\\t\\t}\\r\\n\\t\\t\\t\\r\\n\\t\\t\\t#_joincommunity .media-body {\\r\\n\\t\\t\\t\\tmin-height:34px;\\r\\n\\t\\t\\t}\\r\\n\\t\\t\\t\\r\\n\\t\\t\\t#_joincommunitycarousel .carousel-indicators {\\r\\n\\t\\t\\t\\tbottom: -18px;\\r\\n\\t\\t\\t\\tdisplay:none;\\r\\n\\t\\t\\t}\\r\\n\\t\\t\\t#_joincommunitycarousel .item {\\r\\n\\t\\t\\t\\tpadding:5px 20px 10px 20px;\\r\\n\\t\\t\\t}\\r\\n\\t\\t\\t#_joincommunitycarousel .carousel-control {\\r\\n\\t\\t\\t\\tbackground-image:none;\\r\\n\\t\\t\\t\\twidth:auto;\\r\\n\\t\\t\\t\\ttop: 25px;\\r\\n\\t\\t\\t\\tdisplay:none;\\r\\n\\t\\t\\t}\\t\\t\\r\\n\\t\\t\\t#_joincommunity .panel-heading .glyphicon.text-primary {\\r\\n\\t\\t\\t\\tfont-size : 13px;\\r\\n\\t\\t\\t}\\r\\n\\t\\t\\r\\n\\t\\tbody.MODE_JOBS #TM_LOGINFRAME_LOSTPASSWORD a, body.MODE_JOBSI #TM_LOGINFRAME_LOSTPASSWORD a, #TM_LOGINFRAME_LOSTPASSWORD2 a {\\r\\n\\t\\t\\tcolor: #2C6EA6!important;\\r\\n\\t\\t\\ttext-decoration: none!important;\\r\\n\\t\\t}\\r\\n\\t\\t\\r\\n\\t\\tbody.MODE_JOBS #TM_LOGINFRAME_USERNAME_FLD, #TM_LOGINFRAME_PASSWORD_FLD, #TM_LOGINFRAME_USERNAME_FLD2, #TM_LOGINFRAME_PASSWORD_FLD2 {\\r\\n\\t\\t\\tpadding-left: 5px;\\r\\n\\t\\t}\\r\\n\\t\\r\\n\\t\\t\\t\\n\\n\\n\\n\\n\\n\\n\\n\\n\\r\\n\\r\\nbody.MODE_JOBS #btnSearch3, body.MODE_JOBSI #btnSearch3 {\\t\\r\\n\\ttext-transform: initial;\\r\\n\\tfont-family: Arial, Helvetica, sans-serif;\\r\\n\\tfont-size: 12px;\\r\\n\\tpadding: 5px;\\r\\n}\\r\\nbody.MODE_JOBS #menubar, body.MODE_JOBSI #menubar {\\r\\n\\twidth: auto;\\r\\n}\\r\\nbody.MODE_JOBS .menu-front ul li, body.MODE_JOBSI .menu-front ul li, body.MODE_JOBS #menu-cv ul li, body.MODE_JOBSI #menu-cv ul li, body.MODE_JOBS div.widget-cv, body.MODE_JOBSI div.widget-cv {\\r\\n\\tbackground-color: #808080;\\r\\n}\\r\\nbody.MODE_JOBS #menu-cv ul li, body.MODE_JOBSI #menu-cv ul li, body.MODE_JOBS #menu-cv ul ul li, body.MODE_JOBS #menu-cv ul ul li {\\r\\n\\twidth: auto;\\r\\n\\theight: 25px;\\r\\n\\tpadding-left: 12px;\\r\\n\\tpadding-right: 12px;\\r\\n\\tmargin-right: 10px;\\r\\n\\tborder-radius: 5px;\\r\\n}\\r\\nbody.MODE_JOBS .menu-front ul li ul li a, body.MODE_JOBSI .menu-front ul li ul li a {\\r\\n\\tcolor: white;\\r\\n}\\r\\n#liMF li {\\r\\n\\tborder-radius: 0px!important;\\r\\n\\twidth: 211px!important;\\r\\n}\\r\\n#liMF li a {\\r\\n\\ttext-align: center;\\r\\n}\\r\\nbody.MODE_JOBS #menu-cv ul li:hover {\\r\\n\\tbackground-color: #666;\\r\\n}\\r\\nbody.MODE_JOBS .panel-group .panel-body,\\r\\nbody.MODE_JOBS .panel-group .panel-heading {\\r\\n\\tborder: 0px!important;\\r\\n}\\r\\n\\r\\n.MODE_JOBS .navbar-nav.navbar-right.navbar-text > li span.glyphicon.glyphicon.glyphicon-chevron-down {\\r\\n\\tfont-size: 8px;\\r\\n\\tpointer-events: none;\\r\\n\\tcursor: pointer;\\r\\n}\\r\\nbody.MODE_JOBS .btn-group button > span,\\r\\nbody.MODE_JOBS .btn-group button.btn.btn-default.btn-xs.btPrevious > span {\\r\\n\\tcolor: #2b2d30!important;\\r\\n}\\r\\n\\r\\n\\r\\nbody.MODE_JOBS i.glyphicon.glyphicon-play-circle {\\r\\n\\tdisplay: none;\\r\\n}\\r\\n\\r\\nbody.MODE_JOBS .navbar-right {\\r\\n\\ttop: 6px !important;\\r\\n}\\r\\n\\r\\nbody.MODE_JOBS .navbar-nav {\\r\\n\\twidth: 100%;\\r\\n\\tdisplay: table;\\r\\n\\tfloat: none !Important;\\r\\n\\r\\n}\\r\\n\\r\\nbody.MODE_JOBS .navbar-right {\\r\\n\\twidth: auto;\\r\\n}\\r\\n\\r\\nbody.MODE_JOBS .navbar-default .navbar-nav li {\\r\\n\\tfont-size: 11px;\\r\\n \\tdisplay: table-cell;\\r\\n \\tfloat: none;\\r\\n\\twidth: auto!important;\\r\\n}\\r\\n\\r\\nbody.MODE_JOBS #menu-cv {\\r\\n\\twidth: 25% !important;\\r\\n}\\r\\n\\r\\nbody.MODE_JOBS .search {\\r\\n\\tmargin-left: 17px !important;\\r\\n}\\r\\n\\r\\nbody.MODE_JOBS .navbar .dropdown-menu {\\r\\n\\tmin-width: 0;\\r\\n}\\r\\n\\r\\nbody.MODE_JOBS .navbar .dropdown-toggle {\\r\\n\\tpadding-left: 0px !important;\\r\\n\\tpadding-bottom: 11px !important;\\r\\n\\tpadding-top: 10px !important;\\r\\n\\tpadding-right: 0px !important;\\r\\n}\\r\\n\\r\\n\\n\\n\\n\\nSkip to main content\\n\\n\\n\\n\\n Toggle navigation\\n\\n\\n\\n\\n\\n\\n\\r\\n\\t\\t\\t/*social icons*/\\r\\n\\t#socialbar {height: 25px;}\\r\\n\\t#socialbar ul {float: right; list-style: none; padding: 0; margin: 0;}\\r\\n\\t#socialbar ul li {float: left; line-height: 23px;}\\r\\n\\t#socialbar ul li span {margin-right: 4px; color: #004b97;}\\r\\n\\t#socialbar::after {content: \\'\\'; clear: both;}\\r\\n\\t#socialbar a.followUs {\\r\\n\\t\\twidth: 15px; height: 16px; \\r\\n\\t\\tdisplay: block; \\r\\n\\t\\tbackground-repeat: no-repeat; \\r\\n\\t\\tpadding: 1px; margin: 1px;\\r\\n\\t\\tcolor: #0087B9;\\r\\n\\t\\t\\tfont-size: 16px; \\r\\n\\t\\t\\ttext-decoration: none!important;\\r\\n\\t\\t}\\r\\n\\t#socialbar .followUs.tmui {\\r\\n\\t\\tfont-size: 15px; \\r\\n\\t\\tmargin-left: -3px;\\r\\n\\t}\\r\\n\\r\\n\\r\\n\\t#socialbar { margin-top: 50px; }\\r\\n\\t@media(max-width: 767px) {\\r\\n\\t\\t#socialbar {\\r\\n\\t\\t\\tposition: relative!important;\\r\\n\\t\\t\\tright: auto!important;\\r\\n\\t\\t}\\r\\n\\t\\t#socialbar a.followUs,\\r\\n\\t\\t#socialbar .followUs.tmui {\\r\\n\\t\\t\\tmargin-left: 5px;\\r\\n\\t\\t\\tline-height: 15px;\\r\\n\\t\\t}\\t\\t\\r\\n\\t}\\t\\r\\n\\n\\n\\nFollow Us | \\n\\n\\n\\n\\n\\n\\n\\n\\n\\n\\r\\n\\t\\tfunction fnOpenMoreDetails(sUrl , sTitle) {\\r\\n\\t\\t\\t_openmodal(\\r\\n\\t\\t\\t{\\r\\n\\t\\t\\t\\tid:\\'news-more-details\\'\\r\\n\\t\\t\\t\\t,url:sUrl\\r\\n\\t\\t\\t\\t,fullscreen:false\\r\\n\\t\\t\\t\\t,width:600\\r\\n\\t\\t\\t\\t,frame: {\\r\\n\\t\\t\\t\\t\\theight: 500\\r\\n\\t\\t\\t\\t\\t}\\t\\t\\t\\t\\r\\n\\t\\t\\t\\t,title:sTitle\\r\\n\\t\\t\\t});\\r\\n\\t\\t}\\r\\n\\t\\n\\n\\r\\n\\t\\t\\t\\tWhy Join Unisys\\r\\n\\t\\t\\t\\n\\n\\n\\r\\n\\t\\t\\t\\tCareer Paths\\r\\n\\t\\t\\t\\n\\n\\n\\r\\n\\t\\t\\t\\tAbout Unisys\\r\\n\\t\\t\\t\\n\\n\\n\\n\\n\\n\\r\\n\\t\\t\\tMy favorites \\r\\n\\t\\n\\n\\nJoin Our Talent Community\\n\\n\\nMy account\\n\\n\\n\\r\\n\\t\\tfunction erLogoutDisplay()\\r\\n\\t\\t{\\r\\n\\t\\t\\tvar visibilityState = $(\\'#erLogout\\').css(\"visibility\");\\r\\n\\t\\t\\tif(visibilityState == \"hidden\")\\r\\n\\t\\t\\t{\\r\\n\\t\\t\\t\\t$(\\'#erLogout\\').css(\"visibility\",\"visible\");\\r\\n\\t\\t\\t\\t$(\\'#erLogout\\').css(\"display\",\"block\");\\r\\n\\t\\t\\t}\\r\\n\\t\\t\\tif(visibilityState == \"visible\")\\r\\n\\t\\t\\t{\\r\\n\\t\\t\\t\\t$(\\'#erLogout\\').css(\"visibility\",\"hidden\");\\r\\n\\t\\t\\t\\t$(\\'#erLogout\\').css(\"display\",\"none\");\\r\\n\\t\\t\\t}\\r\\n\\t\\t}\\r\\n\\r\\n\\t\\tfunction externalRecruiterAccess(){\\r\\n\\t\\t\\tvar url = location.protocol + \\'//\\' + location.host + location.pathname\\r\\n\\t\\t\\tlocation.href = url + \"?_3x3166263Z1U6Kdf059be2-1e40-4740-981a-ecbf740839a5\";\\r\\n\\t\\t}\\r\\n\\r\\n\\t\\t\\nRecruiter login\\n\\n\\n\\n\\n\\n\\n\\n\\nEnglish\\nEspa\\xf1ol\\nPortugu\\xeas\\n\\u7b80\\u4f53\\nDeutsch\\nFran\\xe7ais\\n\\n\\n\\n\\n\\n\\n\\n\\n\\n\\n\\n\\n\\n\\n\\n\\n\\n\\n\\n\\n\\n\\r\\n\\tfunction submitSearchBottom(jobSearchInstance) {\\r\\n\\t\\t$(\\'#btnSearchbutton2_\\' + jobSearchInstance).attr(\\'disabled\\', \\'disabled\\');\\r\\n \\t\\t$(\"#frmimproveSearch2_\"+jobSearchInstance).submit();\\r\\n\\t}\\r\\n\\n\\n\\n\\n\\n\\n\\n\\n\\n\\r\\n\\t\\t\\t\\t\\tNews \\r\\n\\t\\t\\t\\t\\t\\t\\n\\n\\n\\n\\n\\n\\n\\n\\n\\n\\n\\n\\n\\n\\n\\n\\n\\n\\n\\n\\n\\n\\n\\n\\n\\n\\n\\n\\n\\n\\n\\n\\n\\n\\nCareers at Unisys\\xa0\\xa0\\xa0\\n\\xa0\\n\\n\\n\\n\\n\\nAt Unisys, innovative thinking and collaborative people are the driving force behind our growing success. As we deliver mission-critical technologies around the world, we offer career opportunities that encourage learning, promote growth and develop your talent to its fullest.\\nWe offer our associates the opportunity to make an impact and grow professionally within our Technical, Professional, Sales, and Technical Support career paths. We also offer university programs globally.\\n\\n\\n\\n\\n\"At Unisys, we have a passion for working with advanced technologies, brilliant minds, critical clients and solving some of the world\\'s great problems.\"\\n~ Tom Patterson, VP/GM, Unisys Security\\n\\n\\n\\n\\n\\n\\n\\n\\n\\n\\n\\n\\n\\nback\\n\\n\\nnext\\n\\n\\n\\n\\n\\n\\n\\n\\n\\n\\n\\n\\n\\n\\n\\n\\n\\n\\n\\n\\n\\n\\n\\n\\n\\n\\nCareers at Unisys\\xa0\\xa0\\xa0\\n\\xa0\\n\\n\\n\\n\\n\\nAt Unisys, innovative thinking and collaborative people are the driving force behind our growing success. As we deliver mission-critical technologies around the world, we offer career opportunities that encourage learning, promote growth and develop your talent to its fullest.\\nWe offer our associates the opportunity to make an impact and grow professionally within our Technical, Professional, Sales, and Technical Support career paths. We also offer university programs globally.\\n\\n\\n\\n\\n\"At Unisys, we have a passion for working with advanced technologies, brilliant minds, critical clients and solving some of the world\\'s great problems.\"\\n~ Tom Patterson, VP/GM, Unisys Security\\n\\n\\n\\n\\n\\n\\n\\n\\n\\n\\n\\n\\n\\n\\n\\n\\n\\n\\n\\n\\n\\n\\n\\n\\n\\n\\n\\n\\r\\n\\t\\t\\t\\t\\tSearch for a Job \\r\\n\\t\\t\\t\\t  \\t\\n\\n\\n\\n\\n\\n\\n\\n\\n\\n\\n\\n\\n\\n\\n\\nARGENTINA\\xa0\\nAUSTRALIA\\xa0\\nAUSTRIA\\xa0\\nBELGIUM\\xa0\\nBRAZIL\\xa0\\nBULGARIA\\xa0\\nCANADA\\xa0\\nCHILE\\xa0\\nCHINA\\xa0\\nCOLOMBIA\\xa0\\nCOSTA RICA\\xa0\\nCZECH REPUBLIC\\xa0\\nDENMARK\\xa0\\nFINLAND\\xa0\\nFRANCE\\xa0\\nGERMANY\\xa0\\nHONG KONG\\xa0\\nHUNGARY\\xa0\\nINDIA\\xa0\\nIRELAND\\xa0\\nITALY\\xa0\\nLUXEMBOURG\\xa0\\nMALAYSIA\\xa0\\nMEXICO\\xa0\\nNETHERLANDS\\xa0\\nNEW ZEALAND\\xa0\\nNORWAY\\xa0\\nPERU\\xa0\\nPHILIPPINES\\xa0\\nPOLAND\\xa0\\nPORTUGAL\\xa0\\nPUERTO RICO\\xa0\\nSINGAPORE\\xa0\\nSLOVAKIA\\xa0\\nSPAIN\\xa0\\nSWEDEN\\xa0\\nSWITZERLAND\\xa0\\nTAIWAN, PROVINCE OF CHINA\\xa0\\nUNITED KINGDOM\\xa0\\nUNITED STATES\\xa0\\nVENEZUELA\\xa0\\n\\n\\n\\n\\n\\n\\n\\n\\n\\n\\n\\n\\n\\nClient Services/Support\\nEngineering Services\\nFinance and Accounting\\nHuman Resources\\nInternal Information Technology\\nManagement\\nMarketing & Communications\\nManufacturing\\nSupply Chain\\nSales\\nSolution Services\\n\\n\\n\\n\\n\\nKeywords\\n\\n\\n\\n\\n\\n\\n\\r\\n\\t\\t\\t\\t\\t\\t\\t$(function() {\\r\\n\\t\\t\\t\\t\\t\\t\\t\\t$(\"#btnJobSearchReset_1\").click(function(event) {\\r\\n\\t\\t\\t\\t\\t\\t\\t\\t\\tevent.preventDefault();\\r\\n\\t\\t\\t\\t\\t\\t\\t\\t\\tevent.stopPropagation();\\r\\n\\t\\t\\t\\t\\t\\t\\t\\t\\t$(\"#frmimproveSearch2_1\")[0].reset();\\r\\n\\r\\n\\t\\t\\t\\t\\t\\t\\t\\t\\t\\r\\n\\t\\t\\t\\t\\t\\t\\t\\t\\t$(\"#frmimproveSearch2_1 input[type=\\\\\"text\\\\\"], #frmimproveSearch2_1 input[type=\\\\\"search\\\\\"], #frmimproveSearch2_1 select\").val(null);\\r\\n\\t\\t\\t\\t\\t\\t\\t\\t\\t$(\"#frmimproveSearch2_1 select.re-select:not(:visible), #frmimproveSearch2_1 select.selectpicker:not(:visible)\").selectpicker(\"deselectAll\");\\r\\n\\t\\t\\t\\t\\t\\t\\t\\t\\t$(\"#frmimproveSearch2_1 input, #frmimproveSearch2_1 select\").trigger(\"change\");\\r\\n\\t\\t\\t\\t\\t\\t\\t\\t\\t$(\"#frmimproveSearch2_1 select.re-select:not(:visible), #frmimproveSearch2_1 select.selectpicker:not(:visible)\").selectpicker(\"refresh\");\\r\\n\\t\\t\\t\\t\\t\\t\\t\\t\\t$(this).blur();\\r\\n\\t\\t\\t\\t\\t\\t\\t\\t});\\r\\n\\t\\t\\t\\t\\t\\t\\t});\\r\\n\\t\\t\\t\\t\\t\\t\\t\\n\\n\\n\\n\\n\\r\\n\\t\\t\\t$(document).ready(function() {\\r\\n\\r\\n\\t\\t\\t\\t\\r\\n\\t\\t\\t    \\t\\r\\n\\t\\t\\t    if(!false)\\r\\n\\t\\t\\t\\t\\t$(\".re_improveSearch .re-select\").selectpicker();\\r\\n\\r\\n\\t\\t\\t\\t$(\".re_improveSearch\").show();\\r\\n\\t\\t\\t\\tTM_insideLabel(\\'fldKeywords_jsw_1\\',\\'fldKeywords_jsw_lbl_1\\');\\r\\n\\t\\t\\t\\t$(\\'.ui-multiselect-menu\\').css(\"width\",\"400px\");\\r\\n\\t\\t\\t\\t\\r\\n\\t\\r\\n\\t\\t\\t\\t$(\\'dt > span.text\\').on(\\'click\\', function(){\\r\\n\\t\\t\\t\\t\\tvar $label \\t\\t= $(this).text(),\\r\\n\\t\\t\\t\\t\\t\\ttab \\t\\t= [],\\r\\n\\t\\t\\t\\t\\t\\t$selected \\t= $(\\'#sealMobility1_1\\').find(\\'option:selected\\'),\\r\\n\\t\\t\\t\\t\\t\\t$parent \\t= $(\\'optgroup[label=\"\\' + $label + \\'\"]\\'),\\r\\n\\t\\t\\t\\t\\t\\t$t \\t\\t\\t= $parent.children(),\\r\\n\\t\\t\\t\\t\\t\\tisSelected \\t= $parent.data(\\'isSelected\\') ? true : false;\\r\\n\\r\\n\\t\\t\\t\\t\\t$.each($selected, function(i,e){\\r\\n\\t\\t\\t\\t\\t\\ttab.push( $(e).attr(\\'value\\') );\\r\\n\\t\\t\\t\\t\\t});\\t\\r\\n\\r\\n\\t\\t\\t\\t\\tif ( ! isSelected )\\t\\r\\n\\t\\t\\t\\t\\t{\\r\\n\\t\\t\\t\\t\\t\\t$parent.data(\\'isSelected\\', true);\\r\\n\\r\\n\\t\\t\\t\\t\\t\\t$.each($t, function(e, element){\\t\\t\\t\\t\\t\\t\\t\\r\\n\\t\\t\\t\\t\\t\\t\\t$t.attr(\\'selected\\', \\'selected\\');\\r\\n\\t\\t\\t\\t\\t\\t\\ttab.push( $(element).attr(\\'value\\') );\\r\\n\\t\\t\\t\\t\\t\\t});\\r\\n\\t\\t\\t\\t\\t}\\r\\n\\t\\t\\t\\t\\telse\\r\\n\\t\\t\\t\\t\\t{\\r\\n\\t\\t\\t\\t\\t\\t$parent.data(\\'isSelected\\', false);\\r\\n\\r\\n\\t\\t\\t\\t\\t\\t$.each($t, function(e, element){\\r\\n\\t\\t\\t\\t\\t\\t\\t$t.attr(\\'selected\\', \\'\\');\\r\\n\\t\\t\\t\\t\\t\\t\\t$(element).attr(\\'selected\\', \\'\\');\\r\\n\\r\\n\\r\\n\\t\\t\\t\\t\\t\\t\\ttab = $.grep(tab, function(v){\\r\\n\\t\\t\\t\\t\\t\\t\\t\\treturn v != $(element).attr(\\'value\\');\\r\\n\\t\\t\\t\\t\\t\\t\\t});\\r\\n\\t\\t\\t\\t\\t\\t});\\r\\n\\t\\t\\t\\t\\t}\\r\\n\\t\\t\\t\\t\\tif(!false)\\r\\n\\t\\t\\t\\t\\t\\t$(\\'.selectpicker\\').selectpicker(\\'val\\', tab);\\r\\n\\r\\n\\t\\t\\t\\t\\treturn false;\\r\\n\\t\\t\\t\\t});\\r\\n\\t\\t\\t\\t\\r\\n\\t\\t\\t});\\r\\n\\r\\n\\t\\t\\t\\r\\n\\r\\n\\r\\n\\t\\t\\tfunction mrUpdateLocationDropdownStatuses() {\\r\\n\\t\\t\\t\\t\\r\\n\\t\\t\\t\\t\\tif($(\\'.fld_mobility_province .dropdown-menu.inner li.disabled\\').length == 1)\\r\\n\\t\\t\\t\\t\\t\\t$(\\'.fld_mobility_province button.selectpicker\\').addClass(\\'disabled\\');\\r\\n\\t\\t\\t\\t\\telse\\r\\n\\t\\t\\t\\t\\t\\t$(\\'.fld_mobility_province button.selectpicker\\').removeClass(\\'disabled\\');\\r\\n\\r\\n\\t\\t\\t\\t\\tif($(\\'.fld_mobility .dropdown-menu.inner li.disabled\\').length == 1)\\r\\n\\t\\t\\t\\t\\t\\t$(\\'.fld_mobility button.selectpicker\\').addClass(\\'disabled\\');\\r\\n\\t\\t\\t\\t\\telse\\r\\n\\t\\t\\t\\t\\t\\t$(\\'.fld_mobility button.selectpicker\\').removeClass(\\'disabled\\');\\r\\n\\t\\t\\t\\t\\t\\r\\n\\t\\t\\t}\\t\\t\\t\\t\\r\\n\\r\\n\\t\\t\\t\\r\\n\\t\\t\\t\\tfunction mrChangeCountry() {\\t\\r\\n\\t\\t\\t\\t\\t\\r\\n\\t\\t\\t\\t\\t\\tvar selectId = \\'selMobility3_1\\';\\r\\n\\t\\t\\t\\t\\t\\r\\n\\t\\t\\t\\t\\t\\tvar countryId = $(\\'#selMobility2_1\\').val();\\r\\n\\t\\t\\t\\t\\t\\tvar path = \\'?_3x3166263Z1U12K4c2f2836-2b20-4112-a2c7-c9280e1e3054&countryId=\\' + countryId + \\'&getOnlyHasJob=NO&searchFiltersConfig=MOBILITY_COUNTRY,MOBILITY_PROVINCE,MOBILITY,JOB_CATEGORIES&showAllWhenError=country\\';\\r\\n\\t\\t\\t\\t\\t\\t\\r\\n\\t\\t\\t\\t\\t\\tvSelectedValue = $(\\'#\\' + selectId).val();\\r\\n\\t\\t\\t\\t\\t\\t$(\\'#\\' + selectId).prop(\\'disabled\\', true);\\r\\n\\t\\t\\t\\t\\t\\t$(\\'#\\' + selectId).html(\\'<option value=\"-1\" disabled=\"disabled\">Loading...</option>\\');\\r\\n\\t\\t\\t\\t\\t\\t\\r\\n\\t\\t\\t\\t\\t\\t$.get(path, {}, function(data) {\\r\\n\\t\\t\\t\\t\\t\\t\\t$(\\'#\\' + selectId).prop(\\'disabled\\', false);\\r\\n\\r\\n\\t\\t\\t\\t\\t\\t\\tif (data == \\'\\')\\r\\n\\t\\t\\t\\t\\t\\t\\t\\t$(\\'#\\' + selectId).html(\\'<option value=\"-1\" disabled=\"disabled\">&nbsp;</option>\\');\\r\\n\\t\\t\\t\\t\\t\\t\\telse\\r\\n\\t\\t\\t\\t\\t\\t\\t\\t$(\\'#\\' + selectId).html(data);\\r\\n\\t\\t\\t\\t\\t\\t\\t\\r\\n\\t\\t\\t\\t\\t\\t\\t$(\\'#\\' + selectId).val(vSelectedValue);\\r\\n\\t\\t\\t\\t\\t\\t\\tif(!false)\\r\\n\\t\\t\\t\\t\\t\\t\\t\\t$(\\'#\\' + selectId).selectpicker(\\'refresh\\');\\r\\n\\t\\t\\t\\t\\t\\t\\t\\r\\n\\t\\t\\t\\t\\t\\t\\t\\r\\n\\t\\t\\t\\t\\t\\t\\t\\tmrChangeProvince();\\r\\n\\t\\t\\t\\t\\t\\t\\t\\r\\n\\t\\t\\t\\t\\t\\t\\tmrUpdateLocationDropdownStatuses();\\r\\n\\t\\t\\t\\t\\t\\t});\\t\\r\\n\\t\\t\\t\\t}\\r\\n\\t\\t\\t\\r\\n\\t\\t\\t\\tfunction mrChangeProvince() {\\r\\n\\t\\t\\t\\t\\tvar countryId = $(\\'#selMobility2_1\\').val();\\r\\n\\t\\t\\t\\t\\tvar provinceId = $(\\'#selMobility3_1\\').val();\\t\\t\\t\\t\\t\\t\\t\\t\\t\\r\\n\\t\\t\\t\\t\\t\\tvar path = \\'?_3x3166263Z1U13Kc4c484d6-37ed-4b4d-82db-059ae94fbced&provinceId=\\' + provinceId + \\'&countryId=\\' + countryId + \\'&getOnlyHasJob=NO&showAllWhenError=province\\';\\r\\n\\t\\t\\t\\t\\t\\tvSelectedValue = $(\\'#selMobility1_1\\').val();\\r\\n\\t\\t\\t\\t\\t\\t$(\\'#selMobility1_1\\').prop(\\'disabled\\', true);\\r\\n\\t\\t\\t\\t\\t\\t$(\\'#selMobility1_1\\').html(\\'<option value=\"-1\" disabled=\"disabled\">Loading...</option>\\');\\r\\n\\t\\t\\t\\t\\t\\t\\r\\n\\t\\t\\t\\t\\t\\t$.get(path, {}, function(data) {\\r\\n\\t\\t\\t\\t\\t\\t\\t$(\\'#selMobility1_1\\').prop(\\'disabled\\', false);\\r\\n\\r\\n\\t\\t\\t\\t\\t\\t\\tif (data == \\'\\')\\r\\n\\t\\t\\t\\t\\t\\t\\t\\t$(\\'#selMobility1_1\\').html(\\'<option value=\"-1\" disabled=\"disabled\">&nbsp;</option>\\');\\r\\n\\t\\t\\t\\t\\t\\t\\telse\\r\\n\\t\\t\\t\\t\\t\\t\\t\\t$(\\'#selMobility1_1\\').html(data);\\r\\n\\t\\t\\t\\t\\t\\t\\t$(\\'#selMobility1_1\\').val(vSelectedValue);\\r\\n\\t\\t\\t\\t\\t\\t\\tif(!false)\\r\\n\\t\\t\\t\\t\\t\\t\\t\\t$(\\'#selMobility1_1\\').selectpicker(\\'refresh\\');\\r\\n\\t\\t\\t\\t\\t\\t\\tmrUpdateLocationDropdownStatuses();\\r\\n\\t\\t\\t\\t\\t\\t});\\t\\t\\t\\t\\t\\r\\n\\t\\t\\t\\t}\\r\\n\\t\\t\\t\\t\\t\\t\\r\\n\\t\\n\\n\\n\\n\\n\\n\\n\\n\\n\\n\\n\\n\\n\\r\\n\\t\\t\\t\\t\\tMap search \\r\\n\\t\\t\\t\\t  \\t\\n\\n\\n\\n\\n\\n\\n\\n\\n\\n\\n\\n\\nSearch for a career with Unisys in one of our many locations around the globe.\\n\\n\\n\\n\\n\\n\\n\\n\\n\\n\\n\\n\\n\\r\\n\\t\\t\\t\\t\\tJoin Our Talent Community \\r\\n\\t\\t\\t\\t  \\t\\n\\n\\n\\n\\n\\n\\n\\n\\nJoin our talent community so that we can find you. Join using your LinkedIn or Facebook profile.\\n\\n\\n\\n\\n\\n\\n\\n\\n  Facebook\\n\\n\\n\\r\\n\\r\\n\\t\\t  window.fbAsyncInit = function() {\\r\\n\\t\\t\\ttry {\\r\\n\\t\\t    FB.init({\\r\\n\\t\\t      appId      : \\'164860613895986\\', \\r\\n\\t\\t      status     : true, \\r\\n\\t\\t      cookie     : true, \\r\\n\\t\\t      xfbml      : false \\r\\n\\t\\t    });\\r\\n\\t\\t\\t}\\r\\n\\t\\t\\tcatch (error) {\\r\\n\\r\\n\\t\\t\\t }\\r\\n\\t\\t    \\r\\n\\t\\t  };\\r\\n\\t\\t  \\r\\n\\t\\t  (function(d, s, id){\\r\\n\\t\\t     var js, fjs = d.getElementsByTagName(s)[0];\\r\\n\\t\\t     if (d.getElementById(id)) {return;}\\r\\n\\t\\t     js = d.createElement(s); js.id = id;\\r\\n\\t\\t     js.src = \"//connect.facebook.net/en_US/all.js\";\\r\\n\\t\\t     fjs.parentNode.insertBefore(js, fjs);\\r\\n\\t\\t   }(document, \\'script\\', \\'facebook-jssdk\\'));\\r\\n\\r\\n\\t\\t\\n\\nChecking profile...\\n\\n\\r\\n\\t\\t$(document).ready(function() {\\r\\n\\t\\t\\t$(\"#li-root0\").socialapi({\\r\\n\\t\\t\\t\\tlinkedin : {\\r\\n\\t\\t\\t\\t\\tkey : \"77hv142tzulnh5\"\\r\\n\\t\\t\\t\\t\\t, signinimg : \"/_generic/component/gui/v1/lib/img/common/jobmatch/linkedin_little.png\"\\r\\n\\t\\t\\t\\t\\t, appendTo : $(\"#li-root0\")\\r\\n\\t\\t\\t\\t},\\r\\n\\t\\t\\t\\tapitype: \\'linkedin\\',\\r\\n\\t\\t\\t\\texecute : function(o) {\\r\\n\\t\\t\\t\\t\\tonLinkedInLogin0();\\r\\n\\t\\t\\t\\t}\\r\\n\\t\\t\\t}).click(function(e) {\\r\\n\\t\\t\\t\\te.preventDefault();\\r\\n\\t\\t\\t\\t$(this).socialapi(\"connect\");\\r\\n\\t\\t\\t});\\r\\n\\t\\t\\t$(\"#li-root0\").append(\\'<span class=\"fa fa-linkedin-square\" /> <span class=\"linkedin-text\">LinkedIn</span>\\');\\r\\n\\t\\t});\\r\\n\\t\\t\\t\\r\\n\\t\\t\\n\\n\\n\\nOr complete a quick registration form with an opportunity to upload your r\\xe9sum\\xe9/cv.\\n\\nClick here to continue\\n\\n\\n\\n\\n\\n\\n\\n\\n\\nAlready have an account?\\n\\n\\n\\n\\r\\n\\t\\t\\tfunction testSubmit(inst){\\r\\n\\t\\t\\t\\t\\r\\n\\t\\t\\t\\tconsole.log(window[\\'vListLogin\\' + inst]);\\r\\n\\t\\t\\t\\tconsole.log($(\\'input:submit.TM_BOTTON_LOGIN\\').attr(\\'disabled\\',\\'disabled\\'));\\r\\n\\t\\t\\t\\t\\r\\n\\t\\t\\t\\t\\r\\n\\t\\t\\t}\\r\\n\\t\\t\\n\\n\\n\\n\\n\\n\\nhtml5Attr(\\'input\\',[{\\'autocomplete\\':\\'off\\'}]);\\n\\n\\n\\n\\n\\n\\n\\n\\n\\n\\n Forgot your username or password? Click here\\n\\n\\n\\r\\n \\tvListLogin = new vInput();\\r\\n\\r\\n\\t$(document).ready(function(){\\r\\n \\t\\t vListLogin.add(document.frmLogin.fldUserName,\\'The **[label]** field is required.\\',true,\\'Username\\')\\r\\n\\t\\tvListLogin.filter(\\'trim\\');\\r\\n\\r\\n\\t\\tvListLogin.add(document.frmLogin.fldPassword,\\'The **[label]** field is required.\\',true,\\'Password\\')\\r\\n\\t\\tvListLogin.filter(\\'trim\\');\\r\\n\\r\\n\\t\\t\\r\\n\\r\\n\\t});\\r\\n    \\n\\n\\n\\n\\n\\n\\n\\n\\n\\n\\n\\n\\nCopyright @ Unisys 2015\\n\\xa0\\xa0\\xa0|\\xa0\\xa0\\xa0\\n\\r\\n\\t\\t\\t\\t\\tPrivacy Notice\\r\\n\\t\\t\\t\\t\\n\\xa0\\xa0\\xa0|\\xa0\\xa0\\xa0\\n\\r\\n\\t\\t\\t\\t\\tTerms of use\\r\\n\\t\\t\\t\\t\\n\\xa0\\xa0\\xa0|\\xa0\\xa0\\xa0\\n\\r\\n\\t\\t\\t\\t\\tTrademarks\\r\\n\\t\\t\\t\\t\\n\\n\\n\\r\\n\\t\\t\\t\\tWe use cookies on this site. By using this site, you agree to our use of cookies. To change or learn more, see our \\r\\n\\t\\t\\t\\t\\r\\n\\t\\t\\t\\t\\tPrivacy Notice.\\r\\n\\t\\t\\t\\t\\n\\n\\n\\n\\n\\n\\n\\r\\n\\t\\t$(document).ready(function() {\\r\\n\\t\\t\\t\\r\\n\\t\\t\\tif( $(\"#Button-Box .btnClose\").length ) {\\r\\n\\t\\t\\t\\t$(\"#Button-Box .btnClose\").addClass(\"btn btn-primary\");\\r\\n\\t\\t\\t\\t$(\"#Button-Box .btnClose\").html(\"Back\");\\r\\n\\t\\t\\t\\t$(\"#Button-Box .btnClose\").click(function(){\\r\\n\\t\\t\\t\\t\\twindow.location.href = \\'?_3x3166263Z1U19K21ddf01b-7f78-41fa-924c-279e4322d77b\\';\\r\\n\\t\\t\\t\\t});\\r\\n\\t\\t\\t}\\r\\n\\t\\t});\\r\\n\\t\\n\\n\\n'"
      ]
     },
     "execution_count": 57,
     "metadata": {},
     "output_type": "execute_result"
    }
   ],
   "source": [
    "#for script in soup_obj([\"script\", \"style\"]):\n",
    "#    script.extract() # Remove these two elements from the BS4 object\n",
    "\n",
    "text = soup_obj.get_text()\n",
    "text"
   ]
  },
  {
   "cell_type": "code",
   "execution_count": null,
   "metadata": {
    "collapsed": true
   },
   "outputs": [],
   "source": []
  }
 ],
 "metadata": {
  "kernelspec": {
   "display_name": "Python2.7_web_scraping",
   "language": "python",
   "name": "web_scraping"
  },
  "language_info": {
   "codemirror_mode": {
    "name": "ipython",
    "version": 2
   },
   "file_extension": ".py",
   "mimetype": "text/x-python",
   "name": "python",
   "nbconvert_exporter": "python",
   "pygments_lexer": "ipython2",
   "version": "2.7.11"
  }
 },
 "nbformat": 4,
 "nbformat_minor": 0
}
